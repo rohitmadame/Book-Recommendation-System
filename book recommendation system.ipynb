{
  "nbformat": 4,
  "nbformat_minor": 0,
  "metadata": {
    "colab": {
      "name": "Untitled0.ipynb",
      "provenance": [],
      "collapsed_sections": []
    },
    "kernelspec": {
      "name": "python3",
      "display_name": "Python 3"
    },
    "language_info": {
      "name": "python"
    }
  },
  "cells": [
    {
      "cell_type": "code",
      "execution_count": 1,
      "metadata": {
        "id": "91MrPXP-Etec"
      },
      "outputs": [],
      "source": [
        "#Importing libraries\n",
        "import pandas as pd\n",
        "import numpy as np\n",
        "import seaborn as sns\n",
        "import matplotlib.pyplot as plt\n",
        "%matplotlib inline\n",
        "import warnings\n",
        "warnings.filterwarnings('ignore')"
      ]
    },
    {
      "cell_type": "code",
      "source": [
        "# Mounting drive to google coalb\n",
        "from google.colab import drive\n",
        "drive.mount('/content/drive')"
      ],
      "metadata": {
        "id": "D_sttE8BFfkW",
        "colab": {
          "base_uri": "https://localhost:8080/"
        },
        "outputId": "931a78ed-2675-4685-8979-77ad5ebe010c"
      },
      "execution_count": 2,
      "outputs": [
        {
          "output_type": "stream",
          "name": "stdout",
          "text": [
            "Mounted at /content/drive\n"
          ]
        }
      ]
    },
    {
      "cell_type": "code",
      "source": [
        "#Loading the path\n",
        "\n",
        "file_path= \"/content/drive/MyDrive/Book Recommendation System -Rohit Madame/Books.csv\"\n",
        "file_path1=\"/content/drive/MyDrive/Book Recommendation System -Rohit Madame/Ratings.csv\"\n",
        "file_path2=\"/content/drive/MyDrive/Book Recommendation System -Rohit Madame/Users.csv\""
      ],
      "metadata": {
        "id": "khw2OqvaFiYw"
      },
      "execution_count": 3,
      "outputs": []
    },
    {
      "cell_type": "code",
      "source": [
        "#Reading book data\n",
        "book_df=pd.read_csv(file_path)"
      ],
      "metadata": {
        "id": "GmElLSR7GisI"
      },
      "execution_count": 4,
      "outputs": []
    },
    {
      "cell_type": "code",
      "source": [
        "#Reading rating dataset\n",
        "rating_df=pd.read_csv(file_path1)"
      ],
      "metadata": {
        "id": "lYfns9k9Grpm"
      },
      "execution_count": 5,
      "outputs": []
    },
    {
      "cell_type": "code",
      "source": [
        "#Reading user dataset\n",
        "user_df=pd.read_csv(file_path2)"
      ],
      "metadata": {
        "id": "pCow5gCqH78k"
      },
      "execution_count": 6,
      "outputs": []
    },
    {
      "cell_type": "code",
      "source": [
        "#Looking for the shape of dataset\n",
        "\n",
        "print(f'The shape for book data is {book_df.shape}')\n",
        "print(f'The shape for user data is {user_df.shape}')\n",
        "print(f'The shape for ratings data is {rating_df.shape}')"
      ],
      "metadata": {
        "id": "TAT7BuJQICEP",
        "colab": {
          "base_uri": "https://localhost:8080/"
        },
        "outputId": "81bd5f20-8e6a-4b7e-dceb-bc9b8ebb2faa"
      },
      "execution_count": 7,
      "outputs": [
        {
          "output_type": "stream",
          "name": "stdout",
          "text": [
            "The shape for book data is (271360, 8)\n",
            "The shape for user data is (278858, 3)\n",
            "The shape for ratings data is (1149780, 3)\n"
          ]
        }
      ]
    },
    {
      "cell_type": "code",
      "source": [
        "#Looking for first five rows of book\n",
        "book_df.head()"
      ],
      "metadata": {
        "id": "WYT6uRxNJ4Mj",
        "colab": {
          "base_uri": "https://localhost:8080/",
          "height": 478
        },
        "outputId": "dad60ebd-1401-4466-e76e-b0bcc5fa0bcf"
      },
      "execution_count": 8,
      "outputs": [
        {
          "output_type": "execute_result",
          "data": {
            "text/plain": [
              "         ISBN                                         Book-Title  \\\n",
              "0  0195153448                                Classical Mythology   \n",
              "1  0002005018                                       Clara Callan   \n",
              "2  0060973129                               Decision in Normandy   \n",
              "3  0374157065  Flu: The Story of the Great Influenza Pandemic...   \n",
              "4  0393045218                             The Mummies of Urumchi   \n",
              "\n",
              "            Book-Author Year-Of-Publication                   Publisher  \\\n",
              "0    Mark P. O. Morford                2002     Oxford University Press   \n",
              "1  Richard Bruce Wright                2001       HarperFlamingo Canada   \n",
              "2          Carlo D'Este                1991             HarperPerennial   \n",
              "3      Gina Bari Kolata                1999        Farrar Straus Giroux   \n",
              "4       E. J. W. Barber                1999  W. W. Norton &amp; Company   \n",
              "\n",
              "                                         Image-URL-S  \\\n",
              "0  http://images.amazon.com/images/P/0195153448.0...   \n",
              "1  http://images.amazon.com/images/P/0002005018.0...   \n",
              "2  http://images.amazon.com/images/P/0060973129.0...   \n",
              "3  http://images.amazon.com/images/P/0374157065.0...   \n",
              "4  http://images.amazon.com/images/P/0393045218.0...   \n",
              "\n",
              "                                         Image-URL-M  \\\n",
              "0  http://images.amazon.com/images/P/0195153448.0...   \n",
              "1  http://images.amazon.com/images/P/0002005018.0...   \n",
              "2  http://images.amazon.com/images/P/0060973129.0...   \n",
              "3  http://images.amazon.com/images/P/0374157065.0...   \n",
              "4  http://images.amazon.com/images/P/0393045218.0...   \n",
              "\n",
              "                                         Image-URL-L  \n",
              "0  http://images.amazon.com/images/P/0195153448.0...  \n",
              "1  http://images.amazon.com/images/P/0002005018.0...  \n",
              "2  http://images.amazon.com/images/P/0060973129.0...  \n",
              "3  http://images.amazon.com/images/P/0374157065.0...  \n",
              "4  http://images.amazon.com/images/P/0393045218.0...  "
            ],
            "text/html": [
              "\n",
              "  <div id=\"df-a56b7563-2224-4b07-8777-68a19c600d4e\">\n",
              "    <div class=\"colab-df-container\">\n",
              "      <div>\n",
              "<style scoped>\n",
              "    .dataframe tbody tr th:only-of-type {\n",
              "        vertical-align: middle;\n",
              "    }\n",
              "\n",
              "    .dataframe tbody tr th {\n",
              "        vertical-align: top;\n",
              "    }\n",
              "\n",
              "    .dataframe thead th {\n",
              "        text-align: right;\n",
              "    }\n",
              "</style>\n",
              "<table border=\"1\" class=\"dataframe\">\n",
              "  <thead>\n",
              "    <tr style=\"text-align: right;\">\n",
              "      <th></th>\n",
              "      <th>ISBN</th>\n",
              "      <th>Book-Title</th>\n",
              "      <th>Book-Author</th>\n",
              "      <th>Year-Of-Publication</th>\n",
              "      <th>Publisher</th>\n",
              "      <th>Image-URL-S</th>\n",
              "      <th>Image-URL-M</th>\n",
              "      <th>Image-URL-L</th>\n",
              "    </tr>\n",
              "  </thead>\n",
              "  <tbody>\n",
              "    <tr>\n",
              "      <th>0</th>\n",
              "      <td>0195153448</td>\n",
              "      <td>Classical Mythology</td>\n",
              "      <td>Mark P. O. Morford</td>\n",
              "      <td>2002</td>\n",
              "      <td>Oxford University Press</td>\n",
              "      <td>http://images.amazon.com/images/P/0195153448.0...</td>\n",
              "      <td>http://images.amazon.com/images/P/0195153448.0...</td>\n",
              "      <td>http://images.amazon.com/images/P/0195153448.0...</td>\n",
              "    </tr>\n",
              "    <tr>\n",
              "      <th>1</th>\n",
              "      <td>0002005018</td>\n",
              "      <td>Clara Callan</td>\n",
              "      <td>Richard Bruce Wright</td>\n",
              "      <td>2001</td>\n",
              "      <td>HarperFlamingo Canada</td>\n",
              "      <td>http://images.amazon.com/images/P/0002005018.0...</td>\n",
              "      <td>http://images.amazon.com/images/P/0002005018.0...</td>\n",
              "      <td>http://images.amazon.com/images/P/0002005018.0...</td>\n",
              "    </tr>\n",
              "    <tr>\n",
              "      <th>2</th>\n",
              "      <td>0060973129</td>\n",
              "      <td>Decision in Normandy</td>\n",
              "      <td>Carlo D'Este</td>\n",
              "      <td>1991</td>\n",
              "      <td>HarperPerennial</td>\n",
              "      <td>http://images.amazon.com/images/P/0060973129.0...</td>\n",
              "      <td>http://images.amazon.com/images/P/0060973129.0...</td>\n",
              "      <td>http://images.amazon.com/images/P/0060973129.0...</td>\n",
              "    </tr>\n",
              "    <tr>\n",
              "      <th>3</th>\n",
              "      <td>0374157065</td>\n",
              "      <td>Flu: The Story of the Great Influenza Pandemic...</td>\n",
              "      <td>Gina Bari Kolata</td>\n",
              "      <td>1999</td>\n",
              "      <td>Farrar Straus Giroux</td>\n",
              "      <td>http://images.amazon.com/images/P/0374157065.0...</td>\n",
              "      <td>http://images.amazon.com/images/P/0374157065.0...</td>\n",
              "      <td>http://images.amazon.com/images/P/0374157065.0...</td>\n",
              "    </tr>\n",
              "    <tr>\n",
              "      <th>4</th>\n",
              "      <td>0393045218</td>\n",
              "      <td>The Mummies of Urumchi</td>\n",
              "      <td>E. J. W. Barber</td>\n",
              "      <td>1999</td>\n",
              "      <td>W. W. Norton &amp;amp; Company</td>\n",
              "      <td>http://images.amazon.com/images/P/0393045218.0...</td>\n",
              "      <td>http://images.amazon.com/images/P/0393045218.0...</td>\n",
              "      <td>http://images.amazon.com/images/P/0393045218.0...</td>\n",
              "    </tr>\n",
              "  </tbody>\n",
              "</table>\n",
              "</div>\n",
              "      <button class=\"colab-df-convert\" onclick=\"convertToInteractive('df-a56b7563-2224-4b07-8777-68a19c600d4e')\"\n",
              "              title=\"Convert this dataframe to an interactive table.\"\n",
              "              style=\"display:none;\">\n",
              "        \n",
              "  <svg xmlns=\"http://www.w3.org/2000/svg\" height=\"24px\"viewBox=\"0 0 24 24\"\n",
              "       width=\"24px\">\n",
              "    <path d=\"M0 0h24v24H0V0z\" fill=\"none\"/>\n",
              "    <path d=\"M18.56 5.44l.94 2.06.94-2.06 2.06-.94-2.06-.94-.94-2.06-.94 2.06-2.06.94zm-11 1L8.5 8.5l.94-2.06 2.06-.94-2.06-.94L8.5 2.5l-.94 2.06-2.06.94zm10 10l.94 2.06.94-2.06 2.06-.94-2.06-.94-.94-2.06-.94 2.06-2.06.94z\"/><path d=\"M17.41 7.96l-1.37-1.37c-.4-.4-.92-.59-1.43-.59-.52 0-1.04.2-1.43.59L10.3 9.45l-7.72 7.72c-.78.78-.78 2.05 0 2.83L4 21.41c.39.39.9.59 1.41.59.51 0 1.02-.2 1.41-.59l7.78-7.78 2.81-2.81c.8-.78.8-2.07 0-2.86zM5.41 20L4 18.59l7.72-7.72 1.47 1.35L5.41 20z\"/>\n",
              "  </svg>\n",
              "      </button>\n",
              "      \n",
              "  <style>\n",
              "    .colab-df-container {\n",
              "      display:flex;\n",
              "      flex-wrap:wrap;\n",
              "      gap: 12px;\n",
              "    }\n",
              "\n",
              "    .colab-df-convert {\n",
              "      background-color: #E8F0FE;\n",
              "      border: none;\n",
              "      border-radius: 50%;\n",
              "      cursor: pointer;\n",
              "      display: none;\n",
              "      fill: #1967D2;\n",
              "      height: 32px;\n",
              "      padding: 0 0 0 0;\n",
              "      width: 32px;\n",
              "    }\n",
              "\n",
              "    .colab-df-convert:hover {\n",
              "      background-color: #E2EBFA;\n",
              "      box-shadow: 0px 1px 2px rgba(60, 64, 67, 0.3), 0px 1px 3px 1px rgba(60, 64, 67, 0.15);\n",
              "      fill: #174EA6;\n",
              "    }\n",
              "\n",
              "    [theme=dark] .colab-df-convert {\n",
              "      background-color: #3B4455;\n",
              "      fill: #D2E3FC;\n",
              "    }\n",
              "\n",
              "    [theme=dark] .colab-df-convert:hover {\n",
              "      background-color: #434B5C;\n",
              "      box-shadow: 0px 1px 3px 1px rgba(0, 0, 0, 0.15);\n",
              "      filter: drop-shadow(0px 1px 2px rgba(0, 0, 0, 0.3));\n",
              "      fill: #FFFFFF;\n",
              "    }\n",
              "  </style>\n",
              "\n",
              "      <script>\n",
              "        const buttonEl =\n",
              "          document.querySelector('#df-a56b7563-2224-4b07-8777-68a19c600d4e button.colab-df-convert');\n",
              "        buttonEl.style.display =\n",
              "          google.colab.kernel.accessAllowed ? 'block' : 'none';\n",
              "\n",
              "        async function convertToInteractive(key) {\n",
              "          const element = document.querySelector('#df-a56b7563-2224-4b07-8777-68a19c600d4e');\n",
              "          const dataTable =\n",
              "            await google.colab.kernel.invokeFunction('convertToInteractive',\n",
              "                                                     [key], {});\n",
              "          if (!dataTable) return;\n",
              "\n",
              "          const docLinkHtml = 'Like what you see? Visit the ' +\n",
              "            '<a target=\"_blank\" href=https://colab.research.google.com/notebooks/data_table.ipynb>data table notebook</a>'\n",
              "            + ' to learn more about interactive tables.';\n",
              "          element.innerHTML = '';\n",
              "          dataTable['output_type'] = 'display_data';\n",
              "          await google.colab.output.renderOutput(dataTable, element);\n",
              "          const docLink = document.createElement('div');\n",
              "          docLink.innerHTML = docLinkHtml;\n",
              "          element.appendChild(docLink);\n",
              "        }\n",
              "      </script>\n",
              "    </div>\n",
              "  </div>\n",
              "  "
            ]
          },
          "metadata": {},
          "execution_count": 8
        }
      ]
    },
    {
      "cell_type": "code",
      "source": [
        "# Renaming column name of 'books', 'users' & 'ratings' dataset\n",
        "book_df.rename(columns = {'Book-Title':'title', 'Book-Author':'author', 'Year-Of-Publication':'year', 'Publisher':'publisher'}, inplace=True)\n",
        "user_df.rename(columns = {'User-ID':'user_id', 'Location':'location', 'Age':'age'}, inplace=True)\n",
        "rating_df.rename(columns = {'User-ID':'user_id', 'Book-Rating':'rating'}, inplace=True)"
      ],
      "metadata": {
        "id": "Wz__TjelIIdk"
      },
      "execution_count": 9,
      "outputs": []
    },
    {
      "cell_type": "code",
      "source": [
        "#Dropping Images column as we dont need it\n",
        "book_df.drop(['Image-URL-S',\t'Image-URL-M',\t'Image-URL-L'],axis=1,inplace=True)"
      ],
      "metadata": {
        "id": "DLX0jzUNf3yQ"
      },
      "execution_count": 10,
      "outputs": []
    },
    {
      "cell_type": "code",
      "source": [
        "#Getting info about the book dataset\n",
        "book_df.info()"
      ],
      "metadata": {
        "id": "9ni0wpGLImSr",
        "colab": {
          "base_uri": "https://localhost:8080/"
        },
        "outputId": "a7b7735b-3525-457a-994c-efeef806e666"
      },
      "execution_count": 11,
      "outputs": [
        {
          "output_type": "stream",
          "name": "stdout",
          "text": [
            "<class 'pandas.core.frame.DataFrame'>\n",
            "RangeIndex: 271360 entries, 0 to 271359\n",
            "Data columns (total 5 columns):\n",
            " #   Column     Non-Null Count   Dtype \n",
            "---  ------     --------------   ----- \n",
            " 0   ISBN       271360 non-null  object\n",
            " 1   title      271360 non-null  object\n",
            " 2   author     271359 non-null  object\n",
            " 3   year       271360 non-null  object\n",
            " 4   publisher  271358 non-null  object\n",
            "dtypes: object(5)\n",
            "memory usage: 10.4+ MB\n"
          ]
        }
      ]
    },
    {
      "cell_type": "code",
      "source": [
        "#Looking for unique values in year column of book data\n",
        "book_df['year'].unique()"
      ],
      "metadata": {
        "id": "SZj86PKlKymt",
        "colab": {
          "base_uri": "https://localhost:8080/"
        },
        "outputId": "32604a8c-6dad-42e6-835e-ec776d643705"
      },
      "execution_count": 12,
      "outputs": [
        {
          "output_type": "execute_result",
          "data": {
            "text/plain": [
              "array([2002, 2001, 1991, 1999, 2000, 1993, 1996, 1988, 2004, 1998, 1994,\n",
              "       2003, 1997, 1983, 1979, 1995, 1982, 1985, 1992, 1986, 1978, 1980,\n",
              "       1952, 1987, 1990, 1981, 1989, 1984, 0, 1968, 1961, 1958, 1974,\n",
              "       1976, 1971, 1977, 1975, 1965, 1941, 1970, 1962, 1973, 1972, 1960,\n",
              "       1966, 1920, 1956, 1959, 1953, 1951, 1942, 1963, 1964, 1969, 1954,\n",
              "       1950, 1967, 2005, 1957, 1940, 1937, 1955, 1946, 1936, 1930, 2011,\n",
              "       1925, 1948, 1943, 1947, 1945, 1923, 2020, 1939, 1926, 1938, 2030,\n",
              "       1911, 1904, 1949, 1932, 1928, 1929, 1927, 1931, 1914, 2050, 1934,\n",
              "       1910, 1933, 1902, 1924, 1921, 1900, 2038, 2026, 1944, 1917, 1901,\n",
              "       2010, 1908, 1906, 1935, 1806, 2021, '2000', '1995', '1999', '2004',\n",
              "       '2003', '1990', '1994', '1986', '1989', '2002', '1981', '1993',\n",
              "       '1983', '1982', '1976', '1991', '1977', '1998', '1992', '1996',\n",
              "       '0', '1997', '2001', '1974', '1968', '1987', '1984', '1988',\n",
              "       '1963', '1956', '1970', '1985', '1978', '1973', '1980', '1979',\n",
              "       '1975', '1969', '1961', '1965', '1939', '1958', '1950', '1953',\n",
              "       '1966', '1971', '1959', '1972', '1955', '1957', '1945', '1960',\n",
              "       '1967', '1932', '1924', '1964', '2012', '1911', '1927', '1948',\n",
              "       '1962', '2006', '1952', '1940', '1951', '1931', '1954', '2005',\n",
              "       '1930', '1941', '1944', 'DK Publishing Inc', '1943', '1938',\n",
              "       '1900', '1942', '1923', '1920', '1933', 'Gallimard', '1909',\n",
              "       '1946', '2008', '1378', '2030', '1936', '1947', '2011', '2020',\n",
              "       '1919', '1949', '1922', '1897', '2024', '1376', '1926', '2037'],\n",
              "      dtype=object)"
            ]
          },
          "metadata": {},
          "execution_count": 12
        }
      ]
    },
    {
      "cell_type": "code",
      "source": [
        "# book_df[book_df['year']==0]"
      ],
      "metadata": {
        "id": "eNtBb87AK4_U"
      },
      "execution_count": null,
      "outputs": []
    },
    {
      "cell_type": "code",
      "source": [
        "#As we have seen there is  gallimard in the year column. This is wrong, so it is being investigated\n",
        "\n",
        "pd.set_option('display.max_colWidth',None)\n",
        "\n",
        "book_df[book_df['year']=='Gallimard']"
      ],
      "metadata": {
        "id": "H63Ar1ysLDm9",
        "colab": {
          "base_uri": "https://localhost:8080/",
          "height": 81
        },
        "outputId": "e81088b8-ec43-4360-e4b5-6e03cec28d10"
      },
      "execution_count": 13,
      "outputs": [
        {
          "output_type": "execute_result",
          "data": {
            "text/plain": [
              "              ISBN  \\\n",
              "220731  2070426769   \n",
              "\n",
              "                                                                           title  \\\n",
              "220731  Peuple du ciel, suivi de 'Les Bergers\\\";Jean-Marie Gustave Le ClÃ?Â©zio\"   \n",
              "\n",
              "       author       year  \\\n",
              "220731   2003  Gallimard   \n",
              "\n",
              "                                                           publisher  \n",
              "220731  http://images.amazon.com/images/P/2070426769.01.THUMBZZZ.jpg  "
            ],
            "text/html": [
              "\n",
              "  <div id=\"df-e72b19d3-7b7b-4c6a-84b9-2cef3800e2e2\">\n",
              "    <div class=\"colab-df-container\">\n",
              "      <div>\n",
              "<style scoped>\n",
              "    .dataframe tbody tr th:only-of-type {\n",
              "        vertical-align: middle;\n",
              "    }\n",
              "\n",
              "    .dataframe tbody tr th {\n",
              "        vertical-align: top;\n",
              "    }\n",
              "\n",
              "    .dataframe thead th {\n",
              "        text-align: right;\n",
              "    }\n",
              "</style>\n",
              "<table border=\"1\" class=\"dataframe\">\n",
              "  <thead>\n",
              "    <tr style=\"text-align: right;\">\n",
              "      <th></th>\n",
              "      <th>ISBN</th>\n",
              "      <th>title</th>\n",
              "      <th>author</th>\n",
              "      <th>year</th>\n",
              "      <th>publisher</th>\n",
              "    </tr>\n",
              "  </thead>\n",
              "  <tbody>\n",
              "    <tr>\n",
              "      <th>220731</th>\n",
              "      <td>2070426769</td>\n",
              "      <td>Peuple du ciel, suivi de 'Les Bergers\\\";Jean-Marie Gustave Le ClÃ?Â©zio\"</td>\n",
              "      <td>2003</td>\n",
              "      <td>Gallimard</td>\n",
              "      <td>http://images.amazon.com/images/P/2070426769.01.THUMBZZZ.jpg</td>\n",
              "    </tr>\n",
              "  </tbody>\n",
              "</table>\n",
              "</div>\n",
              "      <button class=\"colab-df-convert\" onclick=\"convertToInteractive('df-e72b19d3-7b7b-4c6a-84b9-2cef3800e2e2')\"\n",
              "              title=\"Convert this dataframe to an interactive table.\"\n",
              "              style=\"display:none;\">\n",
              "        \n",
              "  <svg xmlns=\"http://www.w3.org/2000/svg\" height=\"24px\"viewBox=\"0 0 24 24\"\n",
              "       width=\"24px\">\n",
              "    <path d=\"M0 0h24v24H0V0z\" fill=\"none\"/>\n",
              "    <path d=\"M18.56 5.44l.94 2.06.94-2.06 2.06-.94-2.06-.94-.94-2.06-.94 2.06-2.06.94zm-11 1L8.5 8.5l.94-2.06 2.06-.94-2.06-.94L8.5 2.5l-.94 2.06-2.06.94zm10 10l.94 2.06.94-2.06 2.06-.94-2.06-.94-.94-2.06-.94 2.06-2.06.94z\"/><path d=\"M17.41 7.96l-1.37-1.37c-.4-.4-.92-.59-1.43-.59-.52 0-1.04.2-1.43.59L10.3 9.45l-7.72 7.72c-.78.78-.78 2.05 0 2.83L4 21.41c.39.39.9.59 1.41.59.51 0 1.02-.2 1.41-.59l7.78-7.78 2.81-2.81c.8-.78.8-2.07 0-2.86zM5.41 20L4 18.59l7.72-7.72 1.47 1.35L5.41 20z\"/>\n",
              "  </svg>\n",
              "      </button>\n",
              "      \n",
              "  <style>\n",
              "    .colab-df-container {\n",
              "      display:flex;\n",
              "      flex-wrap:wrap;\n",
              "      gap: 12px;\n",
              "    }\n",
              "\n",
              "    .colab-df-convert {\n",
              "      background-color: #E8F0FE;\n",
              "      border: none;\n",
              "      border-radius: 50%;\n",
              "      cursor: pointer;\n",
              "      display: none;\n",
              "      fill: #1967D2;\n",
              "      height: 32px;\n",
              "      padding: 0 0 0 0;\n",
              "      width: 32px;\n",
              "    }\n",
              "\n",
              "    .colab-df-convert:hover {\n",
              "      background-color: #E2EBFA;\n",
              "      box-shadow: 0px 1px 2px rgba(60, 64, 67, 0.3), 0px 1px 3px 1px rgba(60, 64, 67, 0.15);\n",
              "      fill: #174EA6;\n",
              "    }\n",
              "\n",
              "    [theme=dark] .colab-df-convert {\n",
              "      background-color: #3B4455;\n",
              "      fill: #D2E3FC;\n",
              "    }\n",
              "\n",
              "    [theme=dark] .colab-df-convert:hover {\n",
              "      background-color: #434B5C;\n",
              "      box-shadow: 0px 1px 3px 1px rgba(0, 0, 0, 0.15);\n",
              "      filter: drop-shadow(0px 1px 2px rgba(0, 0, 0, 0.3));\n",
              "      fill: #FFFFFF;\n",
              "    }\n",
              "  </style>\n",
              "\n",
              "      <script>\n",
              "        const buttonEl =\n",
              "          document.querySelector('#df-e72b19d3-7b7b-4c6a-84b9-2cef3800e2e2 button.colab-df-convert');\n",
              "        buttonEl.style.display =\n",
              "          google.colab.kernel.accessAllowed ? 'block' : 'none';\n",
              "\n",
              "        async function convertToInteractive(key) {\n",
              "          const element = document.querySelector('#df-e72b19d3-7b7b-4c6a-84b9-2cef3800e2e2');\n",
              "          const dataTable =\n",
              "            await google.colab.kernel.invokeFunction('convertToInteractive',\n",
              "                                                     [key], {});\n",
              "          if (!dataTable) return;\n",
              "\n",
              "          const docLinkHtml = 'Like what you see? Visit the ' +\n",
              "            '<a target=\"_blank\" href=https://colab.research.google.com/notebooks/data_table.ipynb>data table notebook</a>'\n",
              "            + ' to learn more about interactive tables.';\n",
              "          element.innerHTML = '';\n",
              "          dataTable['output_type'] = 'display_data';\n",
              "          await google.colab.output.renderOutput(dataTable, element);\n",
              "          const docLink = document.createElement('div');\n",
              "          docLink.innerHTML = docLinkHtml;\n",
              "          element.appendChild(docLink);\n",
              "        }\n",
              "      </script>\n",
              "    </div>\n",
              "  </div>\n",
              "  "
            ]
          },
          "metadata": {},
          "execution_count": 13
        }
      ]
    },
    {
      "cell_type": "code",
      "source": [
        "#From above, it is seen that bookAuthor is incorrectly loaded with bookTitle, hence making required corrections\n",
        "#ISBN '2070426769'\n",
        "book_df.loc[book_df.ISBN=='2070426769','year']=2003\n",
        "book_df.loc[book_df.ISBN=='2070426769','author']='Jean-Marie Gustave Le ClÃ?Â©zio'\n",
        "book_df.loc[book_df.ISBN=='2070426769','title']='Peuple du ciel, suivi de Les Bergers'\n",
        "book_df.loc[book_df.ISBN=='2070426769','publisher']='Gallimard'"
      ],
      "metadata": {
        "id": "04jROYtaXDwL"
      },
      "execution_count": 14,
      "outputs": []
    },
    {
      "cell_type": "code",
      "source": [
        "#As we have seen there is  DK Publishing in the year column. This is wrong, so it is being investigated\n",
        "\n",
        "pd.set_option('display.max_colWidth',None)\n",
        "\n",
        "book_df[book_df['year']=='DK Publishing Inc']"
      ],
      "metadata": {
        "id": "5ejz8PygLPI_",
        "colab": {
          "base_uri": "https://localhost:8080/",
          "height": 191
        },
        "outputId": "7a2cdde7-b6eb-4ddb-9081-9d78fb7b7ff4"
      },
      "execution_count": 15,
      "outputs": [
        {
          "output_type": "execute_result",
          "data": {
            "text/plain": [
              "              ISBN  \\\n",
              "209538  078946697X   \n",
              "221678  0789466953   \n",
              "\n",
              "                                                                                                              title  \\\n",
              "209538         DK Readers: Creating the X-Men, How It All Began (Level 4: Proficient Readers)\\\";Michael Teitelbaum\"   \n",
              "221678  DK Readers: Creating the X-Men, How Comic Books Come to Life (Level 4: Proficient Readers)\\\";James Buckley\"   \n",
              "\n",
              "       author               year  \\\n",
              "209538   2000  DK Publishing Inc   \n",
              "221678   2000  DK Publishing Inc   \n",
              "\n",
              "                                                           publisher  \n",
              "209538  http://images.amazon.com/images/P/078946697X.01.THUMBZZZ.jpg  \n",
              "221678  http://images.amazon.com/images/P/0789466953.01.THUMBZZZ.jpg  "
            ],
            "text/html": [
              "\n",
              "  <div id=\"df-057ba51b-ef1a-4c39-8151-1bce40abb3f8\">\n",
              "    <div class=\"colab-df-container\">\n",
              "      <div>\n",
              "<style scoped>\n",
              "    .dataframe tbody tr th:only-of-type {\n",
              "        vertical-align: middle;\n",
              "    }\n",
              "\n",
              "    .dataframe tbody tr th {\n",
              "        vertical-align: top;\n",
              "    }\n",
              "\n",
              "    .dataframe thead th {\n",
              "        text-align: right;\n",
              "    }\n",
              "</style>\n",
              "<table border=\"1\" class=\"dataframe\">\n",
              "  <thead>\n",
              "    <tr style=\"text-align: right;\">\n",
              "      <th></th>\n",
              "      <th>ISBN</th>\n",
              "      <th>title</th>\n",
              "      <th>author</th>\n",
              "      <th>year</th>\n",
              "      <th>publisher</th>\n",
              "    </tr>\n",
              "  </thead>\n",
              "  <tbody>\n",
              "    <tr>\n",
              "      <th>209538</th>\n",
              "      <td>078946697X</td>\n",
              "      <td>DK Readers: Creating the X-Men, How It All Began (Level 4: Proficient Readers)\\\";Michael Teitelbaum\"</td>\n",
              "      <td>2000</td>\n",
              "      <td>DK Publishing Inc</td>\n",
              "      <td>http://images.amazon.com/images/P/078946697X.01.THUMBZZZ.jpg</td>\n",
              "    </tr>\n",
              "    <tr>\n",
              "      <th>221678</th>\n",
              "      <td>0789466953</td>\n",
              "      <td>DK Readers: Creating the X-Men, How Comic Books Come to Life (Level 4: Proficient Readers)\\\";James Buckley\"</td>\n",
              "      <td>2000</td>\n",
              "      <td>DK Publishing Inc</td>\n",
              "      <td>http://images.amazon.com/images/P/0789466953.01.THUMBZZZ.jpg</td>\n",
              "    </tr>\n",
              "  </tbody>\n",
              "</table>\n",
              "</div>\n",
              "      <button class=\"colab-df-convert\" onclick=\"convertToInteractive('df-057ba51b-ef1a-4c39-8151-1bce40abb3f8')\"\n",
              "              title=\"Convert this dataframe to an interactive table.\"\n",
              "              style=\"display:none;\">\n",
              "        \n",
              "  <svg xmlns=\"http://www.w3.org/2000/svg\" height=\"24px\"viewBox=\"0 0 24 24\"\n",
              "       width=\"24px\">\n",
              "    <path d=\"M0 0h24v24H0V0z\" fill=\"none\"/>\n",
              "    <path d=\"M18.56 5.44l.94 2.06.94-2.06 2.06-.94-2.06-.94-.94-2.06-.94 2.06-2.06.94zm-11 1L8.5 8.5l.94-2.06 2.06-.94-2.06-.94L8.5 2.5l-.94 2.06-2.06.94zm10 10l.94 2.06.94-2.06 2.06-.94-2.06-.94-.94-2.06-.94 2.06-2.06.94z\"/><path d=\"M17.41 7.96l-1.37-1.37c-.4-.4-.92-.59-1.43-.59-.52 0-1.04.2-1.43.59L10.3 9.45l-7.72 7.72c-.78.78-.78 2.05 0 2.83L4 21.41c.39.39.9.59 1.41.59.51 0 1.02-.2 1.41-.59l7.78-7.78 2.81-2.81c.8-.78.8-2.07 0-2.86zM5.41 20L4 18.59l7.72-7.72 1.47 1.35L5.41 20z\"/>\n",
              "  </svg>\n",
              "      </button>\n",
              "      \n",
              "  <style>\n",
              "    .colab-df-container {\n",
              "      display:flex;\n",
              "      flex-wrap:wrap;\n",
              "      gap: 12px;\n",
              "    }\n",
              "\n",
              "    .colab-df-convert {\n",
              "      background-color: #E8F0FE;\n",
              "      border: none;\n",
              "      border-radius: 50%;\n",
              "      cursor: pointer;\n",
              "      display: none;\n",
              "      fill: #1967D2;\n",
              "      height: 32px;\n",
              "      padding: 0 0 0 0;\n",
              "      width: 32px;\n",
              "    }\n",
              "\n",
              "    .colab-df-convert:hover {\n",
              "      background-color: #E2EBFA;\n",
              "      box-shadow: 0px 1px 2px rgba(60, 64, 67, 0.3), 0px 1px 3px 1px rgba(60, 64, 67, 0.15);\n",
              "      fill: #174EA6;\n",
              "    }\n",
              "\n",
              "    [theme=dark] .colab-df-convert {\n",
              "      background-color: #3B4455;\n",
              "      fill: #D2E3FC;\n",
              "    }\n",
              "\n",
              "    [theme=dark] .colab-df-convert:hover {\n",
              "      background-color: #434B5C;\n",
              "      box-shadow: 0px 1px 3px 1px rgba(0, 0, 0, 0.15);\n",
              "      filter: drop-shadow(0px 1px 2px rgba(0, 0, 0, 0.3));\n",
              "      fill: #FFFFFF;\n",
              "    }\n",
              "  </style>\n",
              "\n",
              "      <script>\n",
              "        const buttonEl =\n",
              "          document.querySelector('#df-057ba51b-ef1a-4c39-8151-1bce40abb3f8 button.colab-df-convert');\n",
              "        buttonEl.style.display =\n",
              "          google.colab.kernel.accessAllowed ? 'block' : 'none';\n",
              "\n",
              "        async function convertToInteractive(key) {\n",
              "          const element = document.querySelector('#df-057ba51b-ef1a-4c39-8151-1bce40abb3f8');\n",
              "          const dataTable =\n",
              "            await google.colab.kernel.invokeFunction('convertToInteractive',\n",
              "                                                     [key], {});\n",
              "          if (!dataTable) return;\n",
              "\n",
              "          const docLinkHtml = 'Like what you see? Visit the ' +\n",
              "            '<a target=\"_blank\" href=https://colab.research.google.com/notebooks/data_table.ipynb>data table notebook</a>'\n",
              "            + ' to learn more about interactive tables.';\n",
              "          element.innerHTML = '';\n",
              "          dataTable['output_type'] = 'display_data';\n",
              "          await google.colab.output.renderOutput(dataTable, element);\n",
              "          const docLink = document.createElement('div');\n",
              "          docLink.innerHTML = docLinkHtml;\n",
              "          element.appendChild(docLink);\n",
              "        }\n",
              "      </script>\n",
              "    </div>\n",
              "  </div>\n",
              "  "
            ]
          },
          "metadata": {},
          "execution_count": 15
        }
      ]
    },
    {
      "cell_type": "code",
      "source": [
        "#From above, it is seen that bookAuthor is incorrectly loaded with bookTitle, hence making required corrections\n",
        "#ISBN '0789466953'\n",
        "book_df.loc[book_df.ISBN=='0789466953','year']=2000\n",
        "book_df.loc[book_df.ISBN=='0789466953','author']='Michael Teitelbaum'\n",
        "book_df.loc[book_df.ISBN=='0789466953','publisher']='DK Publishing Inc'\n",
        "book_df.loc[book_df.ISBN=='0789466953','title']='DK Readers: Creating the X-Men, How Comic Books Come to Life (Level 4: Proficient Readers)'\n"
      ],
      "metadata": {
        "id": "EyPJM58MQk21"
      },
      "execution_count": 16,
      "outputs": []
    },
    {
      "cell_type": "code",
      "source": [
        "#From above, it is seen that bookAuthor is incorrectly loaded with bookTitle, hence making required corrections\n",
        "#ISBN '078946697X'\n",
        "book_df.loc[book_df.ISBN=='078946697X','year']=2000\n",
        "book_df.loc[book_df.ISBN=='078946697X','author']='James Buckley'\n",
        "book_df.loc[book_df.ISBN=='078946697X','publisher']='DK Publishing Inc'\n",
        "book_df.loc[book_df.ISBN=='078946697X','title']='DK Readers: Creating the X-Men, How It All Began (Level 4: Proficient Readers)'\n"
      ],
      "metadata": {
        "id": "D8LP2qEcNY-R"
      },
      "execution_count": 17,
      "outputs": []
    },
    {
      "cell_type": "code",
      "source": [
        "#Description about the book data\n",
        "book_df.describe().T"
      ],
      "metadata": {
        "id": "arh_5uDVM23q",
        "colab": {
          "base_uri": "https://localhost:8080/",
          "height": 206
        },
        "outputId": "3eea9794-773a-46db-b1be-1d9c0778a3b7"
      },
      "execution_count": 18,
      "outputs": [
        {
          "output_type": "execute_result",
          "data": {
            "text/plain": [
              "            count  unique              top   freq\n",
              "ISBN       271360  271360       0195153448      1\n",
              "title      271360  242135   Selected Poems     27\n",
              "author     271359  102021  Agatha Christie    632\n",
              "year       271360     200             2002  13903\n",
              "publisher  271358   16804        Harlequin   7535"
            ],
            "text/html": [
              "\n",
              "  <div id=\"df-f1771a64-c168-4517-9d08-6f37a8d95568\">\n",
              "    <div class=\"colab-df-container\">\n",
              "      <div>\n",
              "<style scoped>\n",
              "    .dataframe tbody tr th:only-of-type {\n",
              "        vertical-align: middle;\n",
              "    }\n",
              "\n",
              "    .dataframe tbody tr th {\n",
              "        vertical-align: top;\n",
              "    }\n",
              "\n",
              "    .dataframe thead th {\n",
              "        text-align: right;\n",
              "    }\n",
              "</style>\n",
              "<table border=\"1\" class=\"dataframe\">\n",
              "  <thead>\n",
              "    <tr style=\"text-align: right;\">\n",
              "      <th></th>\n",
              "      <th>count</th>\n",
              "      <th>unique</th>\n",
              "      <th>top</th>\n",
              "      <th>freq</th>\n",
              "    </tr>\n",
              "  </thead>\n",
              "  <tbody>\n",
              "    <tr>\n",
              "      <th>ISBN</th>\n",
              "      <td>271360</td>\n",
              "      <td>271360</td>\n",
              "      <td>0195153448</td>\n",
              "      <td>1</td>\n",
              "    </tr>\n",
              "    <tr>\n",
              "      <th>title</th>\n",
              "      <td>271360</td>\n",
              "      <td>242135</td>\n",
              "      <td>Selected Poems</td>\n",
              "      <td>27</td>\n",
              "    </tr>\n",
              "    <tr>\n",
              "      <th>author</th>\n",
              "      <td>271359</td>\n",
              "      <td>102021</td>\n",
              "      <td>Agatha Christie</td>\n",
              "      <td>632</td>\n",
              "    </tr>\n",
              "    <tr>\n",
              "      <th>year</th>\n",
              "      <td>271360</td>\n",
              "      <td>200</td>\n",
              "      <td>2002</td>\n",
              "      <td>13903</td>\n",
              "    </tr>\n",
              "    <tr>\n",
              "      <th>publisher</th>\n",
              "      <td>271358</td>\n",
              "      <td>16804</td>\n",
              "      <td>Harlequin</td>\n",
              "      <td>7535</td>\n",
              "    </tr>\n",
              "  </tbody>\n",
              "</table>\n",
              "</div>\n",
              "      <button class=\"colab-df-convert\" onclick=\"convertToInteractive('df-f1771a64-c168-4517-9d08-6f37a8d95568')\"\n",
              "              title=\"Convert this dataframe to an interactive table.\"\n",
              "              style=\"display:none;\">\n",
              "        \n",
              "  <svg xmlns=\"http://www.w3.org/2000/svg\" height=\"24px\"viewBox=\"0 0 24 24\"\n",
              "       width=\"24px\">\n",
              "    <path d=\"M0 0h24v24H0V0z\" fill=\"none\"/>\n",
              "    <path d=\"M18.56 5.44l.94 2.06.94-2.06 2.06-.94-2.06-.94-.94-2.06-.94 2.06-2.06.94zm-11 1L8.5 8.5l.94-2.06 2.06-.94-2.06-.94L8.5 2.5l-.94 2.06-2.06.94zm10 10l.94 2.06.94-2.06 2.06-.94-2.06-.94-.94-2.06-.94 2.06-2.06.94z\"/><path d=\"M17.41 7.96l-1.37-1.37c-.4-.4-.92-.59-1.43-.59-.52 0-1.04.2-1.43.59L10.3 9.45l-7.72 7.72c-.78.78-.78 2.05 0 2.83L4 21.41c.39.39.9.59 1.41.59.51 0 1.02-.2 1.41-.59l7.78-7.78 2.81-2.81c.8-.78.8-2.07 0-2.86zM5.41 20L4 18.59l7.72-7.72 1.47 1.35L5.41 20z\"/>\n",
              "  </svg>\n",
              "      </button>\n",
              "      \n",
              "  <style>\n",
              "    .colab-df-container {\n",
              "      display:flex;\n",
              "      flex-wrap:wrap;\n",
              "      gap: 12px;\n",
              "    }\n",
              "\n",
              "    .colab-df-convert {\n",
              "      background-color: #E8F0FE;\n",
              "      border: none;\n",
              "      border-radius: 50%;\n",
              "      cursor: pointer;\n",
              "      display: none;\n",
              "      fill: #1967D2;\n",
              "      height: 32px;\n",
              "      padding: 0 0 0 0;\n",
              "      width: 32px;\n",
              "    }\n",
              "\n",
              "    .colab-df-convert:hover {\n",
              "      background-color: #E2EBFA;\n",
              "      box-shadow: 0px 1px 2px rgba(60, 64, 67, 0.3), 0px 1px 3px 1px rgba(60, 64, 67, 0.15);\n",
              "      fill: #174EA6;\n",
              "    }\n",
              "\n",
              "    [theme=dark] .colab-df-convert {\n",
              "      background-color: #3B4455;\n",
              "      fill: #D2E3FC;\n",
              "    }\n",
              "\n",
              "    [theme=dark] .colab-df-convert:hover {\n",
              "      background-color: #434B5C;\n",
              "      box-shadow: 0px 1px 3px 1px rgba(0, 0, 0, 0.15);\n",
              "      filter: drop-shadow(0px 1px 2px rgba(0, 0, 0, 0.3));\n",
              "      fill: #FFFFFF;\n",
              "    }\n",
              "  </style>\n",
              "\n",
              "      <script>\n",
              "        const buttonEl =\n",
              "          document.querySelector('#df-f1771a64-c168-4517-9d08-6f37a8d95568 button.colab-df-convert');\n",
              "        buttonEl.style.display =\n",
              "          google.colab.kernel.accessAllowed ? 'block' : 'none';\n",
              "\n",
              "        async function convertToInteractive(key) {\n",
              "          const element = document.querySelector('#df-f1771a64-c168-4517-9d08-6f37a8d95568');\n",
              "          const dataTable =\n",
              "            await google.colab.kernel.invokeFunction('convertToInteractive',\n",
              "                                                     [key], {});\n",
              "          if (!dataTable) return;\n",
              "\n",
              "          const docLinkHtml = 'Like what you see? Visit the ' +\n",
              "            '<a target=\"_blank\" href=https://colab.research.google.com/notebooks/data_table.ipynb>data table notebook</a>'\n",
              "            + ' to learn more about interactive tables.';\n",
              "          element.innerHTML = '';\n",
              "          dataTable['output_type'] = 'display_data';\n",
              "          await google.colab.output.renderOutput(dataTable, element);\n",
              "          const docLink = document.createElement('div');\n",
              "          docLink.innerHTML = docLinkHtml;\n",
              "          element.appendChild(docLink);\n",
              "        }\n",
              "      </script>\n",
              "    </div>\n",
              "  </div>\n",
              "  "
            ]
          },
          "metadata": {},
          "execution_count": 18
        }
      ]
    },
    {
      "cell_type": "code",
      "source": [
        "#changing year is of object type so changing it to numeric\n",
        " \n",
        "book_df['year']=pd.to_numeric(book_df['year'],errors='coerce')\n"
      ],
      "metadata": {
        "id": "4b_7Af0bXD9V"
      },
      "execution_count": 20,
      "outputs": []
    },
    {
      "cell_type": "code",
      "source": [
        "#Checking for year column\n",
        "book_df.year.dtypes"
      ],
      "metadata": {
        "colab": {
          "base_uri": "https://localhost:8080/"
        },
        "id": "OFGnzpcO-FUx",
        "outputId": "cf1749d8-1a37-4d27-82b4-ab7936fac59e"
      },
      "execution_count": 21,
      "outputs": [
        {
          "output_type": "execute_result",
          "data": {
            "text/plain": [
              "dtype('int64')"
            ]
          },
          "metadata": {},
          "execution_count": 21
        }
      ]
    },
    {
      "cell_type": "code",
      "source": [
        "print(book_df.year.min() )\n",
        "print(book_df.year.max())"
      ],
      "metadata": {
        "colab": {
          "base_uri": "https://localhost:8080/"
        },
        "id": "FGYb9CfD4fGl",
        "outputId": "92e1a330-1632-48e3-b527-11ad1cf85569"
      },
      "execution_count": 25,
      "outputs": [
        {
          "output_type": "stream",
          "name": "stdout",
          "text": [
            "0\n",
            "2050\n"
          ]
        }
      ]
    },
    {
      "cell_type": "code",
      "source": [
        "#Reaplacing values to NAN of minimum value in year and greater than 2022\n",
        "\n",
        "book_df.loc[(book_df['year']>2022) | (book_df['year']==0),'year']=np.NAN"
      ],
      "metadata": {
        "id": "9rRucE388frV"
      },
      "execution_count": 27,
      "outputs": []
    },
    {
      "cell_type": "code",
      "source": [
        "#So checking value of year\n",
        "\n",
        "book_df['year'].unique()"
      ],
      "metadata": {
        "colab": {
          "base_uri": "https://localhost:8080/"
        },
        "id": "hxYfmRrw_1xL",
        "outputId": "9a30a00c-c690-4981-cf45-6f32d98ec109"
      },
      "execution_count": 28,
      "outputs": [
        {
          "output_type": "execute_result",
          "data": {
            "text/plain": [
              "array([2002., 2001., 1991., 1999., 2000., 1993., 1996., 1988., 2004.,\n",
              "       1998., 1994., 2003., 1997., 1983., 1979., 1995., 1982., 1985.,\n",
              "       1992., 1986., 1978., 1980., 1952., 1987., 1990., 1981., 1989.,\n",
              "       1984.,   nan, 1968., 1961., 1958., 1974., 1976., 1971., 1977.,\n",
              "       1975., 1965., 1941., 1970., 1962., 1973., 1972., 1960., 1966.,\n",
              "       1920., 1956., 1959., 1953., 1951., 1942., 1963., 1964., 1969.,\n",
              "       1954., 1950., 1967., 2005., 1957., 1940., 1937., 1955., 1946.,\n",
              "       1936., 1930., 2011., 1925., 1948., 1943., 1947., 1945., 1923.,\n",
              "       2020., 1939., 1926., 1938., 1911., 1904., 1949., 1932., 1928.,\n",
              "       1929., 1927., 1931., 1914., 1934., 1910., 1933., 1902., 1924.,\n",
              "       1921., 1900., 1944., 1917., 1901., 2010., 1908., 1906., 1935.,\n",
              "       1806., 2021., 2012., 2006., 1909., 2008., 1378., 1919., 1922.,\n",
              "       1897., 1376.])"
            ]
          },
          "metadata": {},
          "execution_count": 28
        }
      ]
    },
    {
      "cell_type": "code",
      "source": [
        "#Checking description of year\n",
        "\n",
        "book_df['year'].describe()"
      ],
      "metadata": {
        "colab": {
          "base_uri": "https://localhost:8080/"
        },
        "id": "u3rLZlXLAJ7J",
        "outputId": "6398df51-df8e-494a-97e6-6833d18071bd"
      },
      "execution_count": 29,
      "outputs": [
        {
          "output_type": "execute_result",
          "data": {
            "text/plain": [
              "count    266729.000000\n",
              "mean       1993.687915\n",
              "std           8.321191\n",
              "min        1376.000000\n",
              "25%        1989.000000\n",
              "50%        1996.000000\n",
              "75%        2000.000000\n",
              "max        2021.000000\n",
              "Name: year, dtype: float64"
            ]
          },
          "metadata": {},
          "execution_count": 29
        }
      ]
    },
    {
      "cell_type": "code",
      "source": [
        "#Chekcing for null value's in book dataset\n",
        "\n",
        "book_df.isnull().sum()"
      ],
      "metadata": {
        "colab": {
          "base_uri": "https://localhost:8080/"
        },
        "id": "T7Svl8zoAfUC",
        "outputId": "f24376dd-e77b-4b15-ad1d-82299f3e7b8f"
      },
      "execution_count": 30,
      "outputs": [
        {
          "output_type": "execute_result",
          "data": {
            "text/plain": [
              "ISBN            0\n",
              "title           0\n",
              "author          1\n",
              "year         4631\n",
              "publisher       2\n",
              "dtype: int64"
            ]
          },
          "metadata": {},
          "execution_count": 30
        }
      ]
    },
    {
      "cell_type": "code",
      "source": [
        "#Filling nan values with median in the year column\n",
        "\n",
        "book_df['year'].fillna(round(book_df['year'].median()),inplace=True)"
      ],
      "metadata": {
        "id": "-et91JhtDqKY"
      },
      "execution_count": 31,
      "outputs": []
    },
    {
      "cell_type": "code",
      "source": [
        "#Dropping null values of book data set\n",
        "\n",
        "book_df.dropna(axis=0,inplace=True)"
      ],
      "metadata": {
        "id": "S-wkjqenfBZi"
      },
      "execution_count": 32,
      "outputs": []
    },
    {
      "cell_type": "code",
      "source": [
        "#Checking for null values after dropping nan values\n",
        "\n",
        "book_df.isnull().sum()"
      ],
      "metadata": {
        "colab": {
          "base_uri": "https://localhost:8080/"
        },
        "id": "VUnXuxtXfJia",
        "outputId": "5628451a-a989-450d-94ad-8e5b52e5b456"
      },
      "execution_count": 33,
      "outputs": [
        {
          "output_type": "execute_result",
          "data": {
            "text/plain": [
              "ISBN         0\n",
              "title        0\n",
              "author       0\n",
              "year         0\n",
              "publisher    0\n",
              "dtype: int64"
            ]
          },
          "metadata": {},
          "execution_count": 33
        }
      ]
    },
    {
      "cell_type": "code",
      "source": [
        "#Chekcing for info about book data\n",
        "book_df.info()"
      ],
      "metadata": {
        "colab": {
          "base_uri": "https://localhost:8080/"
        },
        "id": "55nFidOOfWQF",
        "outputId": "c8d3ea3e-d80d-4d06-b64f-c9465abd7e1f"
      },
      "execution_count": 34,
      "outputs": [
        {
          "output_type": "stream",
          "name": "stdout",
          "text": [
            "<class 'pandas.core.frame.DataFrame'>\n",
            "Int64Index: 271357 entries, 0 to 271359\n",
            "Data columns (total 5 columns):\n",
            " #   Column     Non-Null Count   Dtype  \n",
            "---  ------     --------------   -----  \n",
            " 0   ISBN       271357 non-null  object \n",
            " 1   title      271357 non-null  object \n",
            " 2   author     271357 non-null  object \n",
            " 3   year       271357 non-null  float64\n",
            " 4   publisher  271357 non-null  object \n",
            "dtypes: float64(1), object(4)\n",
            "memory usage: 12.4+ MB\n"
          ]
        }
      ]
    },
    {
      "cell_type": "code",
      "source": [
        "#Checking for duplicate values\n",
        "\n",
        "book_df.duplicated().sum()"
      ],
      "metadata": {
        "colab": {
          "base_uri": "https://localhost:8080/"
        },
        "id": "LzzEedorfi0b",
        "outputId": "b8984a4d-6116-4e32-9785-5a072c442cbe"
      },
      "execution_count": 35,
      "outputs": [
        {
          "output_type": "execute_result",
          "data": {
            "text/plain": [
              "0"
            ]
          },
          "metadata": {},
          "execution_count": 35
        }
      ]
    },
    {
      "cell_type": "code",
      "source": [
        ""
      ],
      "metadata": {
        "id": "lP3Pj80rgSLz"
      },
      "execution_count": null,
      "outputs": []
    },
    {
      "cell_type": "markdown",
      "source": [
        "User data"
      ],
      "metadata": {
        "id": "yi8NL2Asg2f7"
      }
    },
    {
      "cell_type": "code",
      "source": [
        "#Checking for user dataset\n",
        "\n",
        "user_df.head()"
      ],
      "metadata": {
        "colab": {
          "base_uri": "https://localhost:8080/",
          "height": 206
        },
        "id": "q7zxmwWyg4mv",
        "outputId": "8c26b3c5-44fa-4c2d-d082-c1e17ce74fe0"
      },
      "execution_count": 36,
      "outputs": [
        {
          "output_type": "execute_result",
          "data": {
            "text/plain": [
              "   user_id                            location   age\n",
              "0        1                  nyc, new york, usa   NaN\n",
              "1        2           stockton, california, usa  18.0\n",
              "2        3     moscow, yukon territory, russia   NaN\n",
              "3        4           porto, v.n.gaia, portugal  17.0\n",
              "4        5  farnborough, hants, united kingdom   NaN"
            ],
            "text/html": [
              "\n",
              "  <div id=\"df-718192b3-86a5-4318-b731-c850b7597aca\">\n",
              "    <div class=\"colab-df-container\">\n",
              "      <div>\n",
              "<style scoped>\n",
              "    .dataframe tbody tr th:only-of-type {\n",
              "        vertical-align: middle;\n",
              "    }\n",
              "\n",
              "    .dataframe tbody tr th {\n",
              "        vertical-align: top;\n",
              "    }\n",
              "\n",
              "    .dataframe thead th {\n",
              "        text-align: right;\n",
              "    }\n",
              "</style>\n",
              "<table border=\"1\" class=\"dataframe\">\n",
              "  <thead>\n",
              "    <tr style=\"text-align: right;\">\n",
              "      <th></th>\n",
              "      <th>user_id</th>\n",
              "      <th>location</th>\n",
              "      <th>age</th>\n",
              "    </tr>\n",
              "  </thead>\n",
              "  <tbody>\n",
              "    <tr>\n",
              "      <th>0</th>\n",
              "      <td>1</td>\n",
              "      <td>nyc, new york, usa</td>\n",
              "      <td>NaN</td>\n",
              "    </tr>\n",
              "    <tr>\n",
              "      <th>1</th>\n",
              "      <td>2</td>\n",
              "      <td>stockton, california, usa</td>\n",
              "      <td>18.0</td>\n",
              "    </tr>\n",
              "    <tr>\n",
              "      <th>2</th>\n",
              "      <td>3</td>\n",
              "      <td>moscow, yukon territory, russia</td>\n",
              "      <td>NaN</td>\n",
              "    </tr>\n",
              "    <tr>\n",
              "      <th>3</th>\n",
              "      <td>4</td>\n",
              "      <td>porto, v.n.gaia, portugal</td>\n",
              "      <td>17.0</td>\n",
              "    </tr>\n",
              "    <tr>\n",
              "      <th>4</th>\n",
              "      <td>5</td>\n",
              "      <td>farnborough, hants, united kingdom</td>\n",
              "      <td>NaN</td>\n",
              "    </tr>\n",
              "  </tbody>\n",
              "</table>\n",
              "</div>\n",
              "      <button class=\"colab-df-convert\" onclick=\"convertToInteractive('df-718192b3-86a5-4318-b731-c850b7597aca')\"\n",
              "              title=\"Convert this dataframe to an interactive table.\"\n",
              "              style=\"display:none;\">\n",
              "        \n",
              "  <svg xmlns=\"http://www.w3.org/2000/svg\" height=\"24px\"viewBox=\"0 0 24 24\"\n",
              "       width=\"24px\">\n",
              "    <path d=\"M0 0h24v24H0V0z\" fill=\"none\"/>\n",
              "    <path d=\"M18.56 5.44l.94 2.06.94-2.06 2.06-.94-2.06-.94-.94-2.06-.94 2.06-2.06.94zm-11 1L8.5 8.5l.94-2.06 2.06-.94-2.06-.94L8.5 2.5l-.94 2.06-2.06.94zm10 10l.94 2.06.94-2.06 2.06-.94-2.06-.94-.94-2.06-.94 2.06-2.06.94z\"/><path d=\"M17.41 7.96l-1.37-1.37c-.4-.4-.92-.59-1.43-.59-.52 0-1.04.2-1.43.59L10.3 9.45l-7.72 7.72c-.78.78-.78 2.05 0 2.83L4 21.41c.39.39.9.59 1.41.59.51 0 1.02-.2 1.41-.59l7.78-7.78 2.81-2.81c.8-.78.8-2.07 0-2.86zM5.41 20L4 18.59l7.72-7.72 1.47 1.35L5.41 20z\"/>\n",
              "  </svg>\n",
              "      </button>\n",
              "      \n",
              "  <style>\n",
              "    .colab-df-container {\n",
              "      display:flex;\n",
              "      flex-wrap:wrap;\n",
              "      gap: 12px;\n",
              "    }\n",
              "\n",
              "    .colab-df-convert {\n",
              "      background-color: #E8F0FE;\n",
              "      border: none;\n",
              "      border-radius: 50%;\n",
              "      cursor: pointer;\n",
              "      display: none;\n",
              "      fill: #1967D2;\n",
              "      height: 32px;\n",
              "      padding: 0 0 0 0;\n",
              "      width: 32px;\n",
              "    }\n",
              "\n",
              "    .colab-df-convert:hover {\n",
              "      background-color: #E2EBFA;\n",
              "      box-shadow: 0px 1px 2px rgba(60, 64, 67, 0.3), 0px 1px 3px 1px rgba(60, 64, 67, 0.15);\n",
              "      fill: #174EA6;\n",
              "    }\n",
              "\n",
              "    [theme=dark] .colab-df-convert {\n",
              "      background-color: #3B4455;\n",
              "      fill: #D2E3FC;\n",
              "    }\n",
              "\n",
              "    [theme=dark] .colab-df-convert:hover {\n",
              "      background-color: #434B5C;\n",
              "      box-shadow: 0px 1px 3px 1px rgba(0, 0, 0, 0.15);\n",
              "      filter: drop-shadow(0px 1px 2px rgba(0, 0, 0, 0.3));\n",
              "      fill: #FFFFFF;\n",
              "    }\n",
              "  </style>\n",
              "\n",
              "      <script>\n",
              "        const buttonEl =\n",
              "          document.querySelector('#df-718192b3-86a5-4318-b731-c850b7597aca button.colab-df-convert');\n",
              "        buttonEl.style.display =\n",
              "          google.colab.kernel.accessAllowed ? 'block' : 'none';\n",
              "\n",
              "        async function convertToInteractive(key) {\n",
              "          const element = document.querySelector('#df-718192b3-86a5-4318-b731-c850b7597aca');\n",
              "          const dataTable =\n",
              "            await google.colab.kernel.invokeFunction('convertToInteractive',\n",
              "                                                     [key], {});\n",
              "          if (!dataTable) return;\n",
              "\n",
              "          const docLinkHtml = 'Like what you see? Visit the ' +\n",
              "            '<a target=\"_blank\" href=https://colab.research.google.com/notebooks/data_table.ipynb>data table notebook</a>'\n",
              "            + ' to learn more about interactive tables.';\n",
              "          element.innerHTML = '';\n",
              "          dataTable['output_type'] = 'display_data';\n",
              "          await google.colab.output.renderOutput(dataTable, element);\n",
              "          const docLink = document.createElement('div');\n",
              "          docLink.innerHTML = docLinkHtml;\n",
              "          element.appendChild(docLink);\n",
              "        }\n",
              "      </script>\n",
              "    </div>\n",
              "  </div>\n",
              "  "
            ]
          },
          "metadata": {},
          "execution_count": 36
        }
      ]
    },
    {
      "cell_type": "code",
      "source": [
        "#Information about User dataset \n",
        "\n",
        "user_df.info()"
      ],
      "metadata": {
        "colab": {
          "base_uri": "https://localhost:8080/"
        },
        "id": "KNINg8RZg7tM",
        "outputId": "2618e1c1-1890-46d1-9906-1e2a7555d014"
      },
      "execution_count": 37,
      "outputs": [
        {
          "output_type": "stream",
          "name": "stdout",
          "text": [
            "<class 'pandas.core.frame.DataFrame'>\n",
            "RangeIndex: 278858 entries, 0 to 278857\n",
            "Data columns (total 3 columns):\n",
            " #   Column    Non-Null Count   Dtype  \n",
            "---  ------    --------------   -----  \n",
            " 0   user_id   278858 non-null  int64  \n",
            " 1   location  278858 non-null  object \n",
            " 2   age       168096 non-null  float64\n",
            "dtypes: float64(1), int64(1), object(1)\n",
            "memory usage: 6.4+ MB\n"
          ]
        }
      ]
    },
    {
      "cell_type": "code",
      "source": [
        "#Chekcing for null values\n",
        "\n",
        "user_df.isnull().sum()"
      ],
      "metadata": {
        "colab": {
          "base_uri": "https://localhost:8080/"
        },
        "id": "lLieQhqHg9oZ",
        "outputId": "88744515-208b-4609-d59d-a14b5f6f7c44"
      },
      "execution_count": 38,
      "outputs": [
        {
          "output_type": "execute_result",
          "data": {
            "text/plain": [
              "user_id          0\n",
              "location         0\n",
              "age         110762\n",
              "dtype: int64"
            ]
          },
          "metadata": {},
          "execution_count": 38
        }
      ]
    },
    {
      "cell_type": "code",
      "source": [
        "#Getting unique value of user id\n",
        "\n",
        "user_df['user_id'].unique()"
      ],
      "metadata": {
        "colab": {
          "base_uri": "https://localhost:8080/"
        },
        "id": "YJlKre6OhB4-",
        "outputId": "3be81050-9a88-4173-cede-79dd41a86592"
      },
      "execution_count": 39,
      "outputs": [
        {
          "output_type": "execute_result",
          "data": {
            "text/plain": [
              "array([     1,      2,      3, ..., 278856, 278857, 278858])"
            ]
          },
          "metadata": {},
          "execution_count": 39
        }
      ]
    },
    {
      "cell_type": "code",
      "source": [
        "#Getting unique value of age\n",
        "\n",
        "user_df['age'].unique()"
      ],
      "metadata": {
        "colab": {
          "base_uri": "https://localhost:8080/"
        },
        "id": "nGMN93jGhOis",
        "outputId": "04ebe879-2b6d-4d21-e641-945d65f22917"
      },
      "execution_count": 40,
      "outputs": [
        {
          "output_type": "execute_result",
          "data": {
            "text/plain": [
              "array([ nan,  18.,  17.,  61.,  26.,  14.,  25.,  19.,  46.,  55.,  32.,\n",
              "        24.,  20.,  34.,  23.,  51.,  31.,  21.,  44.,  30.,  57.,  43.,\n",
              "        37.,  41.,  54.,  42.,  50.,  39.,  53.,  47.,  36.,  28.,  35.,\n",
              "        13.,  58.,  49.,  38.,  45.,  62.,  63.,  27.,  33.,  29.,  66.,\n",
              "        40.,  15.,  60.,   0.,  79.,  22.,  16.,  65.,  59.,  48.,  72.,\n",
              "        56.,  67.,   1.,  80.,  52.,  69.,  71.,  73.,  78.,   9.,  64.,\n",
              "       103., 104.,  12.,  74.,  75., 231.,   3.,  76.,  83.,  68., 119.,\n",
              "        11.,  77.,   2.,  70.,  93.,   8.,   7.,   4.,  81., 114., 230.,\n",
              "       239.,  10.,   5., 148., 151.,   6., 101., 201.,  96.,  84.,  82.,\n",
              "        90., 123., 244., 133.,  91., 128.,  94.,  85., 141., 110.,  97.,\n",
              "       219.,  86., 124.,  92., 175., 172., 209., 212., 237.,  87., 162.,\n",
              "       100., 156., 136.,  95.,  89., 106.,  99., 108., 210.,  88., 199.,\n",
              "       147., 168., 132., 159., 186., 152., 102., 116., 200., 115., 226.,\n",
              "       137., 207., 229., 138., 109., 105., 228., 183., 204.,  98., 223.,\n",
              "       113., 208., 107., 157., 111., 146., 118., 220., 143., 140., 189.,\n",
              "       127.])"
            ]
          },
          "metadata": {},
          "execution_count": 40
        }
      ]
    },
    {
      "cell_type": "code",
      "source": [
        "#Description about age data\n",
        "\n",
        "user_df['age'].describe()"
      ],
      "metadata": {
        "colab": {
          "base_uri": "https://localhost:8080/"
        },
        "id": "88GhgtByhRm8",
        "outputId": "ff502fb5-4e38-4ce5-ffe3-a51194b49ec2"
      },
      "execution_count": 41,
      "outputs": [
        {
          "output_type": "execute_result",
          "data": {
            "text/plain": [
              "count    168096.000000\n",
              "mean         34.751434\n",
              "std          14.428097\n",
              "min           0.000000\n",
              "25%          24.000000\n",
              "50%          32.000000\n",
              "75%          44.000000\n",
              "max         244.000000\n",
              "Name: age, dtype: float64"
            ]
          },
          "metadata": {},
          "execution_count": 41
        }
      ]
    },
    {
      "cell_type": "code",
      "source": [
        "#Replacing age less than five years and greater than 90  with nan values\n",
        "\n",
        "user_df.loc[(user_df['age']<5) | (user_df['age']>90),'age']=np.NAN"
      ],
      "metadata": {
        "id": "yiTNUllehZuz"
      },
      "execution_count": 42,
      "outputs": []
    },
    {
      "cell_type": "code",
      "source": [
        "#filling nan values with meadian\n",
        "user_df['age'].fillna(user_df['age'].mean(),inplace=True)"
      ],
      "metadata": {
        "id": "mOOvsljlhvt2"
      },
      "execution_count": 43,
      "outputs": []
    },
    {
      "cell_type": "code",
      "source": [
        "#Descrription about age \n",
        "user_df['age'].describe()"
      ],
      "metadata": {
        "colab": {
          "base_uri": "https://localhost:8080/"
        },
        "id": "XW5_5ws1h6C9",
        "outputId": "b822301b-6c88-4fac-9712-86556589bc7d"
      },
      "execution_count": 44,
      "outputs": [
        {
          "output_type": "execute_result",
          "data": {
            "text/plain": [
              "count    278858.000000\n",
              "mean         34.723840\n",
              "std          10.506766\n",
              "min           5.000000\n",
              "25%          29.000000\n",
              "50%          34.723840\n",
              "75%          35.000000\n",
              "max          90.000000\n",
              "Name: age, dtype: float64"
            ]
          },
          "metadata": {},
          "execution_count": 44
        }
      ]
    },
    {
      "cell_type": "code",
      "source": [
        "#Checking for duplicate values\n",
        "\n",
        "user_df.duplicated().sum()"
      ],
      "metadata": {
        "colab": {
          "base_uri": "https://localhost:8080/"
        },
        "id": "KpTdV6l-h9nK",
        "outputId": "43c4fab4-4d83-40af-cbb2-cf9f10f94a84"
      },
      "execution_count": 45,
      "outputs": [
        {
          "output_type": "execute_result",
          "data": {
            "text/plain": [
              "0"
            ]
          },
          "metadata": {},
          "execution_count": 45
        }
      ]
    },
    {
      "cell_type": "code",
      "source": [
        ""
      ],
      "metadata": {
        "id": "7N2VjTcJiUfs"
      },
      "execution_count": null,
      "outputs": []
    },
    {
      "cell_type": "markdown",
      "source": [
        "Ratings"
      ],
      "metadata": {
        "id": "2yxYltqsi0hG"
      }
    },
    {
      "cell_type": "code",
      "source": [
        "#Getting first rows of rating dataset\n",
        "\n",
        "rating_df.head()"
      ],
      "metadata": {
        "colab": {
          "base_uri": "https://localhost:8080/",
          "height": 206
        },
        "id": "Rc2gq-0ni1kI",
        "outputId": "b947d957-f41e-4050-b17b-b015bae9842b"
      },
      "execution_count": 46,
      "outputs": [
        {
          "output_type": "execute_result",
          "data": {
            "text/plain": [
              "   user_id        ISBN  rating\n",
              "0   276725  034545104X       0\n",
              "1   276726  0155061224       5\n",
              "2   276727  0446520802       0\n",
              "3   276729  052165615X       3\n",
              "4   276729  0521795028       6"
            ],
            "text/html": [
              "\n",
              "  <div id=\"df-22d5720d-7283-424d-845d-c72494293f5d\">\n",
              "    <div class=\"colab-df-container\">\n",
              "      <div>\n",
              "<style scoped>\n",
              "    .dataframe tbody tr th:only-of-type {\n",
              "        vertical-align: middle;\n",
              "    }\n",
              "\n",
              "    .dataframe tbody tr th {\n",
              "        vertical-align: top;\n",
              "    }\n",
              "\n",
              "    .dataframe thead th {\n",
              "        text-align: right;\n",
              "    }\n",
              "</style>\n",
              "<table border=\"1\" class=\"dataframe\">\n",
              "  <thead>\n",
              "    <tr style=\"text-align: right;\">\n",
              "      <th></th>\n",
              "      <th>user_id</th>\n",
              "      <th>ISBN</th>\n",
              "      <th>rating</th>\n",
              "    </tr>\n",
              "  </thead>\n",
              "  <tbody>\n",
              "    <tr>\n",
              "      <th>0</th>\n",
              "      <td>276725</td>\n",
              "      <td>034545104X</td>\n",
              "      <td>0</td>\n",
              "    </tr>\n",
              "    <tr>\n",
              "      <th>1</th>\n",
              "      <td>276726</td>\n",
              "      <td>0155061224</td>\n",
              "      <td>5</td>\n",
              "    </tr>\n",
              "    <tr>\n",
              "      <th>2</th>\n",
              "      <td>276727</td>\n",
              "      <td>0446520802</td>\n",
              "      <td>0</td>\n",
              "    </tr>\n",
              "    <tr>\n",
              "      <th>3</th>\n",
              "      <td>276729</td>\n",
              "      <td>052165615X</td>\n",
              "      <td>3</td>\n",
              "    </tr>\n",
              "    <tr>\n",
              "      <th>4</th>\n",
              "      <td>276729</td>\n",
              "      <td>0521795028</td>\n",
              "      <td>6</td>\n",
              "    </tr>\n",
              "  </tbody>\n",
              "</table>\n",
              "</div>\n",
              "      <button class=\"colab-df-convert\" onclick=\"convertToInteractive('df-22d5720d-7283-424d-845d-c72494293f5d')\"\n",
              "              title=\"Convert this dataframe to an interactive table.\"\n",
              "              style=\"display:none;\">\n",
              "        \n",
              "  <svg xmlns=\"http://www.w3.org/2000/svg\" height=\"24px\"viewBox=\"0 0 24 24\"\n",
              "       width=\"24px\">\n",
              "    <path d=\"M0 0h24v24H0V0z\" fill=\"none\"/>\n",
              "    <path d=\"M18.56 5.44l.94 2.06.94-2.06 2.06-.94-2.06-.94-.94-2.06-.94 2.06-2.06.94zm-11 1L8.5 8.5l.94-2.06 2.06-.94-2.06-.94L8.5 2.5l-.94 2.06-2.06.94zm10 10l.94 2.06.94-2.06 2.06-.94-2.06-.94-.94-2.06-.94 2.06-2.06.94z\"/><path d=\"M17.41 7.96l-1.37-1.37c-.4-.4-.92-.59-1.43-.59-.52 0-1.04.2-1.43.59L10.3 9.45l-7.72 7.72c-.78.78-.78 2.05 0 2.83L4 21.41c.39.39.9.59 1.41.59.51 0 1.02-.2 1.41-.59l7.78-7.78 2.81-2.81c.8-.78.8-2.07 0-2.86zM5.41 20L4 18.59l7.72-7.72 1.47 1.35L5.41 20z\"/>\n",
              "  </svg>\n",
              "      </button>\n",
              "      \n",
              "  <style>\n",
              "    .colab-df-container {\n",
              "      display:flex;\n",
              "      flex-wrap:wrap;\n",
              "      gap: 12px;\n",
              "    }\n",
              "\n",
              "    .colab-df-convert {\n",
              "      background-color: #E8F0FE;\n",
              "      border: none;\n",
              "      border-radius: 50%;\n",
              "      cursor: pointer;\n",
              "      display: none;\n",
              "      fill: #1967D2;\n",
              "      height: 32px;\n",
              "      padding: 0 0 0 0;\n",
              "      width: 32px;\n",
              "    }\n",
              "\n",
              "    .colab-df-convert:hover {\n",
              "      background-color: #E2EBFA;\n",
              "      box-shadow: 0px 1px 2px rgba(60, 64, 67, 0.3), 0px 1px 3px 1px rgba(60, 64, 67, 0.15);\n",
              "      fill: #174EA6;\n",
              "    }\n",
              "\n",
              "    [theme=dark] .colab-df-convert {\n",
              "      background-color: #3B4455;\n",
              "      fill: #D2E3FC;\n",
              "    }\n",
              "\n",
              "    [theme=dark] .colab-df-convert:hover {\n",
              "      background-color: #434B5C;\n",
              "      box-shadow: 0px 1px 3px 1px rgba(0, 0, 0, 0.15);\n",
              "      filter: drop-shadow(0px 1px 2px rgba(0, 0, 0, 0.3));\n",
              "      fill: #FFFFFF;\n",
              "    }\n",
              "  </style>\n",
              "\n",
              "      <script>\n",
              "        const buttonEl =\n",
              "          document.querySelector('#df-22d5720d-7283-424d-845d-c72494293f5d button.colab-df-convert');\n",
              "        buttonEl.style.display =\n",
              "          google.colab.kernel.accessAllowed ? 'block' : 'none';\n",
              "\n",
              "        async function convertToInteractive(key) {\n",
              "          const element = document.querySelector('#df-22d5720d-7283-424d-845d-c72494293f5d');\n",
              "          const dataTable =\n",
              "            await google.colab.kernel.invokeFunction('convertToInteractive',\n",
              "                                                     [key], {});\n",
              "          if (!dataTable) return;\n",
              "\n",
              "          const docLinkHtml = 'Like what you see? Visit the ' +\n",
              "            '<a target=\"_blank\" href=https://colab.research.google.com/notebooks/data_table.ipynb>data table notebook</a>'\n",
              "            + ' to learn more about interactive tables.';\n",
              "          element.innerHTML = '';\n",
              "          dataTable['output_type'] = 'display_data';\n",
              "          await google.colab.output.renderOutput(dataTable, element);\n",
              "          const docLink = document.createElement('div');\n",
              "          docLink.innerHTML = docLinkHtml;\n",
              "          element.appendChild(docLink);\n",
              "        }\n",
              "      </script>\n",
              "    </div>\n",
              "  </div>\n",
              "  "
            ]
          },
          "metadata": {},
          "execution_count": 46
        }
      ]
    },
    {
      "cell_type": "code",
      "source": [
        "#Information about dataset\n",
        "rating_df.info()"
      ],
      "metadata": {
        "colab": {
          "base_uri": "https://localhost:8080/"
        },
        "id": "0BiEVtNVi4Ud",
        "outputId": "71c697c6-d7fb-4bac-f326-3679db137a8b"
      },
      "execution_count": 47,
      "outputs": [
        {
          "output_type": "stream",
          "name": "stdout",
          "text": [
            "<class 'pandas.core.frame.DataFrame'>\n",
            "RangeIndex: 1149780 entries, 0 to 1149779\n",
            "Data columns (total 3 columns):\n",
            " #   Column   Non-Null Count    Dtype \n",
            "---  ------   --------------    ----- \n",
            " 0   user_id  1149780 non-null  int64 \n",
            " 1   ISBN     1149780 non-null  object\n",
            " 2   rating   1149780 non-null  int64 \n",
            "dtypes: int64(2), object(1)\n",
            "memory usage: 26.3+ MB\n"
          ]
        }
      ]
    },
    {
      "cell_type": "code",
      "source": [
        "#Description about the rating dataset\n",
        "rating_df.describe()"
      ],
      "metadata": {
        "colab": {
          "base_uri": "https://localhost:8080/",
          "height": 300
        },
        "id": "1-3XgZzIi62M",
        "outputId": "de43ff91-6615-4cb3-db07-19a491805c7f"
      },
      "execution_count": 48,
      "outputs": [
        {
          "output_type": "execute_result",
          "data": {
            "text/plain": [
              "            user_id        rating\n",
              "count  1.149780e+06  1.149780e+06\n",
              "mean   1.403864e+05  2.866950e+00\n",
              "std    8.056228e+04  3.854184e+00\n",
              "min    2.000000e+00  0.000000e+00\n",
              "25%    7.034500e+04  0.000000e+00\n",
              "50%    1.410100e+05  0.000000e+00\n",
              "75%    2.110280e+05  7.000000e+00\n",
              "max    2.788540e+05  1.000000e+01"
            ],
            "text/html": [
              "\n",
              "  <div id=\"df-b322b593-eb9b-435b-a5de-f28aa72ab519\">\n",
              "    <div class=\"colab-df-container\">\n",
              "      <div>\n",
              "<style scoped>\n",
              "    .dataframe tbody tr th:only-of-type {\n",
              "        vertical-align: middle;\n",
              "    }\n",
              "\n",
              "    .dataframe tbody tr th {\n",
              "        vertical-align: top;\n",
              "    }\n",
              "\n",
              "    .dataframe thead th {\n",
              "        text-align: right;\n",
              "    }\n",
              "</style>\n",
              "<table border=\"1\" class=\"dataframe\">\n",
              "  <thead>\n",
              "    <tr style=\"text-align: right;\">\n",
              "      <th></th>\n",
              "      <th>user_id</th>\n",
              "      <th>rating</th>\n",
              "    </tr>\n",
              "  </thead>\n",
              "  <tbody>\n",
              "    <tr>\n",
              "      <th>count</th>\n",
              "      <td>1.149780e+06</td>\n",
              "      <td>1.149780e+06</td>\n",
              "    </tr>\n",
              "    <tr>\n",
              "      <th>mean</th>\n",
              "      <td>1.403864e+05</td>\n",
              "      <td>2.866950e+00</td>\n",
              "    </tr>\n",
              "    <tr>\n",
              "      <th>std</th>\n",
              "      <td>8.056228e+04</td>\n",
              "      <td>3.854184e+00</td>\n",
              "    </tr>\n",
              "    <tr>\n",
              "      <th>min</th>\n",
              "      <td>2.000000e+00</td>\n",
              "      <td>0.000000e+00</td>\n",
              "    </tr>\n",
              "    <tr>\n",
              "      <th>25%</th>\n",
              "      <td>7.034500e+04</td>\n",
              "      <td>0.000000e+00</td>\n",
              "    </tr>\n",
              "    <tr>\n",
              "      <th>50%</th>\n",
              "      <td>1.410100e+05</td>\n",
              "      <td>0.000000e+00</td>\n",
              "    </tr>\n",
              "    <tr>\n",
              "      <th>75%</th>\n",
              "      <td>2.110280e+05</td>\n",
              "      <td>7.000000e+00</td>\n",
              "    </tr>\n",
              "    <tr>\n",
              "      <th>max</th>\n",
              "      <td>2.788540e+05</td>\n",
              "      <td>1.000000e+01</td>\n",
              "    </tr>\n",
              "  </tbody>\n",
              "</table>\n",
              "</div>\n",
              "      <button class=\"colab-df-convert\" onclick=\"convertToInteractive('df-b322b593-eb9b-435b-a5de-f28aa72ab519')\"\n",
              "              title=\"Convert this dataframe to an interactive table.\"\n",
              "              style=\"display:none;\">\n",
              "        \n",
              "  <svg xmlns=\"http://www.w3.org/2000/svg\" height=\"24px\"viewBox=\"0 0 24 24\"\n",
              "       width=\"24px\">\n",
              "    <path d=\"M0 0h24v24H0V0z\" fill=\"none\"/>\n",
              "    <path d=\"M18.56 5.44l.94 2.06.94-2.06 2.06-.94-2.06-.94-.94-2.06-.94 2.06-2.06.94zm-11 1L8.5 8.5l.94-2.06 2.06-.94-2.06-.94L8.5 2.5l-.94 2.06-2.06.94zm10 10l.94 2.06.94-2.06 2.06-.94-2.06-.94-.94-2.06-.94 2.06-2.06.94z\"/><path d=\"M17.41 7.96l-1.37-1.37c-.4-.4-.92-.59-1.43-.59-.52 0-1.04.2-1.43.59L10.3 9.45l-7.72 7.72c-.78.78-.78 2.05 0 2.83L4 21.41c.39.39.9.59 1.41.59.51 0 1.02-.2 1.41-.59l7.78-7.78 2.81-2.81c.8-.78.8-2.07 0-2.86zM5.41 20L4 18.59l7.72-7.72 1.47 1.35L5.41 20z\"/>\n",
              "  </svg>\n",
              "      </button>\n",
              "      \n",
              "  <style>\n",
              "    .colab-df-container {\n",
              "      display:flex;\n",
              "      flex-wrap:wrap;\n",
              "      gap: 12px;\n",
              "    }\n",
              "\n",
              "    .colab-df-convert {\n",
              "      background-color: #E8F0FE;\n",
              "      border: none;\n",
              "      border-radius: 50%;\n",
              "      cursor: pointer;\n",
              "      display: none;\n",
              "      fill: #1967D2;\n",
              "      height: 32px;\n",
              "      padding: 0 0 0 0;\n",
              "      width: 32px;\n",
              "    }\n",
              "\n",
              "    .colab-df-convert:hover {\n",
              "      background-color: #E2EBFA;\n",
              "      box-shadow: 0px 1px 2px rgba(60, 64, 67, 0.3), 0px 1px 3px 1px rgba(60, 64, 67, 0.15);\n",
              "      fill: #174EA6;\n",
              "    }\n",
              "\n",
              "    [theme=dark] .colab-df-convert {\n",
              "      background-color: #3B4455;\n",
              "      fill: #D2E3FC;\n",
              "    }\n",
              "\n",
              "    [theme=dark] .colab-df-convert:hover {\n",
              "      background-color: #434B5C;\n",
              "      box-shadow: 0px 1px 3px 1px rgba(0, 0, 0, 0.15);\n",
              "      filter: drop-shadow(0px 1px 2px rgba(0, 0, 0, 0.3));\n",
              "      fill: #FFFFFF;\n",
              "    }\n",
              "  </style>\n",
              "\n",
              "      <script>\n",
              "        const buttonEl =\n",
              "          document.querySelector('#df-b322b593-eb9b-435b-a5de-f28aa72ab519 button.colab-df-convert');\n",
              "        buttonEl.style.display =\n",
              "          google.colab.kernel.accessAllowed ? 'block' : 'none';\n",
              "\n",
              "        async function convertToInteractive(key) {\n",
              "          const element = document.querySelector('#df-b322b593-eb9b-435b-a5de-f28aa72ab519');\n",
              "          const dataTable =\n",
              "            await google.colab.kernel.invokeFunction('convertToInteractive',\n",
              "                                                     [key], {});\n",
              "          if (!dataTable) return;\n",
              "\n",
              "          const docLinkHtml = 'Like what you see? Visit the ' +\n",
              "            '<a target=\"_blank\" href=https://colab.research.google.com/notebooks/data_table.ipynb>data table notebook</a>'\n",
              "            + ' to learn more about interactive tables.';\n",
              "          element.innerHTML = '';\n",
              "          dataTable['output_type'] = 'display_data';\n",
              "          await google.colab.output.renderOutput(dataTable, element);\n",
              "          const docLink = document.createElement('div');\n",
              "          docLink.innerHTML = docLinkHtml;\n",
              "          element.appendChild(docLink);\n",
              "        }\n",
              "      </script>\n",
              "    </div>\n",
              "  </div>\n",
              "  "
            ]
          },
          "metadata": {},
          "execution_count": 48
        }
      ]
    },
    {
      "cell_type": "code",
      "source": [
        "#Checking for null values \n",
        "rating_df.isnull().sum()"
      ],
      "metadata": {
        "colab": {
          "base_uri": "https://localhost:8080/"
        },
        "id": "_VHkZd-pi-JL",
        "outputId": "4fa2f638-79e1-4dee-cb51-c7b5ecdd5bef"
      },
      "execution_count": 49,
      "outputs": [
        {
          "output_type": "execute_result",
          "data": {
            "text/plain": [
              "user_id    0\n",
              "ISBN       0\n",
              "rating     0\n",
              "dtype: int64"
            ]
          },
          "metadata": {},
          "execution_count": 49
        }
      ]
    },
    {
      "cell_type": "code",
      "source": [
        ""
      ],
      "metadata": {
        "id": "RHSgYCNf_SrJ"
      },
      "execution_count": null,
      "outputs": []
    },
    {
      "cell_type": "code",
      "source": [
        " #Creating dataframe which contains books that are only in books dataset\n",
        "unique_ratings = rating_df[rating_df.ISBN.isin(book_df.ISBN)]"
      ],
      "metadata": {
        "id": "-acILE11FVwv"
      },
      "execution_count": 50,
      "outputs": []
    },
    {
      "cell_type": "code",
      "source": [
        "# Creating dataframe which contains user rating data that are aligning with the users dataset\n",
        "ratings = rating_df[rating_df.user_id.isin(user_df.user_id)]"
      ],
      "metadata": {
        "id": "qbw3Xxw2Fzdf"
      },
      "execution_count": 51,
      "outputs": []
    },
    {
      "cell_type": "code",
      "source": [
        "# Uppercasing all alphabets in ISBN\n",
        "ratings['ISBN'] = ratings['ISBN'].str.upper()"
      ],
      "metadata": {
        "id": "CpZzAUc1GBIg"
      },
      "execution_count": null,
      "outputs": []
    },
    {
      "cell_type": "code",
      "source": [
        "#Lets create a new dataframe which has similar userid and ISBN number mapped with each other\n",
        "# final_dataset = pd.merge(books, ratings, on='ISBN', how='inner')\n",
        "# final_dataset = pd.merge(final_dataset, users, on='user_id', how='inner')\n",
        "# final_dataset.info()"
      ],
      "metadata": {
        "id": "NCli7afRGDtD"
      },
      "execution_count": null,
      "outputs": []
    },
    {
      "cell_type": "code",
      "source": [
        "# Printing shapes of all the dataset.\n",
        "print(rating_df.shape)\n",
        "print(unique_ratings.shape)\n",
        "print(book_df.shape)\n",
        "print(user_df.shape)"
      ],
      "metadata": {
        "colab": {
          "base_uri": "https://localhost:8080/"
        },
        "id": "zXcaCOyhGF36",
        "outputId": "3937a3d2-f94f-40f8-8cbc-a80f4a7eb2a2"
      },
      "execution_count": null,
      "outputs": [
        {
          "output_type": "stream",
          "name": "stdout",
          "text": [
            "(1149780, 3)\n",
            "(1031133, 3)\n",
            "(271357, 5)\n",
            "(278858, 3)\n"
          ]
        }
      ]
    },
    {
      "cell_type": "markdown",
      "source": [
        "\n",
        "\n",
        "EDA(Exploratory Data Analysis)\n",
        "\n"
      ],
      "metadata": {
        "id": "B2jxpmTN_4DA"
      }
    },
    {
      "cell_type": "code",
      "source": [
        "#Plot histogram to see the distribution of the data\n",
        "fig = plt.figure(figsize = (12,8))\n",
        "user_df.age.hist(bins=[0, 10, 20, 30, 40, 50, 60, 70, 80, 90, 100])\n",
        "plt.title('Age Distribution')\n",
        "plt.xlabel('age')\n",
        "plt.ylabel('count')\n",
        "plt.show()"
      ],
      "metadata": {
        "colab": {
          "base_uri": "https://localhost:8080/",
          "height": 513
        },
        "id": "ckDS6nxYGN4C",
        "outputId": "9eb20400-f54a-4c50-bfe3-3230a7abc49e"
      },
      "execution_count": 53,
      "outputs": [
        {
          "output_type": "display_data",
          "data": {
            "text/plain": [
              "<Figure size 864x576 with 1 Axes>"
            ],
            "image/png": "[encoded data removed]"
          },
          "metadata": {
            "needs_background": "light"
          }
        }
      ]
    },
    {
      "cell_type": "code",
      "source": [
        "# Plotting count of rating to see how it's distributed\n",
        "fig = plt.figure(figsize = (12,8))\n",
        "sns.countplot(x='rating',data=rating_df)\n",
        "plt.title(\"User rating count frequency distribution\", fontsize =15)\n",
        "plt.show()"
      ],
      "metadata": {
        "colab": {
          "base_uri": "https://localhost:8080/",
          "height": 515
        },
        "id": "6pJy5Yn9Gcxk",
        "outputId": "dc66fb08-403a-4d47-be8f-1ca01f718262"
      },
      "execution_count": 54,
      "outputs": [
        {
          "output_type": "display_data",
          "data": {
            "text/plain": [
              "<Figure size 864x576 with 1 Axes>"
            ],
            "image/png": "[encoded data removed]"
          },
          "metadata": {
            "needs_background": "light"
          }
        }
      ]
    },
    {
      "cell_type": "code",
      "source": [
        "'''\n",
        "Since, the most frequent rating was 0 which might indicate that the user haven't rated the book. This may mislead the result.\n",
        "Hence, we will separate the 0 rated data exclusively for better understanding of the most common user rating.\n",
        "\n",
        "ratings_explicit = ratings excluding the 0 rating\n",
        "'''\n",
        "\n",
        "# Separating ratings\n",
        "ratings_explicit= unique_ratings[unique_ratings['rating'] != 0]\n",
        "ratings_implicit= unique_ratings[unique_ratings['rating'] == 0]"
      ],
      "metadata": {
        "id": "-jSb9IHEGhH3"
      },
      "execution_count": 55,
      "outputs": []
    },
    {
      "cell_type": "code",
      "source": [
        "# Now plotting countplot of rating_explicit\n",
        "fig = plt.figure(figsize = (12,8))\n",
        "sns.set_style('darkgrid')\n",
        "sns.countplot(data= ratings_explicit , x='rating')\n",
        "plt.title(\"Rating_explicit countplot of user rating frequency\")\n",
        "plt.show()"
      ],
      "metadata": {
        "colab": {
          "base_uri": "https://localhost:8080/",
          "height": 513
        },
        "id": "oQgWr3NrGvb6",
        "outputId": "bd9fd2f6-88ab-417e-a2ed-1704a5d37ea7"
      },
      "execution_count": 56,
      "outputs": [
        {
          "output_type": "display_data",
          "data": {
            "text/plain": [
              "<Figure size 864x576 with 1 Axes>"
            ],
            "image/png": "[encoded data removed]"
          },
          "metadata": {
            "needs_background": "light"
          }
        }
      ]
    },
    {
      "cell_type": "code",
      "source": [
        "# Merging ratings_explicit with books dataset on ISBNs feature\n",
        "new_book= pd.merge(book_df, ratings_explicit, on='ISBN')\n",
        "new_book.head()"
      ],
      "metadata": {
        "colab": {
          "base_uri": "https://localhost:8080/",
          "height": 206
        },
        "id": "k_1TqWWvGyzL",
        "outputId": "40367819-59e1-45b4-e394-11f50b98fab2"
      },
      "execution_count": 57,
      "outputs": [
        {
          "output_type": "execute_result",
          "data": {
            "text/plain": [
              "         ISBN         title                author    year  \\\n",
              "0  0002005018  Clara Callan  Richard Bruce Wright  2001.0   \n",
              "1  0002005018  Clara Callan  Richard Bruce Wright  2001.0   \n",
              "2  0002005018  Clara Callan  Richard Bruce Wright  2001.0   \n",
              "3  0002005018  Clara Callan  Richard Bruce Wright  2001.0   \n",
              "4  0002005018  Clara Callan  Richard Bruce Wright  2001.0   \n",
              "\n",
              "               publisher  user_id  rating  \n",
              "0  HarperFlamingo Canada        8       5  \n",
              "1  HarperFlamingo Canada    11676       8  \n",
              "2  HarperFlamingo Canada    67544       8  \n",
              "3  HarperFlamingo Canada   116866       9  \n",
              "4  HarperFlamingo Canada   123629       9  "
            ],
            "text/html": [
              "\n",
              "  <div id=\"df-597d5283-2233-4725-9962-50507cc1275b\">\n",
              "    <div class=\"colab-df-container\">\n",
              "      <div>\n",
              "<style scoped>\n",
              "    .dataframe tbody tr th:only-of-type {\n",
              "        vertical-align: middle;\n",
              "    }\n",
              "\n",
              "    .dataframe tbody tr th {\n",
              "        vertical-align: top;\n",
              "    }\n",
              "\n",
              "    .dataframe thead th {\n",
              "        text-align: right;\n",
              "    }\n",
              "</style>\n",
              "<table border=\"1\" class=\"dataframe\">\n",
              "  <thead>\n",
              "    <tr style=\"text-align: right;\">\n",
              "      <th></th>\n",
              "      <th>ISBN</th>\n",
              "      <th>title</th>\n",
              "      <th>author</th>\n",
              "      <th>year</th>\n",
              "      <th>publisher</th>\n",
              "      <th>user_id</th>\n",
              "      <th>rating</th>\n",
              "    </tr>\n",
              "  </thead>\n",
              "  <tbody>\n",
              "    <tr>\n",
              "      <th>0</th>\n",
              "      <td>0002005018</td>\n",
              "      <td>Clara Callan</td>\n",
              "      <td>Richard Bruce Wright</td>\n",
              "      <td>2001.0</td>\n",
              "      <td>HarperFlamingo Canada</td>\n",
              "      <td>8</td>\n",
              "      <td>5</td>\n",
              "    </tr>\n",
              "    <tr>\n",
              "      <th>1</th>\n",
              "      <td>0002005018</td>\n",
              "      <td>Clara Callan</td>\n",
              "      <td>Richard Bruce Wright</td>\n",
              "      <td>2001.0</td>\n",
              "      <td>HarperFlamingo Canada</td>\n",
              "      <td>11676</td>\n",
              "      <td>8</td>\n",
              "    </tr>\n",
              "    <tr>\n",
              "      <th>2</th>\n",
              "      <td>0002005018</td>\n",
              "      <td>Clara Callan</td>\n",
              "      <td>Richard Bruce Wright</td>\n",
              "      <td>2001.0</td>\n",
              "      <td>HarperFlamingo Canada</td>\n",
              "      <td>67544</td>\n",
              "      <td>8</td>\n",
              "    </tr>\n",
              "    <tr>\n",
              "      <th>3</th>\n",
              "      <td>0002005018</td>\n",
              "      <td>Clara Callan</td>\n",
              "      <td>Richard Bruce Wright</td>\n",
              "      <td>2001.0</td>\n",
              "      <td>HarperFlamingo Canada</td>\n",
              "      <td>116866</td>\n",
              "      <td>9</td>\n",
              "    </tr>\n",
              "    <tr>\n",
              "      <th>4</th>\n",
              "      <td>0002005018</td>\n",
              "      <td>Clara Callan</td>\n",
              "      <td>Richard Bruce Wright</td>\n",
              "      <td>2001.0</td>\n",
              "      <td>HarperFlamingo Canada</td>\n",
              "      <td>123629</td>\n",
              "      <td>9</td>\n",
              "    </tr>\n",
              "  </tbody>\n",
              "</table>\n",
              "</div>\n",
              "      <button class=\"colab-df-convert\" onclick=\"convertToInteractive('df-597d5283-2233-4725-9962-50507cc1275b')\"\n",
              "              title=\"Convert this dataframe to an interactive table.\"\n",
              "              style=\"display:none;\">\n",
              "        \n",
              "  <svg xmlns=\"http://www.w3.org/2000/svg\" height=\"24px\"viewBox=\"0 0 24 24\"\n",
              "       width=\"24px\">\n",
              "    <path d=\"M0 0h24v24H0V0z\" fill=\"none\"/>\n",
              "    <path d=\"M18.56 5.44l.94 2.06.94-2.06 2.06-.94-2.06-.94-.94-2.06-.94 2.06-2.06.94zm-11 1L8.5 8.5l.94-2.06 2.06-.94-2.06-.94L8.5 2.5l-.94 2.06-2.06.94zm10 10l.94 2.06.94-2.06 2.06-.94-2.06-.94-.94-2.06-.94 2.06-2.06.94z\"/><path d=\"M17.41 7.96l-1.37-1.37c-.4-.4-.92-.59-1.43-.59-.52 0-1.04.2-1.43.59L10.3 9.45l-7.72 7.72c-.78.78-.78 2.05 0 2.83L4 21.41c.39.39.9.59 1.41.59.51 0 1.02-.2 1.41-.59l7.78-7.78 2.81-2.81c.8-.78.8-2.07 0-2.86zM5.41 20L4 18.59l7.72-7.72 1.47 1.35L5.41 20z\"/>\n",
              "  </svg>\n",
              "      </button>\n",
              "      \n",
              "  <style>\n",
              "    .colab-df-container {\n",
              "      display:flex;\n",
              "      flex-wrap:wrap;\n",
              "      gap: 12px;\n",
              "    }\n",
              "\n",
              "    .colab-df-convert {\n",
              "      background-color: #E8F0FE;\n",
              "      border: none;\n",
              "      border-radius: 50%;\n",
              "      cursor: pointer;\n",
              "      display: none;\n",
              "      fill: #1967D2;\n",
              "      height: 32px;\n",
              "      padding: 0 0 0 0;\n",
              "      width: 32px;\n",
              "    }\n",
              "\n",
              "    .colab-df-convert:hover {\n",
              "      background-color: #E2EBFA;\n",
              "      box-shadow: 0px 1px 2px rgba(60, 64, 67, 0.3), 0px 1px 3px 1px rgba(60, 64, 67, 0.15);\n",
              "      fill: #174EA6;\n",
              "    }\n",
              "\n",
              "    [theme=dark] .colab-df-convert {\n",
              "      background-color: #3B4455;\n",
              "      fill: #D2E3FC;\n",
              "    }\n",
              "\n",
              "    [theme=dark] .colab-df-convert:hover {\n",
              "      background-color: #434B5C;\n",
              "      box-shadow: 0px 1px 3px 1px rgba(0, 0, 0, 0.15);\n",
              "      filter: drop-shadow(0px 1px 2px rgba(0, 0, 0, 0.3));\n",
              "      fill: #FFFFFF;\n",
              "    }\n",
              "  </style>\n",
              "\n",
              "      <script>\n",
              "        const buttonEl =\n",
              "          document.querySelector('#df-597d5283-2233-4725-9962-50507cc1275b button.colab-df-convert');\n",
              "        buttonEl.style.display =\n",
              "          google.colab.kernel.accessAllowed ? 'block' : 'none';\n",
              "\n",
              "        async function convertToInteractive(key) {\n",
              "          const element = document.querySelector('#df-597d5283-2233-4725-9962-50507cc1275b');\n",
              "          const dataTable =\n",
              "            await google.colab.kernel.invokeFunction('convertToInteractive',\n",
              "                                                     [key], {});\n",
              "          if (!dataTable) return;\n",
              "\n",
              "          const docLinkHtml = 'Like what you see? Visit the ' +\n",
              "            '<a target=\"_blank\" href=https://colab.research.google.com/notebooks/data_table.ipynb>data table notebook</a>'\n",
              "            + ' to learn more about interactive tables.';\n",
              "          element.innerHTML = '';\n",
              "          dataTable['output_type'] = 'display_data';\n",
              "          await google.colab.output.renderOutput(dataTable, element);\n",
              "          const docLink = document.createElement('div');\n",
              "          docLink.innerHTML = docLinkHtml;\n",
              "          element.appendChild(docLink);\n",
              "        }\n",
              "      </script>\n",
              "    </div>\n",
              "  </div>\n",
              "  "
            ]
          },
          "metadata": {},
          "execution_count": 57
        }
      ]
    },
    {
      "cell_type": "code",
      "source": [
        "# Grouping group data based on title and aggregate based on rating\n",
        "top_ten_books= pd.DataFrame(new_book.groupby('title')['rating'].count().sort_values(ascending=False).head(10).reset_index())"
      ],
      "metadata": {
        "id": "oR_Hx8IHG_j3"
      },
      "execution_count": 58,
      "outputs": []
    },
    {
      "cell_type": "code",
      "source": [
        "# Printing top ten books \n",
        "print('The top ten books recommendations are :')\n",
        "top_ten_books"
      ],
      "metadata": {
        "colab": {
          "base_uri": "https://localhost:8080/",
          "height": 380
        },
        "id": "jPRxT_U8HNhd",
        "outputId": "744e947b-304a-4ef9-f31f-b79016043c6d"
      },
      "execution_count": 59,
      "outputs": [
        {
          "output_type": "stream",
          "name": "stdout",
          "text": [
            "The top ten books recommendations are :\n"
          ]
        },
        {
          "output_type": "execute_result",
          "data": {
            "text/plain": [
              "                                              title  rating\n",
              "0                         The Lovely Bones: A Novel     707\n",
              "1                                       Wild Animus     581\n",
              "2                                 The Da Vinci Code     494\n",
              "3                           The Secret Life of Bees     406\n",
              "4                        The Nanny Diaries: A Novel     393\n",
              "5               The Red Tent (Bestselling Backlist)     383\n",
              "6                             Bridget Jones's Diary     377\n",
              "7                                   A Painted House     366\n",
              "8                                        Life of Pi     336\n",
              "9  Harry Potter and the Chamber of Secrets (Book 2)     326"
            ],
            "text/html": [
              "\n",
              "  <div id=\"df-e0209fa5-7567-404d-8f33-8bf91208b7c8\">\n",
              "    <div class=\"colab-df-container\">\n",
              "      <div>\n",
              "<style scoped>\n",
              "    .dataframe tbody tr th:only-of-type {\n",
              "        vertical-align: middle;\n",
              "    }\n",
              "\n",
              "    .dataframe tbody tr th {\n",
              "        vertical-align: top;\n",
              "    }\n",
              "\n",
              "    .dataframe thead th {\n",
              "        text-align: right;\n",
              "    }\n",
              "</style>\n",
              "<table border=\"1\" class=\"dataframe\">\n",
              "  <thead>\n",
              "    <tr style=\"text-align: right;\">\n",
              "      <th></th>\n",
              "      <th>title</th>\n",
              "      <th>rating</th>\n",
              "    </tr>\n",
              "  </thead>\n",
              "  <tbody>\n",
              "    <tr>\n",
              "      <th>0</th>\n",
              "      <td>The Lovely Bones: A Novel</td>\n",
              "      <td>707</td>\n",
              "    </tr>\n",
              "    <tr>\n",
              "      <th>1</th>\n",
              "      <td>Wild Animus</td>\n",
              "      <td>581</td>\n",
              "    </tr>\n",
              "    <tr>\n",
              "      <th>2</th>\n",
              "      <td>The Da Vinci Code</td>\n",
              "      <td>494</td>\n",
              "    </tr>\n",
              "    <tr>\n",
              "      <th>3</th>\n",
              "      <td>The Secret Life of Bees</td>\n",
              "      <td>406</td>\n",
              "    </tr>\n",
              "    <tr>\n",
              "      <th>4</th>\n",
              "      <td>The Nanny Diaries: A Novel</td>\n",
              "      <td>393</td>\n",
              "    </tr>\n",
              "    <tr>\n",
              "      <th>5</th>\n",
              "      <td>The Red Tent (Bestselling Backlist)</td>\n",
              "      <td>383</td>\n",
              "    </tr>\n",
              "    <tr>\n",
              "      <th>6</th>\n",
              "      <td>Bridget Jones's Diary</td>\n",
              "      <td>377</td>\n",
              "    </tr>\n",
              "    <tr>\n",
              "      <th>7</th>\n",
              "      <td>A Painted House</td>\n",
              "      <td>366</td>\n",
              "    </tr>\n",
              "    <tr>\n",
              "      <th>8</th>\n",
              "      <td>Life of Pi</td>\n",
              "      <td>336</td>\n",
              "    </tr>\n",
              "    <tr>\n",
              "      <th>9</th>\n",
              "      <td>Harry Potter and the Chamber of Secrets (Book 2)</td>\n",
              "      <td>326</td>\n",
              "    </tr>\n",
              "  </tbody>\n",
              "</table>\n",
              "</div>\n",
              "      <button class=\"colab-df-convert\" onclick=\"convertToInteractive('df-e0209fa5-7567-404d-8f33-8bf91208b7c8')\"\n",
              "              title=\"Convert this dataframe to an interactive table.\"\n",
              "              style=\"display:none;\">\n",
              "        \n",
              "  <svg xmlns=\"http://www.w3.org/2000/svg\" height=\"24px\"viewBox=\"0 0 24 24\"\n",
              "       width=\"24px\">\n",
              "    <path d=\"M0 0h24v24H0V0z\" fill=\"none\"/>\n",
              "    <path d=\"M18.56 5.44l.94 2.06.94-2.06 2.06-.94-2.06-.94-.94-2.06-.94 2.06-2.06.94zm-11 1L8.5 8.5l.94-2.06 2.06-.94-2.06-.94L8.5 2.5l-.94 2.06-2.06.94zm10 10l.94 2.06.94-2.06 2.06-.94-2.06-.94-.94-2.06-.94 2.06-2.06.94z\"/><path d=\"M17.41 7.96l-1.37-1.37c-.4-.4-.92-.59-1.43-.59-.52 0-1.04.2-1.43.59L10.3 9.45l-7.72 7.72c-.78.78-.78 2.05 0 2.83L4 21.41c.39.39.9.59 1.41.59.51 0 1.02-.2 1.41-.59l7.78-7.78 2.81-2.81c.8-.78.8-2.07 0-2.86zM5.41 20L4 18.59l7.72-7.72 1.47 1.35L5.41 20z\"/>\n",
              "  </svg>\n",
              "      </button>\n",
              "      \n",
              "  <style>\n",
              "    .colab-df-container {\n",
              "      display:flex;\n",
              "      flex-wrap:wrap;\n",
              "      gap: 12px;\n",
              "    }\n",
              "\n",
              "    .colab-df-convert {\n",
              "      background-color: #E8F0FE;\n",
              "      border: none;\n",
              "      border-radius: 50%;\n",
              "      cursor: pointer;\n",
              "      display: none;\n",
              "      fill: #1967D2;\n",
              "      height: 32px;\n",
              "      padding: 0 0 0 0;\n",
              "      width: 32px;\n",
              "    }\n",
              "\n",
              "    .colab-df-convert:hover {\n",
              "      background-color: #E2EBFA;\n",
              "      box-shadow: 0px 1px 2px rgba(60, 64, 67, 0.3), 0px 1px 3px 1px rgba(60, 64, 67, 0.15);\n",
              "      fill: #174EA6;\n",
              "    }\n",
              "\n",
              "    [theme=dark] .colab-df-convert {\n",
              "      background-color: #3B4455;\n",
              "      fill: #D2E3FC;\n",
              "    }\n",
              "\n",
              "    [theme=dark] .colab-df-convert:hover {\n",
              "      background-color: #434B5C;\n",
              "      box-shadow: 0px 1px 3px 1px rgba(0, 0, 0, 0.15);\n",
              "      filter: drop-shadow(0px 1px 2px rgba(0, 0, 0, 0.3));\n",
              "      fill: #FFFFFF;\n",
              "    }\n",
              "  </style>\n",
              "\n",
              "      <script>\n",
              "        const buttonEl =\n",
              "          document.querySelector('#df-e0209fa5-7567-404d-8f33-8bf91208b7c8 button.colab-df-convert');\n",
              "        buttonEl.style.display =\n",
              "          google.colab.kernel.accessAllowed ? 'block' : 'none';\n",
              "\n",
              "        async function convertToInteractive(key) {\n",
              "          const element = document.querySelector('#df-e0209fa5-7567-404d-8f33-8bf91208b7c8');\n",
              "          const dataTable =\n",
              "            await google.colab.kernel.invokeFunction('convertToInteractive',\n",
              "                                                     [key], {});\n",
              "          if (!dataTable) return;\n",
              "\n",
              "          const docLinkHtml = 'Like what you see? Visit the ' +\n",
              "            '<a target=\"_blank\" href=https://colab.research.google.com/notebooks/data_table.ipynb>data table notebook</a>'\n",
              "            + ' to learn more about interactive tables.';\n",
              "          element.innerHTML = '';\n",
              "          dataTable['output_type'] = 'display_data';\n",
              "          await google.colab.output.renderOutput(dataTable, element);\n",
              "          const docLink = document.createElement('div');\n",
              "          docLink.innerHTML = docLinkHtml;\n",
              "          element.appendChild(docLink);\n",
              "        }\n",
              "      </script>\n",
              "    </div>\n",
              "  </div>\n",
              "  "
            ]
          },
          "metadata": {},
          "execution_count": 59
        }
      ]
    },
    {
      "cell_type": "code",
      "source": [
        "#our analysis ready dataset\n",
        "new_book"
      ],
      "metadata": {
        "colab": {
          "base_uri": "https://localhost:8080/",
          "height": 424
        },
        "id": "C76avqU1HZAg",
        "outputId": "dca447b7-acf2-4338-c01a-4ef234a4ea52"
      },
      "execution_count": 60,
      "outputs": [
        {
          "output_type": "execute_result",
          "data": {
            "text/plain": [
              "              ISBN                                          title  \\\n",
              "0       0002005018                                   Clara Callan   \n",
              "1       0002005018                                   Clara Callan   \n",
              "2       0002005018                                   Clara Callan   \n",
              "3       0002005018                                   Clara Callan   \n",
              "4       0002005018                                   Clara Callan   \n",
              "...            ...                                            ...   \n",
              "383834  0395264707                                     Dreamsnake   \n",
              "383835  1845170423                              Cocktail Classics   \n",
              "383836  0449906736  Flashpoints: Promise and Peril in a New World   \n",
              "383837  0440400988                     There's a Bat in Bunk Five   \n",
              "383838  0525447644                        From One to One Hundred   \n",
              "\n",
              "                      author    year                        publisher  \\\n",
              "0       Richard Bruce Wright  2001.0            HarperFlamingo Canada   \n",
              "1       Richard Bruce Wright  2001.0            HarperFlamingo Canada   \n",
              "2       Richard Bruce Wright  2001.0            HarperFlamingo Canada   \n",
              "3       Richard Bruce Wright  2001.0            HarperFlamingo Canada   \n",
              "4       Richard Bruce Wright  2001.0            HarperFlamingo Canada   \n",
              "...                      ...     ...                              ...   \n",
              "383834     Vonda N. McIntyre  1978.0                 Houghton Mifflin   \n",
              "383835           David Biggs  2004.0                        Connaught   \n",
              "383836          Robin Wright  1993.0                 Ballantine Books   \n",
              "383837        Paula Danziger  1988.0  Random House Childrens Pub (Mm)   \n",
              "383838            Teri Sloat  1991.0                     Dutton Books   \n",
              "\n",
              "        user_id  rating  \n",
              "0             8       5  \n",
              "1         11676       8  \n",
              "2         67544       8  \n",
              "3        116866       9  \n",
              "4        123629       9  \n",
              "...         ...     ...  \n",
              "383834   275318      10  \n",
              "383835   275970       7  \n",
              "383836   276313       5  \n",
              "383837   276463       7  \n",
              "383838   276579       4  \n",
              "\n",
              "[383839 rows x 7 columns]"
            ],
            "text/html": [
              "\n",
              "  <div id=\"df-9a8b1370-addb-4330-a6e4-7886b7ec693b\">\n",
              "    <div class=\"colab-df-container\">\n",
              "      <div>\n",
              "<style scoped>\n",
              "    .dataframe tbody tr th:only-of-type {\n",
              "        vertical-align: middle;\n",
              "    }\n",
              "\n",
              "    .dataframe tbody tr th {\n",
              "        vertical-align: top;\n",
              "    }\n",
              "\n",
              "    .dataframe thead th {\n",
              "        text-align: right;\n",
              "    }\n",
              "</style>\n",
              "<table border=\"1\" class=\"dataframe\">\n",
              "  <thead>\n",
              "    <tr style=\"text-align: right;\">\n",
              "      <th></th>\n",
              "      <th>ISBN</th>\n",
              "      <th>title</th>\n",
              "      <th>author</th>\n",
              "      <th>year</th>\n",
              "      <th>publisher</th>\n",
              "      <th>user_id</th>\n",
              "      <th>rating</th>\n",
              "    </tr>\n",
              "  </thead>\n",
              "  <tbody>\n",
              "    <tr>\n",
              "      <th>0</th>\n",
              "      <td>0002005018</td>\n",
              "      <td>Clara Callan</td>\n",
              "      <td>Richard Bruce Wright</td>\n",
              "      <td>2001.0</td>\n",
              "      <td>HarperFlamingo Canada</td>\n",
              "      <td>8</td>\n",
              "      <td>5</td>\n",
              "    </tr>\n",
              "    <tr>\n",
              "      <th>1</th>\n",
              "      <td>0002005018</td>\n",
              "      <td>Clara Callan</td>\n",
              "      <td>Richard Bruce Wright</td>\n",
              "      <td>2001.0</td>\n",
              "      <td>HarperFlamingo Canada</td>\n",
              "      <td>11676</td>\n",
              "      <td>8</td>\n",
              "    </tr>\n",
              "    <tr>\n",
              "      <th>2</th>\n",
              "      <td>0002005018</td>\n",
              "      <td>Clara Callan</td>\n",
              "      <td>Richard Bruce Wright</td>\n",
              "      <td>2001.0</td>\n",
              "      <td>HarperFlamingo Canada</td>\n",
              "      <td>67544</td>\n",
              "      <td>8</td>\n",
              "    </tr>\n",
              "    <tr>\n",
              "      <th>3</th>\n",
              "      <td>0002005018</td>\n",
              "      <td>Clara Callan</td>\n",
              "      <td>Richard Bruce Wright</td>\n",
              "      <td>2001.0</td>\n",
              "      <td>HarperFlamingo Canada</td>\n",
              "      <td>116866</td>\n",
              "      <td>9</td>\n",
              "    </tr>\n",
              "    <tr>\n",
              "      <th>4</th>\n",
              "      <td>0002005018</td>\n",
              "      <td>Clara Callan</td>\n",
              "      <td>Richard Bruce Wright</td>\n",
              "      <td>2001.0</td>\n",
              "      <td>HarperFlamingo Canada</td>\n",
              "      <td>123629</td>\n",
              "      <td>9</td>\n",
              "    </tr>\n",
              "    <tr>\n",
              "      <th>...</th>\n",
              "      <td>...</td>\n",
              "      <td>...</td>\n",
              "      <td>...</td>\n",
              "      <td>...</td>\n",
              "      <td>...</td>\n",
              "      <td>...</td>\n",
              "      <td>...</td>\n",
              "    </tr>\n",
              "    <tr>\n",
              "      <th>383834</th>\n",
              "      <td>0395264707</td>\n",
              "      <td>Dreamsnake</td>\n",
              "      <td>Vonda N. McIntyre</td>\n",
              "      <td>1978.0</td>\n",
              "      <td>Houghton Mifflin</td>\n",
              "      <td>275318</td>\n",
              "      <td>10</td>\n",
              "    </tr>\n",
              "    <tr>\n",
              "      <th>383835</th>\n",
              "      <td>1845170423</td>\n",
              "      <td>Cocktail Classics</td>\n",
              "      <td>David Biggs</td>\n",
              "      <td>2004.0</td>\n",
              "      <td>Connaught</td>\n",
              "      <td>275970</td>\n",
              "      <td>7</td>\n",
              "    </tr>\n",
              "    <tr>\n",
              "      <th>383836</th>\n",
              "      <td>0449906736</td>\n",
              "      <td>Flashpoints: Promise and Peril in a New World</td>\n",
              "      <td>Robin Wright</td>\n",
              "      <td>1993.0</td>\n",
              "      <td>Ballantine Books</td>\n",
              "      <td>276313</td>\n",
              "      <td>5</td>\n",
              "    </tr>\n",
              "    <tr>\n",
              "      <th>383837</th>\n",
              "      <td>0440400988</td>\n",
              "      <td>There's a Bat in Bunk Five</td>\n",
              "      <td>Paula Danziger</td>\n",
              "      <td>1988.0</td>\n",
              "      <td>Random House Childrens Pub (Mm)</td>\n",
              "      <td>276463</td>\n",
              "      <td>7</td>\n",
              "    </tr>\n",
              "    <tr>\n",
              "      <th>383838</th>\n",
              "      <td>0525447644</td>\n",
              "      <td>From One to One Hundred</td>\n",
              "      <td>Teri Sloat</td>\n",
              "      <td>1991.0</td>\n",
              "      <td>Dutton Books</td>\n",
              "      <td>276579</td>\n",
              "      <td>4</td>\n",
              "    </tr>\n",
              "  </tbody>\n",
              "</table>\n",
              "<p>383839 rows × 7 columns</p>\n",
              "</div>\n",
              "      <button class=\"colab-df-convert\" onclick=\"convertToInteractive('df-9a8b1370-addb-4330-a6e4-7886b7ec693b')\"\n",
              "              title=\"Convert this dataframe to an interactive table.\"\n",
              "              style=\"display:none;\">\n",
              "        \n",
              "  <svg xmlns=\"http://www.w3.org/2000/svg\" height=\"24px\"viewBox=\"0 0 24 24\"\n",
              "       width=\"24px\">\n",
              "    <path d=\"M0 0h24v24H0V0z\" fill=\"none\"/>\n",
              "    <path d=\"M18.56 5.44l.94 2.06.94-2.06 2.06-.94-2.06-.94-.94-2.06-.94 2.06-2.06.94zm-11 1L8.5 8.5l.94-2.06 2.06-.94-2.06-.94L8.5 2.5l-.94 2.06-2.06.94zm10 10l.94 2.06.94-2.06 2.06-.94-2.06-.94-.94-2.06-.94 2.06-2.06.94z\"/><path d=\"M17.41 7.96l-1.37-1.37c-.4-.4-.92-.59-1.43-.59-.52 0-1.04.2-1.43.59L10.3 9.45l-7.72 7.72c-.78.78-.78 2.05 0 2.83L4 21.41c.39.39.9.59 1.41.59.51 0 1.02-.2 1.41-.59l7.78-7.78 2.81-2.81c.8-.78.8-2.07 0-2.86zM5.41 20L4 18.59l7.72-7.72 1.47 1.35L5.41 20z\"/>\n",
              "  </svg>\n",
              "      </button>\n",
              "      \n",
              "  <style>\n",
              "    .colab-df-container {\n",
              "      display:flex;\n",
              "      flex-wrap:wrap;\n",
              "      gap: 12px;\n",
              "    }\n",
              "\n",
              "    .colab-df-convert {\n",
              "      background-color: #E8F0FE;\n",
              "      border: none;\n",
              "      border-radius: 50%;\n",
              "      cursor: pointer;\n",
              "      display: none;\n",
              "      fill: #1967D2;\n",
              "      height: 32px;\n",
              "      padding: 0 0 0 0;\n",
              "      width: 32px;\n",
              "    }\n",
              "\n",
              "    .colab-df-convert:hover {\n",
              "      background-color: #E2EBFA;\n",
              "      box-shadow: 0px 1px 2px rgba(60, 64, 67, 0.3), 0px 1px 3px 1px rgba(60, 64, 67, 0.15);\n",
              "      fill: #174EA6;\n",
              "    }\n",
              "\n",
              "    [theme=dark] .colab-df-convert {\n",
              "      background-color: #3B4455;\n",
              "      fill: #D2E3FC;\n",
              "    }\n",
              "\n",
              "    [theme=dark] .colab-df-convert:hover {\n",
              "      background-color: #434B5C;\n",
              "      box-shadow: 0px 1px 3px 1px rgba(0, 0, 0, 0.15);\n",
              "      filter: drop-shadow(0px 1px 2px rgba(0, 0, 0, 0.3));\n",
              "      fill: #FFFFFF;\n",
              "    }\n",
              "  </style>\n",
              "\n",
              "      <script>\n",
              "        const buttonEl =\n",
              "          document.querySelector('#df-9a8b1370-addb-4330-a6e4-7886b7ec693b button.colab-df-convert');\n",
              "        buttonEl.style.display =\n",
              "          google.colab.kernel.accessAllowed ? 'block' : 'none';\n",
              "\n",
              "        async function convertToInteractive(key) {\n",
              "          const element = document.querySelector('#df-9a8b1370-addb-4330-a6e4-7886b7ec693b');\n",
              "          const dataTable =\n",
              "            await google.colab.kernel.invokeFunction('convertToInteractive',\n",
              "                                                     [key], {});\n",
              "          if (!dataTable) return;\n",
              "\n",
              "          const docLinkHtml = 'Like what you see? Visit the ' +\n",
              "            '<a target=\"_blank\" href=https://colab.research.google.com/notebooks/data_table.ipynb>data table notebook</a>'\n",
              "            + ' to learn more about interactive tables.';\n",
              "          element.innerHTML = '';\n",
              "          dataTable['output_type'] = 'display_data';\n",
              "          await google.colab.output.renderOutput(dataTable, element);\n",
              "          const docLink = document.createElement('div');\n",
              "          docLink.innerHTML = docLinkHtml;\n",
              "          element.appendChild(docLink);\n",
              "        }\n",
              "      </script>\n",
              "    </div>\n",
              "  </div>\n",
              "  "
            ]
          },
          "metadata": {},
          "execution_count": 60
        }
      ]
    },
    {
      "cell_type": "code",
      "source": [
        "#Users with more than 200 ratings \n",
        "numbers1 = ratings_explicit['user_id'].value_counts()\n",
        "ratings = ratings_explicit[ratings_explicit['user_id'].isin(numbers1[numbers1 >= 200].index)]\n",
        "\n",
        "#Books with more than 100 Ratings\n",
        "number2 = ratings_explicit['rating'].value_counts()\n",
        "ratings = ratings_explicit[ratings_explicit['rating'].isin(number2[number2 >= 100].index)]"
      ],
      "metadata": {
        "id": "pu0sK-CBHb3X"
      },
      "execution_count": 61,
      "outputs": []
    },
    {
      "cell_type": "code",
      "source": [
        "\n",
        "plt.figure(figsize=(18,6))\n",
        "sns.countplot(x='year',data=book_df,order=pd.value_counts(book_df['year']).iloc[:20].index)\n",
        "plt.title('year vs published books')\n",
        "plt.show()"
      ],
      "metadata": {
        "colab": {
          "base_uri": "https://localhost:8080/",
          "height": 404
        },
        "id": "ulBZsEFVAhFk",
        "outputId": "21f786de-cd6d-4fb5-f19a-584f0a12a507"
      },
      "execution_count": 65,
      "outputs": [
        {
          "output_type": "display_data",
          "data": {
            "text/plain": [
              "<Figure size 1296x432 with 1 Axes>"
            ],
            "image/png": "[encoded data removed]"
          },
          "metadata": {}
        }
      ]
    },
    {
      "cell_type": "code",
      "source": [
        "# Top 10 Products\n",
        "ax = book_df['title'].value_counts()[:10].plot(kind = 'barh', legend = False, figsize = (10,7))\n",
        "plt.title('Top 10 books') \n",
        "plt.show()"
      ],
      "metadata": {
        "colab": {
          "base_uri": "https://localhost:8080/",
          "height": 444
        },
        "id": "CcfQlMInAwv4",
        "outputId": "a7dc7107-fe4b-4894-84c5-aaedfc994a25"
      },
      "execution_count": 66,
      "outputs": [
        {
          "output_type": "display_data",
          "data": {
            "text/plain": [
              "<Figure size 720x504 with 1 Axes>"
            ],
            "image/png": "[encoded data removed]"
          },
          "metadata": {}
        }
      ]
    },
    {
      "cell_type": "code",
      "source": [
        "#Let's explore about authors\n",
        "plt.figure(figsize=(15,8))\n",
        "sns.countplot(y=\"author\", data=book_df,order=book_df['author'].value_counts().index[0:10])\n",
        "plt.title(\"Top 10 authors who wrote the books\")\n",
        "plt.show()"
      ],
      "metadata": {
        "colab": {
          "base_uri": "https://localhost:8080/",
          "height": 513
        },
        "id": "ZpckTbgkA824",
        "outputId": "d111e895-8f10-4b22-bb79-4335f3ab6b47"
      },
      "execution_count": 67,
      "outputs": [
        {
          "output_type": "display_data",
          "data": {
            "text/plain": [
              "<Figure size 1080x576 with 1 Axes>"
            ],
            "image/png": "[encoded data removed]"
          },
          "metadata": {}
        }
      ]
    },
    {
      "cell_type": "markdown",
      "source": [
        "The dataset 'Ratings' and 'Books' have common column 'ISBN' so create new dataframe merging the two dataframes"
      ],
      "metadata": {
        "id": "CEgg2SAqUkrd"
      }
    },
    {
      "cell_type": "code",
      "source": [
        "#Merging the dataset ratings and Books\n",
        "books_with_rating = pd.merge(rating_df, book_df, on='ISBN')\n",
        "\n",
        "#books_with_rating.drop(books_with_rating.filter(regex='_y$').columns, axis=1, inplace=True)\n",
        "books_with_rating.head()"
      ],
      "metadata": {
        "colab": {
          "base_uri": "https://localhost:8080/",
          "height": 206
        },
        "id": "NYeiqEY8He0D",
        "outputId": "07ff6785-70b7-431a-def0-3eb82648c41f"
      },
      "execution_count": 62,
      "outputs": [
        {
          "output_type": "execute_result",
          "data": {
            "text/plain": [
              "   user_id        ISBN  rating                 title      author    year  \\\n",
              "0   276725  034545104X       0  Flesh Tones: A Novel  M. J. Rose  2002.0   \n",
              "1     2313  034545104X       5  Flesh Tones: A Novel  M. J. Rose  2002.0   \n",
              "2     6543  034545104X       0  Flesh Tones: A Novel  M. J. Rose  2002.0   \n",
              "3     8680  034545104X       5  Flesh Tones: A Novel  M. J. Rose  2002.0   \n",
              "4    10314  034545104X       9  Flesh Tones: A Novel  M. J. Rose  2002.0   \n",
              "\n",
              "          publisher  \n",
              "0  Ballantine Books  \n",
              "1  Ballantine Books  \n",
              "2  Ballantine Books  \n",
              "3  Ballantine Books  \n",
              "4  Ballantine Books  "
            ],
            "text/html": [
              "\n",
              "  <div id=\"df-063d31f1-f2c7-469a-bf48-29105100a8d3\">\n",
              "    <div class=\"colab-df-container\">\n",
              "      <div>\n",
              "<style scoped>\n",
              "    .dataframe tbody tr th:only-of-type {\n",
              "        vertical-align: middle;\n",
              "    }\n",
              "\n",
              "    .dataframe tbody tr th {\n",
              "        vertical-align: top;\n",
              "    }\n",
              "\n",
              "    .dataframe thead th {\n",
              "        text-align: right;\n",
              "    }\n",
              "</style>\n",
              "<table border=\"1\" class=\"dataframe\">\n",
              "  <thead>\n",
              "    <tr style=\"text-align: right;\">\n",
              "      <th></th>\n",
              "      <th>user_id</th>\n",
              "      <th>ISBN</th>\n",
              "      <th>rating</th>\n",
              "      <th>title</th>\n",
              "      <th>author</th>\n",
              "      <th>year</th>\n",
              "      <th>publisher</th>\n",
              "    </tr>\n",
              "  </thead>\n",
              "  <tbody>\n",
              "    <tr>\n",
              "      <th>0</th>\n",
              "      <td>276725</td>\n",
              "      <td>034545104X</td>\n",
              "      <td>0</td>\n",
              "      <td>Flesh Tones: A Novel</td>\n",
              "      <td>M. J. Rose</td>\n",
              "      <td>2002.0</td>\n",
              "      <td>Ballantine Books</td>\n",
              "    </tr>\n",
              "    <tr>\n",
              "      <th>1</th>\n",
              "      <td>2313</td>\n",
              "      <td>034545104X</td>\n",
              "      <td>5</td>\n",
              "      <td>Flesh Tones: A Novel</td>\n",
              "      <td>M. J. Rose</td>\n",
              "      <td>2002.0</td>\n",
              "      <td>Ballantine Books</td>\n",
              "    </tr>\n",
              "    <tr>\n",
              "      <th>2</th>\n",
              "      <td>6543</td>\n",
              "      <td>034545104X</td>\n",
              "      <td>0</td>\n",
              "      <td>Flesh Tones: A Novel</td>\n",
              "      <td>M. J. Rose</td>\n",
              "      <td>2002.0</td>\n",
              "      <td>Ballantine Books</td>\n",
              "    </tr>\n",
              "    <tr>\n",
              "      <th>3</th>\n",
              "      <td>8680</td>\n",
              "      <td>034545104X</td>\n",
              "      <td>5</td>\n",
              "      <td>Flesh Tones: A Novel</td>\n",
              "      <td>M. J. Rose</td>\n",
              "      <td>2002.0</td>\n",
              "      <td>Ballantine Books</td>\n",
              "    </tr>\n",
              "    <tr>\n",
              "      <th>4</th>\n",
              "      <td>10314</td>\n",
              "      <td>034545104X</td>\n",
              "      <td>9</td>\n",
              "      <td>Flesh Tones: A Novel</td>\n",
              "      <td>M. J. Rose</td>\n",
              "      <td>2002.0</td>\n",
              "      <td>Ballantine Books</td>\n",
              "    </tr>\n",
              "  </tbody>\n",
              "</table>\n",
              "</div>\n",
              "      <button class=\"colab-df-convert\" onclick=\"convertToInteractive('df-063d31f1-f2c7-469a-bf48-29105100a8d3')\"\n",
              "              title=\"Convert this dataframe to an interactive table.\"\n",
              "              style=\"display:none;\">\n",
              "        \n",
              "  <svg xmlns=\"http://www.w3.org/2000/svg\" height=\"24px\"viewBox=\"0 0 24 24\"\n",
              "       width=\"24px\">\n",
              "    <path d=\"M0 0h24v24H0V0z\" fill=\"none\"/>\n",
              "    <path d=\"M18.56 5.44l.94 2.06.94-2.06 2.06-.94-2.06-.94-.94-2.06-.94 2.06-2.06.94zm-11 1L8.5 8.5l.94-2.06 2.06-.94-2.06-.94L8.5 2.5l-.94 2.06-2.06.94zm10 10l.94 2.06.94-2.06 2.06-.94-2.06-.94-.94-2.06-.94 2.06-2.06.94z\"/><path d=\"M17.41 7.96l-1.37-1.37c-.4-.4-.92-.59-1.43-.59-.52 0-1.04.2-1.43.59L10.3 9.45l-7.72 7.72c-.78.78-.78 2.05 0 2.83L4 21.41c.39.39.9.59 1.41.59.51 0 1.02-.2 1.41-.59l7.78-7.78 2.81-2.81c.8-.78.8-2.07 0-2.86zM5.41 20L4 18.59l7.72-7.72 1.47 1.35L5.41 20z\"/>\n",
              "  </svg>\n",
              "      </button>\n",
              "      \n",
              "  <style>\n",
              "    .colab-df-container {\n",
              "      display:flex;\n",
              "      flex-wrap:wrap;\n",
              "      gap: 12px;\n",
              "    }\n",
              "\n",
              "    .colab-df-convert {\n",
              "      background-color: #E8F0FE;\n",
              "      border: none;\n",
              "      border-radius: 50%;\n",
              "      cursor: pointer;\n",
              "      display: none;\n",
              "      fill: #1967D2;\n",
              "      height: 32px;\n",
              "      padding: 0 0 0 0;\n",
              "      width: 32px;\n",
              "    }\n",
              "\n",
              "    .colab-df-convert:hover {\n",
              "      background-color: #E2EBFA;\n",
              "      box-shadow: 0px 1px 2px rgba(60, 64, 67, 0.3), 0px 1px 3px 1px rgba(60, 64, 67, 0.15);\n",
              "      fill: #174EA6;\n",
              "    }\n",
              "\n",
              "    [theme=dark] .colab-df-convert {\n",
              "      background-color: #3B4455;\n",
              "      fill: #D2E3FC;\n",
              "    }\n",
              "\n",
              "    [theme=dark] .colab-df-convert:hover {\n",
              "      background-color: #434B5C;\n",
              "      box-shadow: 0px 1px 3px 1px rgba(0, 0, 0, 0.15);\n",
              "      filter: drop-shadow(0px 1px 2px rgba(0, 0, 0, 0.3));\n",
              "      fill: #FFFFFF;\n",
              "    }\n",
              "  </style>\n",
              "\n",
              "      <script>\n",
              "        const buttonEl =\n",
              "          document.querySelector('#df-063d31f1-f2c7-469a-bf48-29105100a8d3 button.colab-df-convert');\n",
              "        buttonEl.style.display =\n",
              "          google.colab.kernel.accessAllowed ? 'block' : 'none';\n",
              "\n",
              "        async function convertToInteractive(key) {\n",
              "          const element = document.querySelector('#df-063d31f1-f2c7-469a-bf48-29105100a8d3');\n",
              "          const dataTable =\n",
              "            await google.colab.kernel.invokeFunction('convertToInteractive',\n",
              "                                                     [key], {});\n",
              "          if (!dataTable) return;\n",
              "\n",
              "          const docLinkHtml = 'Like what you see? Visit the ' +\n",
              "            '<a target=\"_blank\" href=https://colab.research.google.com/notebooks/data_table.ipynb>data table notebook</a>'\n",
              "            + ' to learn more about interactive tables.';\n",
              "          element.innerHTML = '';\n",
              "          dataTable['output_type'] = 'display_data';\n",
              "          await google.colab.output.renderOutput(dataTable, element);\n",
              "          const docLink = document.createElement('div');\n",
              "          docLink.innerHTML = docLinkHtml;\n",
              "          element.appendChild(docLink);\n",
              "        }\n",
              "      </script>\n",
              "    </div>\n",
              "  </div>\n",
              "  "
            ]
          },
          "metadata": {},
          "execution_count": 62
        }
      ]
    },
    {
      "cell_type": "code",
      "source": [
        "#Merging the dataset ratings and Books\n",
        "books_with_rating = pd.merge(rating_df, book_df, on='ISBN')\n",
        "\n",
        "#books_with_rating.drop(books_with_rating.filter(regex='_y$').columns, axis=1, inplace=True)\n",
        "books_with_rating.head()"
      ],
      "metadata": {
        "id": "EDjM_UcXUpRF",
        "colab": {
          "base_uri": "https://localhost:8080/",
          "height": 206
        },
        "outputId": "d9148b35-8eb4-446a-b680-0ad0545b2b6a"
      },
      "execution_count": 63,
      "outputs": [
        {
          "output_type": "execute_result",
          "data": {
            "text/plain": [
              "   user_id        ISBN  rating                 title      author    year  \\\n",
              "0   276725  034545104X       0  Flesh Tones: A Novel  M. J. Rose  2002.0   \n",
              "1     2313  034545104X       5  Flesh Tones: A Novel  M. J. Rose  2002.0   \n",
              "2     6543  034545104X       0  Flesh Tones: A Novel  M. J. Rose  2002.0   \n",
              "3     8680  034545104X       5  Flesh Tones: A Novel  M. J. Rose  2002.0   \n",
              "4    10314  034545104X       9  Flesh Tones: A Novel  M. J. Rose  2002.0   \n",
              "\n",
              "          publisher  \n",
              "0  Ballantine Books  \n",
              "1  Ballantine Books  \n",
              "2  Ballantine Books  \n",
              "3  Ballantine Books  \n",
              "4  Ballantine Books  "
            ],
            "text/html": [
              "\n",
              "  <div id=\"df-61458fc3-2fe3-47d1-ba7f-4db1f620d9a4\">\n",
              "    <div class=\"colab-df-container\">\n",
              "      <div>\n",
              "<style scoped>\n",
              "    .dataframe tbody tr th:only-of-type {\n",
              "        vertical-align: middle;\n",
              "    }\n",
              "\n",
              "    .dataframe tbody tr th {\n",
              "        vertical-align: top;\n",
              "    }\n",
              "\n",
              "    .dataframe thead th {\n",
              "        text-align: right;\n",
              "    }\n",
              "</style>\n",
              "<table border=\"1\" class=\"dataframe\">\n",
              "  <thead>\n",
              "    <tr style=\"text-align: right;\">\n",
              "      <th></th>\n",
              "      <th>user_id</th>\n",
              "      <th>ISBN</th>\n",
              "      <th>rating</th>\n",
              "      <th>title</th>\n",
              "      <th>author</th>\n",
              "      <th>year</th>\n",
              "      <th>publisher</th>\n",
              "    </tr>\n",
              "  </thead>\n",
              "  <tbody>\n",
              "    <tr>\n",
              "      <th>0</th>\n",
              "      <td>276725</td>\n",
              "      <td>034545104X</td>\n",
              "      <td>0</td>\n",
              "      <td>Flesh Tones: A Novel</td>\n",
              "      <td>M. J. Rose</td>\n",
              "      <td>2002.0</td>\n",
              "      <td>Ballantine Books</td>\n",
              "    </tr>\n",
              "    <tr>\n",
              "      <th>1</th>\n",
              "      <td>2313</td>\n",
              "      <td>034545104X</td>\n",
              "      <td>5</td>\n",
              "      <td>Flesh Tones: A Novel</td>\n",
              "      <td>M. J. Rose</td>\n",
              "      <td>2002.0</td>\n",
              "      <td>Ballantine Books</td>\n",
              "    </tr>\n",
              "    <tr>\n",
              "      <th>2</th>\n",
              "      <td>6543</td>\n",
              "      <td>034545104X</td>\n",
              "      <td>0</td>\n",
              "      <td>Flesh Tones: A Novel</td>\n",
              "      <td>M. J. Rose</td>\n",
              "      <td>2002.0</td>\n",
              "      <td>Ballantine Books</td>\n",
              "    </tr>\n",
              "    <tr>\n",
              "      <th>3</th>\n",
              "      <td>8680</td>\n",
              "      <td>034545104X</td>\n",
              "      <td>5</td>\n",
              "      <td>Flesh Tones: A Novel</td>\n",
              "      <td>M. J. Rose</td>\n",
              "      <td>2002.0</td>\n",
              "      <td>Ballantine Books</td>\n",
              "    </tr>\n",
              "    <tr>\n",
              "      <th>4</th>\n",
              "      <td>10314</td>\n",
              "      <td>034545104X</td>\n",
              "      <td>9</td>\n",
              "      <td>Flesh Tones: A Novel</td>\n",
              "      <td>M. J. Rose</td>\n",
              "      <td>2002.0</td>\n",
              "      <td>Ballantine Books</td>\n",
              "    </tr>\n",
              "  </tbody>\n",
              "</table>\n",
              "</div>\n",
              "      <button class=\"colab-df-convert\" onclick=\"convertToInteractive('df-61458fc3-2fe3-47d1-ba7f-4db1f620d9a4')\"\n",
              "              title=\"Convert this dataframe to an interactive table.\"\n",
              "              style=\"display:none;\">\n",
              "        \n",
              "  <svg xmlns=\"http://www.w3.org/2000/svg\" height=\"24px\"viewBox=\"0 0 24 24\"\n",
              "       width=\"24px\">\n",
              "    <path d=\"M0 0h24v24H0V0z\" fill=\"none\"/>\n",
              "    <path d=\"M18.56 5.44l.94 2.06.94-2.06 2.06-.94-2.06-.94-.94-2.06-.94 2.06-2.06.94zm-11 1L8.5 8.5l.94-2.06 2.06-.94-2.06-.94L8.5 2.5l-.94 2.06-2.06.94zm10 10l.94 2.06.94-2.06 2.06-.94-2.06-.94-.94-2.06-.94 2.06-2.06.94z\"/><path d=\"M17.41 7.96l-1.37-1.37c-.4-.4-.92-.59-1.43-.59-.52 0-1.04.2-1.43.59L10.3 9.45l-7.72 7.72c-.78.78-.78 2.05 0 2.83L4 21.41c.39.39.9.59 1.41.59.51 0 1.02-.2 1.41-.59l7.78-7.78 2.81-2.81c.8-.78.8-2.07 0-2.86zM5.41 20L4 18.59l7.72-7.72 1.47 1.35L5.41 20z\"/>\n",
              "  </svg>\n",
              "      </button>\n",
              "      \n",
              "  <style>\n",
              "    .colab-df-container {\n",
              "      display:flex;\n",
              "      flex-wrap:wrap;\n",
              "      gap: 12px;\n",
              "    }\n",
              "\n",
              "    .colab-df-convert {\n",
              "      background-color: #E8F0FE;\n",
              "      border: none;\n",
              "      border-radius: 50%;\n",
              "      cursor: pointer;\n",
              "      display: none;\n",
              "      fill: #1967D2;\n",
              "      height: 32px;\n",
              "      padding: 0 0 0 0;\n",
              "      width: 32px;\n",
              "    }\n",
              "\n",
              "    .colab-df-convert:hover {\n",
              "      background-color: #E2EBFA;\n",
              "      box-shadow: 0px 1px 2px rgba(60, 64, 67, 0.3), 0px 1px 3px 1px rgba(60, 64, 67, 0.15);\n",
              "      fill: #174EA6;\n",
              "    }\n",
              "\n",
              "    [theme=dark] .colab-df-convert {\n",
              "      background-color: #3B4455;\n",
              "      fill: #D2E3FC;\n",
              "    }\n",
              "\n",
              "    [theme=dark] .colab-df-convert:hover {\n",
              "      background-color: #434B5C;\n",
              "      box-shadow: 0px 1px 3px 1px rgba(0, 0, 0, 0.15);\n",
              "      filter: drop-shadow(0px 1px 2px rgba(0, 0, 0, 0.3));\n",
              "      fill: #FFFFFF;\n",
              "    }\n",
              "  </style>\n",
              "\n",
              "      <script>\n",
              "        const buttonEl =\n",
              "          document.querySelector('#df-61458fc3-2fe3-47d1-ba7f-4db1f620d9a4 button.colab-df-convert');\n",
              "        buttonEl.style.display =\n",
              "          google.colab.kernel.accessAllowed ? 'block' : 'none';\n",
              "\n",
              "        async function convertToInteractive(key) {\n",
              "          const element = document.querySelector('#df-61458fc3-2fe3-47d1-ba7f-4db1f620d9a4');\n",
              "          const dataTable =\n",
              "            await google.colab.kernel.invokeFunction('convertToInteractive',\n",
              "                                                     [key], {});\n",
              "          if (!dataTable) return;\n",
              "\n",
              "          const docLinkHtml = 'Like what you see? Visit the ' +\n",
              "            '<a target=\"_blank\" href=https://colab.research.google.com/notebooks/data_table.ipynb>data table notebook</a>'\n",
              "            + ' to learn more about interactive tables.';\n",
              "          element.innerHTML = '';\n",
              "          dataTable['output_type'] = 'display_data';\n",
              "          await google.colab.output.renderOutput(dataTable, element);\n",
              "          const docLink = document.createElement('div');\n",
              "          docLink.innerHTML = docLinkHtml;\n",
              "          element.appendChild(docLink);\n",
              "        }\n",
              "      </script>\n",
              "    </div>\n",
              "  </div>\n",
              "  "
            ]
          },
          "metadata": {},
          "execution_count": 63
        }
      ]
    },
    {
      "cell_type": "code",
      "source": [
        "books_with_rating.shape"
      ],
      "metadata": {
        "colab": {
          "base_uri": "https://localhost:8080/"
        },
        "id": "9CrI06uOgJx1",
        "outputId": "d28902d5-ce4b-45c5-a158-fc62ee953393"
      },
      "execution_count": 68,
      "outputs": [
        {
          "output_type": "execute_result",
          "data": {
            "text/plain": [
              "(1031133, 7)"
            ]
          },
          "metadata": {},
          "execution_count": 68
        }
      ]
    },
    {
      "cell_type": "code",
      "source": [
        "rating_count_df =books_with_rating.groupby('title')['rating'].count().reset_index() ## grouping "
      ],
      "metadata": {
        "id": "mxsJF5uHgP-Y"
      },
      "execution_count": 69,
      "outputs": []
    },
    {
      "cell_type": "code",
      "source": [
        "#Print top 5 rows of dataset\n",
        "rating_count_df.head()"
      ],
      "metadata": {
        "colab": {
          "base_uri": "https://localhost:8080/",
          "height": 206
        },
        "id": "H7itOOcugTko",
        "outputId": "0f8a3db2-51da-424c-a1ed-449b7b32a00a"
      },
      "execution_count": 70,
      "outputs": [
        {
          "output_type": "execute_result",
          "data": {
            "text/plain": [
              "                                                                                                        title  \\\n",
              "0   A Light in the Storm: The Civil War Diary of Amelia Martin, Fenwick Island, Delaware, 1861 (Dear America)   \n",
              "1                                                                                       Always Have Popsicles   \n",
              "2                                                                        Apple Magic (The Collector's series)   \n",
              "3                                                        Ask Lily (Young Women of Faith: Lily Series, Book 5)   \n",
              "4                                                  Beyond IBM: Leadership Marketing and Finance for the 1990s   \n",
              "\n",
              "   rating  \n",
              "0       4  \n",
              "1       1  \n",
              "2       1  \n",
              "3       1  \n",
              "4       1  "
            ],
            "text/html": [
              "\n",
              "  <div id=\"df-2034072b-95bd-4af5-b947-cc9e5f96608b\">\n",
              "    <div class=\"colab-df-container\">\n",
              "      <div>\n",
              "<style scoped>\n",
              "    .dataframe tbody tr th:only-of-type {\n",
              "        vertical-align: middle;\n",
              "    }\n",
              "\n",
              "    .dataframe tbody tr th {\n",
              "        vertical-align: top;\n",
              "    }\n",
              "\n",
              "    .dataframe thead th {\n",
              "        text-align: right;\n",
              "    }\n",
              "</style>\n",
              "<table border=\"1\" class=\"dataframe\">\n",
              "  <thead>\n",
              "    <tr style=\"text-align: right;\">\n",
              "      <th></th>\n",
              "      <th>title</th>\n",
              "      <th>rating</th>\n",
              "    </tr>\n",
              "  </thead>\n",
              "  <tbody>\n",
              "    <tr>\n",
              "      <th>0</th>\n",
              "      <td>A Light in the Storm: The Civil War Diary of Amelia Martin, Fenwick Island, Delaware, 1861 (Dear America)</td>\n",
              "      <td>4</td>\n",
              "    </tr>\n",
              "    <tr>\n",
              "      <th>1</th>\n",
              "      <td>Always Have Popsicles</td>\n",
              "      <td>1</td>\n",
              "    </tr>\n",
              "    <tr>\n",
              "      <th>2</th>\n",
              "      <td>Apple Magic (The Collector's series)</td>\n",
              "      <td>1</td>\n",
              "    </tr>\n",
              "    <tr>\n",
              "      <th>3</th>\n",
              "      <td>Ask Lily (Young Women of Faith: Lily Series, Book 5)</td>\n",
              "      <td>1</td>\n",
              "    </tr>\n",
              "    <tr>\n",
              "      <th>4</th>\n",
              "      <td>Beyond IBM: Leadership Marketing and Finance for the 1990s</td>\n",
              "      <td>1</td>\n",
              "    </tr>\n",
              "  </tbody>\n",
              "</table>\n",
              "</div>\n",
              "      <button class=\"colab-df-convert\" onclick=\"convertToInteractive('df-2034072b-95bd-4af5-b947-cc9e5f96608b')\"\n",
              "              title=\"Convert this dataframe to an interactive table.\"\n",
              "              style=\"display:none;\">\n",
              "        \n",
              "  <svg xmlns=\"http://www.w3.org/2000/svg\" height=\"24px\"viewBox=\"0 0 24 24\"\n",
              "       width=\"24px\">\n",
              "    <path d=\"M0 0h24v24H0V0z\" fill=\"none\"/>\n",
              "    <path d=\"M18.56 5.44l.94 2.06.94-2.06 2.06-.94-2.06-.94-.94-2.06-.94 2.06-2.06.94zm-11 1L8.5 8.5l.94-2.06 2.06-.94-2.06-.94L8.5 2.5l-.94 2.06-2.06.94zm10 10l.94 2.06.94-2.06 2.06-.94-2.06-.94-.94-2.06-.94 2.06-2.06.94z\"/><path d=\"M17.41 7.96l-1.37-1.37c-.4-.4-.92-.59-1.43-.59-.52 0-1.04.2-1.43.59L10.3 9.45l-7.72 7.72c-.78.78-.78 2.05 0 2.83L4 21.41c.39.39.9.59 1.41.59.51 0 1.02-.2 1.41-.59l7.78-7.78 2.81-2.81c.8-.78.8-2.07 0-2.86zM5.41 20L4 18.59l7.72-7.72 1.47 1.35L5.41 20z\"/>\n",
              "  </svg>\n",
              "      </button>\n",
              "      \n",
              "  <style>\n",
              "    .colab-df-container {\n",
              "      display:flex;\n",
              "      flex-wrap:wrap;\n",
              "      gap: 12px;\n",
              "    }\n",
              "\n",
              "    .colab-df-convert {\n",
              "      background-color: #E8F0FE;\n",
              "      border: none;\n",
              "      border-radius: 50%;\n",
              "      cursor: pointer;\n",
              "      display: none;\n",
              "      fill: #1967D2;\n",
              "      height: 32px;\n",
              "      padding: 0 0 0 0;\n",
              "      width: 32px;\n",
              "    }\n",
              "\n",
              "    .colab-df-convert:hover {\n",
              "      background-color: #E2EBFA;\n",
              "      box-shadow: 0px 1px 2px rgba(60, 64, 67, 0.3), 0px 1px 3px 1px rgba(60, 64, 67, 0.15);\n",
              "      fill: #174EA6;\n",
              "    }\n",
              "\n",
              "    [theme=dark] .colab-df-convert {\n",
              "      background-color: #3B4455;\n",
              "      fill: #D2E3FC;\n",
              "    }\n",
              "\n",
              "    [theme=dark] .colab-df-convert:hover {\n",
              "      background-color: #434B5C;\n",
              "      box-shadow: 0px 1px 3px 1px rgba(0, 0, 0, 0.15);\n",
              "      filter: drop-shadow(0px 1px 2px rgba(0, 0, 0, 0.3));\n",
              "      fill: #FFFFFF;\n",
              "    }\n",
              "  </style>\n",
              "\n",
              "      <script>\n",
              "        const buttonEl =\n",
              "          document.querySelector('#df-2034072b-95bd-4af5-b947-cc9e5f96608b button.colab-df-convert');\n",
              "        buttonEl.style.display =\n",
              "          google.colab.kernel.accessAllowed ? 'block' : 'none';\n",
              "\n",
              "        async function convertToInteractive(key) {\n",
              "          const element = document.querySelector('#df-2034072b-95bd-4af5-b947-cc9e5f96608b');\n",
              "          const dataTable =\n",
              "            await google.colab.kernel.invokeFunction('convertToInteractive',\n",
              "                                                     [key], {});\n",
              "          if (!dataTable) return;\n",
              "\n",
              "          const docLinkHtml = 'Like what you see? Visit the ' +\n",
              "            '<a target=\"_blank\" href=https://colab.research.google.com/notebooks/data_table.ipynb>data table notebook</a>'\n",
              "            + ' to learn more about interactive tables.';\n",
              "          element.innerHTML = '';\n",
              "          dataTable['output_type'] = 'display_data';\n",
              "          await google.colab.output.renderOutput(dataTable, element);\n",
              "          const docLink = document.createElement('div');\n",
              "          docLink.innerHTML = docLinkHtml;\n",
              "          element.appendChild(docLink);\n",
              "        }\n",
              "      </script>\n",
              "    </div>\n",
              "  </div>\n",
              "  "
            ]
          },
          "metadata": {},
          "execution_count": 70
        }
      ]
    },
    {
      "cell_type": "code",
      "source": [
        "#Rename the column rating with total ratings\n",
        "rating_count_df.rename(columns={'rating':'total_ratings'},inplace=True)"
      ],
      "metadata": {
        "id": "_dxURPLjgWge"
      },
      "execution_count": 71,
      "outputs": []
    },
    {
      "cell_type": "code",
      "source": [
        "#Merging the dataframes\n",
        "totalRatingCount_df = books_with_rating.merge(rating_count_df, left_on = 'title', right_on = 'title', how = 'left')\n",
        "totalRatingCount_df.head()"
      ],
      "metadata": {
        "colab": {
          "base_uri": "https://localhost:8080/",
          "height": 206
        },
        "id": "S1wStGtpgcw1",
        "outputId": "26060cf9-3e4a-4e68-e50e-d76a5e1ec015"
      },
      "execution_count": 72,
      "outputs": [
        {
          "output_type": "execute_result",
          "data": {
            "text/plain": [
              "   user_id        ISBN  rating                 title      author    year  \\\n",
              "0   276725  034545104X       0  Flesh Tones: A Novel  M. J. Rose  2002.0   \n",
              "1     2313  034545104X       5  Flesh Tones: A Novel  M. J. Rose  2002.0   \n",
              "2     6543  034545104X       0  Flesh Tones: A Novel  M. J. Rose  2002.0   \n",
              "3     8680  034545104X       5  Flesh Tones: A Novel  M. J. Rose  2002.0   \n",
              "4    10314  034545104X       9  Flesh Tones: A Novel  M. J. Rose  2002.0   \n",
              "\n",
              "          publisher  total_ratings  \n",
              "0  Ballantine Books             60  \n",
              "1  Ballantine Books             60  \n",
              "2  Ballantine Books             60  \n",
              "3  Ballantine Books             60  \n",
              "4  Ballantine Books             60  "
            ],
            "text/html": [
              "\n",
              "  <div id=\"df-5a22fc27-5d6f-4cd6-a092-84fe7e2a15bd\">\n",
              "    <div class=\"colab-df-container\">\n",
              "      <div>\n",
              "<style scoped>\n",
              "    .dataframe tbody tr th:only-of-type {\n",
              "        vertical-align: middle;\n",
              "    }\n",
              "\n",
              "    .dataframe tbody tr th {\n",
              "        vertical-align: top;\n",
              "    }\n",
              "\n",
              "    .dataframe thead th {\n",
              "        text-align: right;\n",
              "    }\n",
              "</style>\n",
              "<table border=\"1\" class=\"dataframe\">\n",
              "  <thead>\n",
              "    <tr style=\"text-align: right;\">\n",
              "      <th></th>\n",
              "      <th>user_id</th>\n",
              "      <th>ISBN</th>\n",
              "      <th>rating</th>\n",
              "      <th>title</th>\n",
              "      <th>author</th>\n",
              "      <th>year</th>\n",
              "      <th>publisher</th>\n",
              "      <th>total_ratings</th>\n",
              "    </tr>\n",
              "  </thead>\n",
              "  <tbody>\n",
              "    <tr>\n",
              "      <th>0</th>\n",
              "      <td>276725</td>\n",
              "      <td>034545104X</td>\n",
              "      <td>0</td>\n",
              "      <td>Flesh Tones: A Novel</td>\n",
              "      <td>M. J. Rose</td>\n",
              "      <td>2002.0</td>\n",
              "      <td>Ballantine Books</td>\n",
              "      <td>60</td>\n",
              "    </tr>\n",
              "    <tr>\n",
              "      <th>1</th>\n",
              "      <td>2313</td>\n",
              "      <td>034545104X</td>\n",
              "      <td>5</td>\n",
              "      <td>Flesh Tones: A Novel</td>\n",
              "      <td>M. J. Rose</td>\n",
              "      <td>2002.0</td>\n",
              "      <td>Ballantine Books</td>\n",
              "      <td>60</td>\n",
              "    </tr>\n",
              "    <tr>\n",
              "      <th>2</th>\n",
              "      <td>6543</td>\n",
              "      <td>034545104X</td>\n",
              "      <td>0</td>\n",
              "      <td>Flesh Tones: A Novel</td>\n",
              "      <td>M. J. Rose</td>\n",
              "      <td>2002.0</td>\n",
              "      <td>Ballantine Books</td>\n",
              "      <td>60</td>\n",
              "    </tr>\n",
              "    <tr>\n",
              "      <th>3</th>\n",
              "      <td>8680</td>\n",
              "      <td>034545104X</td>\n",
              "      <td>5</td>\n",
              "      <td>Flesh Tones: A Novel</td>\n",
              "      <td>M. J. Rose</td>\n",
              "      <td>2002.0</td>\n",
              "      <td>Ballantine Books</td>\n",
              "      <td>60</td>\n",
              "    </tr>\n",
              "    <tr>\n",
              "      <th>4</th>\n",
              "      <td>10314</td>\n",
              "      <td>034545104X</td>\n",
              "      <td>9</td>\n",
              "      <td>Flesh Tones: A Novel</td>\n",
              "      <td>M. J. Rose</td>\n",
              "      <td>2002.0</td>\n",
              "      <td>Ballantine Books</td>\n",
              "      <td>60</td>\n",
              "    </tr>\n",
              "  </tbody>\n",
              "</table>\n",
              "</div>\n",
              "      <button class=\"colab-df-convert\" onclick=\"convertToInteractive('df-5a22fc27-5d6f-4cd6-a092-84fe7e2a15bd')\"\n",
              "              title=\"Convert this dataframe to an interactive table.\"\n",
              "              style=\"display:none;\">\n",
              "        \n",
              "  <svg xmlns=\"http://www.w3.org/2000/svg\" height=\"24px\"viewBox=\"0 0 24 24\"\n",
              "       width=\"24px\">\n",
              "    <path d=\"M0 0h24v24H0V0z\" fill=\"none\"/>\n",
              "    <path d=\"M18.56 5.44l.94 2.06.94-2.06 2.06-.94-2.06-.94-.94-2.06-.94 2.06-2.06.94zm-11 1L8.5 8.5l.94-2.06 2.06-.94-2.06-.94L8.5 2.5l-.94 2.06-2.06.94zm10 10l.94 2.06.94-2.06 2.06-.94-2.06-.94-.94-2.06-.94 2.06-2.06.94z\"/><path d=\"M17.41 7.96l-1.37-1.37c-.4-.4-.92-.59-1.43-.59-.52 0-1.04.2-1.43.59L10.3 9.45l-7.72 7.72c-.78.78-.78 2.05 0 2.83L4 21.41c.39.39.9.59 1.41.59.51 0 1.02-.2 1.41-.59l7.78-7.78 2.81-2.81c.8-.78.8-2.07 0-2.86zM5.41 20L4 18.59l7.72-7.72 1.47 1.35L5.41 20z\"/>\n",
              "  </svg>\n",
              "      </button>\n",
              "      \n",
              "  <style>\n",
              "    .colab-df-container {\n",
              "      display:flex;\n",
              "      flex-wrap:wrap;\n",
              "      gap: 12px;\n",
              "    }\n",
              "\n",
              "    .colab-df-convert {\n",
              "      background-color: #E8F0FE;\n",
              "      border: none;\n",
              "      border-radius: 50%;\n",
              "      cursor: pointer;\n",
              "      display: none;\n",
              "      fill: #1967D2;\n",
              "      height: 32px;\n",
              "      padding: 0 0 0 0;\n",
              "      width: 32px;\n",
              "    }\n",
              "\n",
              "    .colab-df-convert:hover {\n",
              "      background-color: #E2EBFA;\n",
              "      box-shadow: 0px 1px 2px rgba(60, 64, 67, 0.3), 0px 1px 3px 1px rgba(60, 64, 67, 0.15);\n",
              "      fill: #174EA6;\n",
              "    }\n",
              "\n",
              "    [theme=dark] .colab-df-convert {\n",
              "      background-color: #3B4455;\n",
              "      fill: #D2E3FC;\n",
              "    }\n",
              "\n",
              "    [theme=dark] .colab-df-convert:hover {\n",
              "      background-color: #434B5C;\n",
              "      box-shadow: 0px 1px 3px 1px rgba(0, 0, 0, 0.15);\n",
              "      filter: drop-shadow(0px 1px 2px rgba(0, 0, 0, 0.3));\n",
              "      fill: #FFFFFF;\n",
              "    }\n",
              "  </style>\n",
              "\n",
              "      <script>\n",
              "        const buttonEl =\n",
              "          document.querySelector('#df-5a22fc27-5d6f-4cd6-a092-84fe7e2a15bd button.colab-df-convert');\n",
              "        buttonEl.style.display =\n",
              "          google.colab.kernel.accessAllowed ? 'block' : 'none';\n",
              "\n",
              "        async function convertToInteractive(key) {\n",
              "          const element = document.querySelector('#df-5a22fc27-5d6f-4cd6-a092-84fe7e2a15bd');\n",
              "          const dataTable =\n",
              "            await google.colab.kernel.invokeFunction('convertToInteractive',\n",
              "                                                     [key], {});\n",
              "          if (!dataTable) return;\n",
              "\n",
              "          const docLinkHtml = 'Like what you see? Visit the ' +\n",
              "            '<a target=\"_blank\" href=https://colab.research.google.com/notebooks/data_table.ipynb>data table notebook</a>'\n",
              "            + ' to learn more about interactive tables.';\n",
              "          element.innerHTML = '';\n",
              "          dataTable['output_type'] = 'display_data';\n",
              "          await google.colab.output.renderOutput(dataTable, element);\n",
              "          const docLink = document.createElement('div');\n",
              "          docLink.innerHTML = docLinkHtml;\n",
              "          element.appendChild(docLink);\n",
              "        }\n",
              "      </script>\n",
              "    </div>\n",
              "  </div>\n",
              "  "
            ]
          },
          "metadata": {},
          "execution_count": 72
        }
      ]
    },
    {
      "cell_type": "code",
      "source": [
        "#let's keep threshold popularity value 50 \n",
        "popularity_threshold = 50\n",
        "rating_popular_book = totalRatingCount_df.query('total_ratings >= @popularity_threshold')\n",
        "rating_popular_book.head()"
      ],
      "metadata": {
        "colab": {
          "base_uri": "https://localhost:8080/",
          "height": 206
        },
        "id": "pDGVCv9dgfPp",
        "outputId": "ade6360b-0f1e-4f36-b643-450cdd5c5ef5"
      },
      "execution_count": 73,
      "outputs": [
        {
          "output_type": "execute_result",
          "data": {
            "text/plain": [
              "   user_id        ISBN  rating                 title      author    year  \\\n",
              "0   276725  034545104X       0  Flesh Tones: A Novel  M. J. Rose  2002.0   \n",
              "1     2313  034545104X       5  Flesh Tones: A Novel  M. J. Rose  2002.0   \n",
              "2     6543  034545104X       0  Flesh Tones: A Novel  M. J. Rose  2002.0   \n",
              "3     8680  034545104X       5  Flesh Tones: A Novel  M. J. Rose  2002.0   \n",
              "4    10314  034545104X       9  Flesh Tones: A Novel  M. J. Rose  2002.0   \n",
              "\n",
              "          publisher  total_ratings  \n",
              "0  Ballantine Books             60  \n",
              "1  Ballantine Books             60  \n",
              "2  Ballantine Books             60  \n",
              "3  Ballantine Books             60  \n",
              "4  Ballantine Books             60  "
            ],
            "text/html": [
              "\n",
              "  <div id=\"df-7b867abf-9071-4435-ba22-7c55919231a0\">\n",
              "    <div class=\"colab-df-container\">\n",
              "      <div>\n",
              "<style scoped>\n",
              "    .dataframe tbody tr th:only-of-type {\n",
              "        vertical-align: middle;\n",
              "    }\n",
              "\n",
              "    .dataframe tbody tr th {\n",
              "        vertical-align: top;\n",
              "    }\n",
              "\n",
              "    .dataframe thead th {\n",
              "        text-align: right;\n",
              "    }\n",
              "</style>\n",
              "<table border=\"1\" class=\"dataframe\">\n",
              "  <thead>\n",
              "    <tr style=\"text-align: right;\">\n",
              "      <th></th>\n",
              "      <th>user_id</th>\n",
              "      <th>ISBN</th>\n",
              "      <th>rating</th>\n",
              "      <th>title</th>\n",
              "      <th>author</th>\n",
              "      <th>year</th>\n",
              "      <th>publisher</th>\n",
              "      <th>total_ratings</th>\n",
              "    </tr>\n",
              "  </thead>\n",
              "  <tbody>\n",
              "    <tr>\n",
              "      <th>0</th>\n",
              "      <td>276725</td>\n",
              "      <td>034545104X</td>\n",
              "      <td>0</td>\n",
              "      <td>Flesh Tones: A Novel</td>\n",
              "      <td>M. J. Rose</td>\n",
              "      <td>2002.0</td>\n",
              "      <td>Ballantine Books</td>\n",
              "      <td>60</td>\n",
              "    </tr>\n",
              "    <tr>\n",
              "      <th>1</th>\n",
              "      <td>2313</td>\n",
              "      <td>034545104X</td>\n",
              "      <td>5</td>\n",
              "      <td>Flesh Tones: A Novel</td>\n",
              "      <td>M. J. Rose</td>\n",
              "      <td>2002.0</td>\n",
              "      <td>Ballantine Books</td>\n",
              "      <td>60</td>\n",
              "    </tr>\n",
              "    <tr>\n",
              "      <th>2</th>\n",
              "      <td>6543</td>\n",
              "      <td>034545104X</td>\n",
              "      <td>0</td>\n",
              "      <td>Flesh Tones: A Novel</td>\n",
              "      <td>M. J. Rose</td>\n",
              "      <td>2002.0</td>\n",
              "      <td>Ballantine Books</td>\n",
              "      <td>60</td>\n",
              "    </tr>\n",
              "    <tr>\n",
              "      <th>3</th>\n",
              "      <td>8680</td>\n",
              "      <td>034545104X</td>\n",
              "      <td>5</td>\n",
              "      <td>Flesh Tones: A Novel</td>\n",
              "      <td>M. J. Rose</td>\n",
              "      <td>2002.0</td>\n",
              "      <td>Ballantine Books</td>\n",
              "      <td>60</td>\n",
              "    </tr>\n",
              "    <tr>\n",
              "      <th>4</th>\n",
              "      <td>10314</td>\n",
              "      <td>034545104X</td>\n",
              "      <td>9</td>\n",
              "      <td>Flesh Tones: A Novel</td>\n",
              "      <td>M. J. Rose</td>\n",
              "      <td>2002.0</td>\n",
              "      <td>Ballantine Books</td>\n",
              "      <td>60</td>\n",
              "    </tr>\n",
              "  </tbody>\n",
              "</table>\n",
              "</div>\n",
              "      <button class=\"colab-df-convert\" onclick=\"convertToInteractive('df-7b867abf-9071-4435-ba22-7c55919231a0')\"\n",
              "              title=\"Convert this dataframe to an interactive table.\"\n",
              "              style=\"display:none;\">\n",
              "        \n",
              "  <svg xmlns=\"http://www.w3.org/2000/svg\" height=\"24px\"viewBox=\"0 0 24 24\"\n",
              "       width=\"24px\">\n",
              "    <path d=\"M0 0h24v24H0V0z\" fill=\"none\"/>\n",
              "    <path d=\"M18.56 5.44l.94 2.06.94-2.06 2.06-.94-2.06-.94-.94-2.06-.94 2.06-2.06.94zm-11 1L8.5 8.5l.94-2.06 2.06-.94-2.06-.94L8.5 2.5l-.94 2.06-2.06.94zm10 10l.94 2.06.94-2.06 2.06-.94-2.06-.94-.94-2.06-.94 2.06-2.06.94z\"/><path d=\"M17.41 7.96l-1.37-1.37c-.4-.4-.92-.59-1.43-.59-.52 0-1.04.2-1.43.59L10.3 9.45l-7.72 7.72c-.78.78-.78 2.05 0 2.83L4 21.41c.39.39.9.59 1.41.59.51 0 1.02-.2 1.41-.59l7.78-7.78 2.81-2.81c.8-.78.8-2.07 0-2.86zM5.41 20L4 18.59l7.72-7.72 1.47 1.35L5.41 20z\"/>\n",
              "  </svg>\n",
              "      </button>\n",
              "      \n",
              "  <style>\n",
              "    .colab-df-container {\n",
              "      display:flex;\n",
              "      flex-wrap:wrap;\n",
              "      gap: 12px;\n",
              "    }\n",
              "\n",
              "    .colab-df-convert {\n",
              "      background-color: #E8F0FE;\n",
              "      border: none;\n",
              "      border-radius: 50%;\n",
              "      cursor: pointer;\n",
              "      display: none;\n",
              "      fill: #1967D2;\n",
              "      height: 32px;\n",
              "      padding: 0 0 0 0;\n",
              "      width: 32px;\n",
              "    }\n",
              "\n",
              "    .colab-df-convert:hover {\n",
              "      background-color: #E2EBFA;\n",
              "      box-shadow: 0px 1px 2px rgba(60, 64, 67, 0.3), 0px 1px 3px 1px rgba(60, 64, 67, 0.15);\n",
              "      fill: #174EA6;\n",
              "    }\n",
              "\n",
              "    [theme=dark] .colab-df-convert {\n",
              "      background-color: #3B4455;\n",
              "      fill: #D2E3FC;\n",
              "    }\n",
              "\n",
              "    [theme=dark] .colab-df-convert:hover {\n",
              "      background-color: #434B5C;\n",
              "      box-shadow: 0px 1px 3px 1px rgba(0, 0, 0, 0.15);\n",
              "      filter: drop-shadow(0px 1px 2px rgba(0, 0, 0, 0.3));\n",
              "      fill: #FFFFFF;\n",
              "    }\n",
              "  </style>\n",
              "\n",
              "      <script>\n",
              "        const buttonEl =\n",
              "          document.querySelector('#df-7b867abf-9071-4435-ba22-7c55919231a0 button.colab-df-convert');\n",
              "        buttonEl.style.display =\n",
              "          google.colab.kernel.accessAllowed ? 'block' : 'none';\n",
              "\n",
              "        async function convertToInteractive(key) {\n",
              "          const element = document.querySelector('#df-7b867abf-9071-4435-ba22-7c55919231a0');\n",
              "          const dataTable =\n",
              "            await google.colab.kernel.invokeFunction('convertToInteractive',\n",
              "                                                     [key], {});\n",
              "          if (!dataTable) return;\n",
              "\n",
              "          const docLinkHtml = 'Like what you see? Visit the ' +\n",
              "            '<a target=\"_blank\" href=https://colab.research.google.com/notebooks/data_table.ipynb>data table notebook</a>'\n",
              "            + ' to learn more about interactive tables.';\n",
              "          element.innerHTML = '';\n",
              "          dataTable['output_type'] = 'display_data';\n",
              "          await google.colab.output.renderOutput(dataTable, element);\n",
              "          const docLink = document.createElement('div');\n",
              "          docLink.innerHTML = docLinkHtml;\n",
              "          element.appendChild(docLink);\n",
              "        }\n",
              "      </script>\n",
              "    </div>\n",
              "  </div>\n",
              "  "
            ]
          },
          "metadata": {},
          "execution_count": 73
        }
      ]
    },
    {
      "cell_type": "code",
      "source": [
        "#making our final dataset which has explicit rating, and data books which has rated >100 times and users who rated >200 books.\n",
        "combined = rating_popular_book.merge(user_df, left_on = 'user_id', right_on = 'user_id', how = 'left')## merging the dataframes"
      ],
      "metadata": {
        "id": "VU4GRIxhgiBM"
      },
      "execution_count": 74,
      "outputs": []
    },
    {
      "cell_type": "code",
      "source": [
        "combined.head()"
      ],
      "metadata": {
        "colab": {
          "base_uri": "https://localhost:8080/",
          "height": 206
        },
        "id": "kkSA-UuXgkZQ",
        "outputId": "d9384542-fa33-414b-dae6-52eacc93474d"
      },
      "execution_count": 75,
      "outputs": [
        {
          "output_type": "execute_result",
          "data": {
            "text/plain": [
              "   user_id        ISBN  rating                 title      author    year  \\\n",
              "0   276725  034545104X       0  Flesh Tones: A Novel  M. J. Rose  2002.0   \n",
              "1     2313  034545104X       5  Flesh Tones: A Novel  M. J. Rose  2002.0   \n",
              "2     6543  034545104X       0  Flesh Tones: A Novel  M. J. Rose  2002.0   \n",
              "3     8680  034545104X       5  Flesh Tones: A Novel  M. J. Rose  2002.0   \n",
              "4    10314  034545104X       9  Flesh Tones: A Novel  M. J. Rose  2002.0   \n",
              "\n",
              "          publisher  total_ratings                           location  \\\n",
              "0  Ballantine Books             60                  tyler, texas, usa   \n",
              "1  Ballantine Books             60              cincinnati, ohio, usa   \n",
              "2  Ballantine Books             60           strafford, missouri, usa   \n",
              "3  Ballantine Books             60  st. charles county, missouri, usa   \n",
              "4  Ballantine Books             60             beaverton, oregon, usa   \n",
              "\n",
              "        age  \n",
              "0  34.72384  \n",
              "1  23.00000  \n",
              "2  34.00000  \n",
              "3  34.72384  \n",
              "4  34.72384  "
            ],
            "text/html": [
              "\n",
              "  <div id=\"df-3a134006-6b8b-4442-b0e7-eb321508bec5\">\n",
              "    <div class=\"colab-df-container\">\n",
              "      <div>\n",
              "<style scoped>\n",
              "    .dataframe tbody tr th:only-of-type {\n",
              "        vertical-align: middle;\n",
              "    }\n",
              "\n",
              "    .dataframe tbody tr th {\n",
              "        vertical-align: top;\n",
              "    }\n",
              "\n",
              "    .dataframe thead th {\n",
              "        text-align: right;\n",
              "    }\n",
              "</style>\n",
              "<table border=\"1\" class=\"dataframe\">\n",
              "  <thead>\n",
              "    <tr style=\"text-align: right;\">\n",
              "      <th></th>\n",
              "      <th>user_id</th>\n",
              "      <th>ISBN</th>\n",
              "      <th>rating</th>\n",
              "      <th>title</th>\n",
              "      <th>author</th>\n",
              "      <th>year</th>\n",
              "      <th>publisher</th>\n",
              "      <th>total_ratings</th>\n",
              "      <th>location</th>\n",
              "      <th>age</th>\n",
              "    </tr>\n",
              "  </thead>\n",
              "  <tbody>\n",
              "    <tr>\n",
              "      <th>0</th>\n",
              "      <td>276725</td>\n",
              "      <td>034545104X</td>\n",
              "      <td>0</td>\n",
              "      <td>Flesh Tones: A Novel</td>\n",
              "      <td>M. J. Rose</td>\n",
              "      <td>2002.0</td>\n",
              "      <td>Ballantine Books</td>\n",
              "      <td>60</td>\n",
              "      <td>tyler, texas, usa</td>\n",
              "      <td>34.72384</td>\n",
              "    </tr>\n",
              "    <tr>\n",
              "      <th>1</th>\n",
              "      <td>2313</td>\n",
              "      <td>034545104X</td>\n",
              "      <td>5</td>\n",
              "      <td>Flesh Tones: A Novel</td>\n",
              "      <td>M. J. Rose</td>\n",
              "      <td>2002.0</td>\n",
              "      <td>Ballantine Books</td>\n",
              "      <td>60</td>\n",
              "      <td>cincinnati, ohio, usa</td>\n",
              "      <td>23.00000</td>\n",
              "    </tr>\n",
              "    <tr>\n",
              "      <th>2</th>\n",
              "      <td>6543</td>\n",
              "      <td>034545104X</td>\n",
              "      <td>0</td>\n",
              "      <td>Flesh Tones: A Novel</td>\n",
              "      <td>M. J. Rose</td>\n",
              "      <td>2002.0</td>\n",
              "      <td>Ballantine Books</td>\n",
              "      <td>60</td>\n",
              "      <td>strafford, missouri, usa</td>\n",
              "      <td>34.00000</td>\n",
              "    </tr>\n",
              "    <tr>\n",
              "      <th>3</th>\n",
              "      <td>8680</td>\n",
              "      <td>034545104X</td>\n",
              "      <td>5</td>\n",
              "      <td>Flesh Tones: A Novel</td>\n",
              "      <td>M. J. Rose</td>\n",
              "      <td>2002.0</td>\n",
              "      <td>Ballantine Books</td>\n",
              "      <td>60</td>\n",
              "      <td>st. charles county, missouri, usa</td>\n",
              "      <td>34.72384</td>\n",
              "    </tr>\n",
              "    <tr>\n",
              "      <th>4</th>\n",
              "      <td>10314</td>\n",
              "      <td>034545104X</td>\n",
              "      <td>9</td>\n",
              "      <td>Flesh Tones: A Novel</td>\n",
              "      <td>M. J. Rose</td>\n",
              "      <td>2002.0</td>\n",
              "      <td>Ballantine Books</td>\n",
              "      <td>60</td>\n",
              "      <td>beaverton, oregon, usa</td>\n",
              "      <td>34.72384</td>\n",
              "    </tr>\n",
              "  </tbody>\n",
              "</table>\n",
              "</div>\n",
              "      <button class=\"colab-df-convert\" onclick=\"convertToInteractive('df-3a134006-6b8b-4442-b0e7-eb321508bec5')\"\n",
              "              title=\"Convert this dataframe to an interactive table.\"\n",
              "              style=\"display:none;\">\n",
              "        \n",
              "  <svg xmlns=\"http://www.w3.org/2000/svg\" height=\"24px\"viewBox=\"0 0 24 24\"\n",
              "       width=\"24px\">\n",
              "    <path d=\"M0 0h24v24H0V0z\" fill=\"none\"/>\n",
              "    <path d=\"M18.56 5.44l.94 2.06.94-2.06 2.06-.94-2.06-.94-.94-2.06-.94 2.06-2.06.94zm-11 1L8.5 8.5l.94-2.06 2.06-.94-2.06-.94L8.5 2.5l-.94 2.06-2.06.94zm10 10l.94 2.06.94-2.06 2.06-.94-2.06-.94-.94-2.06-.94 2.06-2.06.94z\"/><path d=\"M17.41 7.96l-1.37-1.37c-.4-.4-.92-.59-1.43-.59-.52 0-1.04.2-1.43.59L10.3 9.45l-7.72 7.72c-.78.78-.78 2.05 0 2.83L4 21.41c.39.39.9.59 1.41.59.51 0 1.02-.2 1.41-.59l7.78-7.78 2.81-2.81c.8-.78.8-2.07 0-2.86zM5.41 20L4 18.59l7.72-7.72 1.47 1.35L5.41 20z\"/>\n",
              "  </svg>\n",
              "      </button>\n",
              "      \n",
              "  <style>\n",
              "    .colab-df-container {\n",
              "      display:flex;\n",
              "      flex-wrap:wrap;\n",
              "      gap: 12px;\n",
              "    }\n",
              "\n",
              "    .colab-df-convert {\n",
              "      background-color: #E8F0FE;\n",
              "      border: none;\n",
              "      border-radius: 50%;\n",
              "      cursor: pointer;\n",
              "      display: none;\n",
              "      fill: #1967D2;\n",
              "      height: 32px;\n",
              "      padding: 0 0 0 0;\n",
              "      width: 32px;\n",
              "    }\n",
              "\n",
              "    .colab-df-convert:hover {\n",
              "      background-color: #E2EBFA;\n",
              "      box-shadow: 0px 1px 2px rgba(60, 64, 67, 0.3), 0px 1px 3px 1px rgba(60, 64, 67, 0.15);\n",
              "      fill: #174EA6;\n",
              "    }\n",
              "\n",
              "    [theme=dark] .colab-df-convert {\n",
              "      background-color: #3B4455;\n",
              "      fill: #D2E3FC;\n",
              "    }\n",
              "\n",
              "    [theme=dark] .colab-df-convert:hover {\n",
              "      background-color: #434B5C;\n",
              "      box-shadow: 0px 1px 3px 1px rgba(0, 0, 0, 0.15);\n",
              "      filter: drop-shadow(0px 1px 2px rgba(0, 0, 0, 0.3));\n",
              "      fill: #FFFFFF;\n",
              "    }\n",
              "  </style>\n",
              "\n",
              "      <script>\n",
              "        const buttonEl =\n",
              "          document.querySelector('#df-3a134006-6b8b-4442-b0e7-eb321508bec5 button.colab-df-convert');\n",
              "        buttonEl.style.display =\n",
              "          google.colab.kernel.accessAllowed ? 'block' : 'none';\n",
              "\n",
              "        async function convertToInteractive(key) {\n",
              "          const element = document.querySelector('#df-3a134006-6b8b-4442-b0e7-eb321508bec5');\n",
              "          const dataTable =\n",
              "            await google.colab.kernel.invokeFunction('convertToInteractive',\n",
              "                                                     [key], {});\n",
              "          if (!dataTable) return;\n",
              "\n",
              "          const docLinkHtml = 'Like what you see? Visit the ' +\n",
              "            '<a target=\"_blank\" href=https://colab.research.google.com/notebooks/data_table.ipynb>data table notebook</a>'\n",
              "            + ' to learn more about interactive tables.';\n",
              "          element.innerHTML = '';\n",
              "          dataTable['output_type'] = 'display_data';\n",
              "          await google.colab.output.renderOutput(dataTable, element);\n",
              "          const docLink = document.createElement('div');\n",
              "          docLink.innerHTML = docLinkHtml;\n",
              "          element.appendChild(docLink);\n",
              "        }\n",
              "      </script>\n",
              "    </div>\n",
              "  </div>\n",
              "  "
            ]
          },
          "metadata": {},
          "execution_count": 75
        }
      ]
    },
    {
      "cell_type": "code",
      "source": [
        "#Comibned dataframe's duplicate values should be drop  \n",
        "combined.drop_duplicates(['user_id','title'],inplace=True)"
      ],
      "metadata": {
        "id": "fxGHGyq1gpJl"
      },
      "execution_count": 76,
      "outputs": []
    },
    {
      "cell_type": "code",
      "source": [
        "# # importing library\n",
        "# from sklearn.neighbors import NearestNeighbors\n",
        "# from scipy.sparse import csr_matrix"
      ],
      "metadata": {
        "id": "bKaCLducgvhC"
      },
      "execution_count": null,
      "outputs": []
    },
    {
      "cell_type": "code",
      "source": [
        "# Creating pivot table\n",
        "pivot_matrix=combined.pivot(index='title',values='rating',columns='user_id')\n",
        "# Returning top 5 rows\n",
        "pivot_matrix.head()"
      ],
      "metadata": {
        "colab": {
          "base_uri": "https://localhost:8080/",
          "height": 267
        },
        "id": "Fo_UgRyBg3Am",
        "outputId": "11e35399-fe74-4597-fe5a-b952b867403d"
      },
      "execution_count": 77,
      "outputs": [
        {
          "output_type": "execute_result",
          "data": {
            "text/plain": [
              "user_id              8       9       14      16      17      19      23      \\\n",
              "title                                                                         \n",
              "10 Lb. Penalty          NaN     NaN     NaN     NaN     NaN     NaN     NaN   \n",
              "16 Lighthouse Road      NaN     NaN     NaN     NaN     NaN     NaN     NaN   \n",
              "1984                    NaN     NaN     NaN     NaN     NaN     NaN     NaN   \n",
              "1st to Die: A Novel     NaN     NaN     NaN     NaN     NaN     NaN     NaN   \n",
              "2010: Odyssey Two       NaN     NaN     NaN     NaN     NaN     NaN     NaN   \n",
              "\n",
              "user_id              26      32      39      ...  278820  278824  278828  \\\n",
              "title                                        ...                           \n",
              "10 Lb. Penalty          NaN     NaN     NaN  ...     NaN     NaN     NaN   \n",
              "16 Lighthouse Road      NaN     NaN     NaN  ...     NaN     NaN     NaN   \n",
              "1984                    NaN     NaN     NaN  ...     NaN     NaN     NaN   \n",
              "1st to Die: A Novel     NaN     NaN     NaN  ...     NaN     NaN     NaN   \n",
              "2010: Odyssey Two       NaN     NaN     NaN  ...     NaN     NaN     NaN   \n",
              "\n",
              "user_id              278832  278836  278843  278844  278846  278851  278854  \n",
              "title                                                                        \n",
              "10 Lb. Penalty          NaN     NaN     NaN     NaN     NaN     NaN     NaN  \n",
              "16 Lighthouse Road      NaN     NaN     NaN     NaN     NaN     NaN     NaN  \n",
              "1984                    NaN     NaN     NaN     NaN     NaN     NaN     NaN  \n",
              "1st to Die: A Novel     NaN     NaN     NaN     NaN     NaN     NaN     NaN  \n",
              "2010: Odyssey Two       NaN     NaN     NaN     NaN     NaN     NaN     NaN  \n",
              "\n",
              "[5 rows x 47994 columns]"
            ],
            "text/html": [
              "\n",
              "  <div id=\"df-acb1c974-90a3-47e0-b0e2-f34ffca41b36\">\n",
              "    <div class=\"colab-df-container\">\n",
              "      <div>\n",
              "<style scoped>\n",
              "    .dataframe tbody tr th:only-of-type {\n",
              "        vertical-align: middle;\n",
              "    }\n",
              "\n",
              "    .dataframe tbody tr th {\n",
              "        vertical-align: top;\n",
              "    }\n",
              "\n",
              "    .dataframe thead th {\n",
              "        text-align: right;\n",
              "    }\n",
              "</style>\n",
              "<table border=\"1\" class=\"dataframe\">\n",
              "  <thead>\n",
              "    <tr style=\"text-align: right;\">\n",
              "      <th>user_id</th>\n",
              "      <th>8</th>\n",
              "      <th>9</th>\n",
              "      <th>14</th>\n",
              "      <th>16</th>\n",
              "      <th>17</th>\n",
              "      <th>19</th>\n",
              "      <th>23</th>\n",
              "      <th>26</th>\n",
              "      <th>32</th>\n",
              "      <th>39</th>\n",
              "      <th>...</th>\n",
              "      <th>278820</th>\n",
              "      <th>278824</th>\n",
              "      <th>278828</th>\n",
              "      <th>278832</th>\n",
              "      <th>278836</th>\n",
              "      <th>278843</th>\n",
              "      <th>278844</th>\n",
              "      <th>278846</th>\n",
              "      <th>278851</th>\n",
              "      <th>278854</th>\n",
              "    </tr>\n",
              "    <tr>\n",
              "      <th>title</th>\n",
              "      <th></th>\n",
              "      <th></th>\n",
              "      <th></th>\n",
              "      <th></th>\n",
              "      <th></th>\n",
              "      <th></th>\n",
              "      <th></th>\n",
              "      <th></th>\n",
              "      <th></th>\n",
              "      <th></th>\n",
              "      <th></th>\n",
              "      <th></th>\n",
              "      <th></th>\n",
              "      <th></th>\n",
              "      <th></th>\n",
              "      <th></th>\n",
              "      <th></th>\n",
              "      <th></th>\n",
              "      <th></th>\n",
              "      <th></th>\n",
              "      <th></th>\n",
              "    </tr>\n",
              "  </thead>\n",
              "  <tbody>\n",
              "    <tr>\n",
              "      <th>10 Lb. Penalty</th>\n",
              "      <td>NaN</td>\n",
              "      <td>NaN</td>\n",
              "      <td>NaN</td>\n",
              "      <td>NaN</td>\n",
              "      <td>NaN</td>\n",
              "      <td>NaN</td>\n",
              "      <td>NaN</td>\n",
              "      <td>NaN</td>\n",
              "      <td>NaN</td>\n",
              "      <td>NaN</td>\n",
              "      <td>...</td>\n",
              "      <td>NaN</td>\n",
              "      <td>NaN</td>\n",
              "      <td>NaN</td>\n",
              "      <td>NaN</td>\n",
              "      <td>NaN</td>\n",
              "      <td>NaN</td>\n",
              "      <td>NaN</td>\n",
              "      <td>NaN</td>\n",
              "      <td>NaN</td>\n",
              "      <td>NaN</td>\n",
              "    </tr>\n",
              "    <tr>\n",
              "      <th>16 Lighthouse Road</th>\n",
              "      <td>NaN</td>\n",
              "      <td>NaN</td>\n",
              "      <td>NaN</td>\n",
              "      <td>NaN</td>\n",
              "      <td>NaN</td>\n",
              "      <td>NaN</td>\n",
              "      <td>NaN</td>\n",
              "      <td>NaN</td>\n",
              "      <td>NaN</td>\n",
              "      <td>NaN</td>\n",
              "      <td>...</td>\n",
              "      <td>NaN</td>\n",
              "      <td>NaN</td>\n",
              "      <td>NaN</td>\n",
              "      <td>NaN</td>\n",
              "      <td>NaN</td>\n",
              "      <td>NaN</td>\n",
              "      <td>NaN</td>\n",
              "      <td>NaN</td>\n",
              "      <td>NaN</td>\n",
              "      <td>NaN</td>\n",
              "    </tr>\n",
              "    <tr>\n",
              "      <th>1984</th>\n",
              "      <td>NaN</td>\n",
              "      <td>NaN</td>\n",
              "      <td>NaN</td>\n",
              "      <td>NaN</td>\n",
              "      <td>NaN</td>\n",
              "      <td>NaN</td>\n",
              "      <td>NaN</td>\n",
              "      <td>NaN</td>\n",
              "      <td>NaN</td>\n",
              "      <td>NaN</td>\n",
              "      <td>...</td>\n",
              "      <td>NaN</td>\n",
              "      <td>NaN</td>\n",
              "      <td>NaN</td>\n",
              "      <td>NaN</td>\n",
              "      <td>NaN</td>\n",
              "      <td>NaN</td>\n",
              "      <td>NaN</td>\n",
              "      <td>NaN</td>\n",
              "      <td>NaN</td>\n",
              "      <td>NaN</td>\n",
              "    </tr>\n",
              "    <tr>\n",
              "      <th>1st to Die: A Novel</th>\n",
              "      <td>NaN</td>\n",
              "      <td>NaN</td>\n",
              "      <td>NaN</td>\n",
              "      <td>NaN</td>\n",
              "      <td>NaN</td>\n",
              "      <td>NaN</td>\n",
              "      <td>NaN</td>\n",
              "      <td>NaN</td>\n",
              "      <td>NaN</td>\n",
              "      <td>NaN</td>\n",
              "      <td>...</td>\n",
              "      <td>NaN</td>\n",
              "      <td>NaN</td>\n",
              "      <td>NaN</td>\n",
              "      <td>NaN</td>\n",
              "      <td>NaN</td>\n",
              "      <td>NaN</td>\n",
              "      <td>NaN</td>\n",
              "      <td>NaN</td>\n",
              "      <td>NaN</td>\n",
              "      <td>NaN</td>\n",
              "    </tr>\n",
              "    <tr>\n",
              "      <th>2010: Odyssey Two</th>\n",
              "      <td>NaN</td>\n",
              "      <td>NaN</td>\n",
              "      <td>NaN</td>\n",
              "      <td>NaN</td>\n",
              "      <td>NaN</td>\n",
              "      <td>NaN</td>\n",
              "      <td>NaN</td>\n",
              "      <td>NaN</td>\n",
              "      <td>NaN</td>\n",
              "      <td>NaN</td>\n",
              "      <td>...</td>\n",
              "      <td>NaN</td>\n",
              "      <td>NaN</td>\n",
              "      <td>NaN</td>\n",
              "      <td>NaN</td>\n",
              "      <td>NaN</td>\n",
              "      <td>NaN</td>\n",
              "      <td>NaN</td>\n",
              "      <td>NaN</td>\n",
              "      <td>NaN</td>\n",
              "      <td>NaN</td>\n",
              "    </tr>\n",
              "  </tbody>\n",
              "</table>\n",
              "<p>5 rows × 47994 columns</p>\n",
              "</div>\n",
              "      <button class=\"colab-df-convert\" onclick=\"convertToInteractive('df-acb1c974-90a3-47e0-b0e2-f34ffca41b36')\"\n",
              "              title=\"Convert this dataframe to an interactive table.\"\n",
              "              style=\"display:none;\">\n",
              "        \n",
              "  <svg xmlns=\"http://www.w3.org/2000/svg\" height=\"24px\"viewBox=\"0 0 24 24\"\n",
              "       width=\"24px\">\n",
              "    <path d=\"M0 0h24v24H0V0z\" fill=\"none\"/>\n",
              "    <path d=\"M18.56 5.44l.94 2.06.94-2.06 2.06-.94-2.06-.94-.94-2.06-.94 2.06-2.06.94zm-11 1L8.5 8.5l.94-2.06 2.06-.94-2.06-.94L8.5 2.5l-.94 2.06-2.06.94zm10 10l.94 2.06.94-2.06 2.06-.94-2.06-.94-.94-2.06-.94 2.06-2.06.94z\"/><path d=\"M17.41 7.96l-1.37-1.37c-.4-.4-.92-.59-1.43-.59-.52 0-1.04.2-1.43.59L10.3 9.45l-7.72 7.72c-.78.78-.78 2.05 0 2.83L4 21.41c.39.39.9.59 1.41.59.51 0 1.02-.2 1.41-.59l7.78-7.78 2.81-2.81c.8-.78.8-2.07 0-2.86zM5.41 20L4 18.59l7.72-7.72 1.47 1.35L5.41 20z\"/>\n",
              "  </svg>\n",
              "      </button>\n",
              "      \n",
              "  <style>\n",
              "    .colab-df-container {\n",
              "      display:flex;\n",
              "      flex-wrap:wrap;\n",
              "      gap: 12px;\n",
              "    }\n",
              "\n",
              "    .colab-df-convert {\n",
              "      background-color: #E8F0FE;\n",
              "      border: none;\n",
              "      border-radius: 50%;\n",
              "      cursor: pointer;\n",
              "      display: none;\n",
              "      fill: #1967D2;\n",
              "      height: 32px;\n",
              "      padding: 0 0 0 0;\n",
              "      width: 32px;\n",
              "    }\n",
              "\n",
              "    .colab-df-convert:hover {\n",
              "      background-color: #E2EBFA;\n",
              "      box-shadow: 0px 1px 2px rgba(60, 64, 67, 0.3), 0px 1px 3px 1px rgba(60, 64, 67, 0.15);\n",
              "      fill: #174EA6;\n",
              "    }\n",
              "\n",
              "    [theme=dark] .colab-df-convert {\n",
              "      background-color: #3B4455;\n",
              "      fill: #D2E3FC;\n",
              "    }\n",
              "\n",
              "    [theme=dark] .colab-df-convert:hover {\n",
              "      background-color: #434B5C;\n",
              "      box-shadow: 0px 1px 3px 1px rgba(0, 0, 0, 0.15);\n",
              "      filter: drop-shadow(0px 1px 2px rgba(0, 0, 0, 0.3));\n",
              "      fill: #FFFFFF;\n",
              "    }\n",
              "  </style>\n",
              "\n",
              "      <script>\n",
              "        const buttonEl =\n",
              "          document.querySelector('#df-acb1c974-90a3-47e0-b0e2-f34ffca41b36 button.colab-df-convert');\n",
              "        buttonEl.style.display =\n",
              "          google.colab.kernel.accessAllowed ? 'block' : 'none';\n",
              "\n",
              "        async function convertToInteractive(key) {\n",
              "          const element = document.querySelector('#df-acb1c974-90a3-47e0-b0e2-f34ffca41b36');\n",
              "          const dataTable =\n",
              "            await google.colab.kernel.invokeFunction('convertToInteractive',\n",
              "                                                     [key], {});\n",
              "          if (!dataTable) return;\n",
              "\n",
              "          const docLinkHtml = 'Like what you see? Visit the ' +\n",
              "            '<a target=\"_blank\" href=https://colab.research.google.com/notebooks/data_table.ipynb>data table notebook</a>'\n",
              "            + ' to learn more about interactive tables.';\n",
              "          element.innerHTML = '';\n",
              "          dataTable['output_type'] = 'display_data';\n",
              "          await google.colab.output.renderOutput(dataTable, element);\n",
              "          const docLink = document.createElement('div');\n",
              "          docLink.innerHTML = docLinkHtml;\n",
              "          element.appendChild(docLink);\n",
              "        }\n",
              "      </script>\n",
              "    </div>\n",
              "  </div>\n",
              "  "
            ]
          },
          "metadata": {},
          "execution_count": 77
        }
      ]
    },
    {
      "cell_type": "code",
      "source": [
        "# Filling Nan values to 0\n",
        "pivot_matrix.fillna(0, inplace=True)"
      ],
      "metadata": {
        "id": "x3TiBHnAg7qV"
      },
      "execution_count": 78,
      "outputs": []
    },
    {
      "cell_type": "code",
      "source": [
        "#Print top 5 rows of pivot matrix\n",
        "pivot_matrix"
      ],
      "metadata": {
        "colab": {
          "base_uri": "https://localhost:8080/",
          "height": 534
        },
        "id": "f6ZFj8wog_0l",
        "outputId": "f8a6f0a4-0bc1-4e11-a8d7-110b3cee6cbd"
      },
      "execution_count": 79,
      "outputs": [
        {
          "output_type": "execute_result",
          "data": {
            "text/plain": [
              "user_id                                                                    8       \\\n",
              "title                                                                               \n",
              "10 Lb. Penalty                                                                0.0   \n",
              "16 Lighthouse Road                                                            0.0   \n",
              "1984                                                                          0.0   \n",
              "1st to Die: A Novel                                                           0.0   \n",
              "2010: Odyssey Two                                                             0.0   \n",
              "...                                                                           ...   \n",
              "Zen and the Art of Motorcycle Maintenance: An Inquiry into Values             0.0   \n",
              "Zoya                                                                          0.0   \n",
              "\\O\\\" Is for Outlaw\"                                                           0.0   \n",
              "\\Surely You're Joking, Mr. Feynman!\\\": Adventures of a Curious Character\"     0.0   \n",
              "stardust                                                                      0.0   \n",
              "\n",
              "user_id                                                                    9       \\\n",
              "title                                                                               \n",
              "10 Lb. Penalty                                                                0.0   \n",
              "16 Lighthouse Road                                                            0.0   \n",
              "1984                                                                          0.0   \n",
              "1st to Die: A Novel                                                           0.0   \n",
              "2010: Odyssey Two                                                             0.0   \n",
              "...                                                                           ...   \n",
              "Zen and the Art of Motorcycle Maintenance: An Inquiry into Values             0.0   \n",
              "Zoya                                                                          0.0   \n",
              "\\O\\\" Is for Outlaw\"                                                           0.0   \n",
              "\\Surely You're Joking, Mr. Feynman!\\\": Adventures of a Curious Character\"     0.0   \n",
              "stardust                                                                      0.0   \n",
              "\n",
              "user_id                                                                    14      \\\n",
              "title                                                                               \n",
              "10 Lb. Penalty                                                                0.0   \n",
              "16 Lighthouse Road                                                            0.0   \n",
              "1984                                                                          0.0   \n",
              "1st to Die: A Novel                                                           0.0   \n",
              "2010: Odyssey Two                                                             0.0   \n",
              "...                                                                           ...   \n",
              "Zen and the Art of Motorcycle Maintenance: An Inquiry into Values             0.0   \n",
              "Zoya                                                                          0.0   \n",
              "\\O\\\" Is for Outlaw\"                                                           0.0   \n",
              "\\Surely You're Joking, Mr. Feynman!\\\": Adventures of a Curious Character\"     0.0   \n",
              "stardust                                                                      0.0   \n",
              "\n",
              "user_id                                                                    16      \\\n",
              "title                                                                               \n",
              "10 Lb. Penalty                                                                0.0   \n",
              "16 Lighthouse Road                                                            0.0   \n",
              "1984                                                                          0.0   \n",
              "1st to Die: A Novel                                                           0.0   \n",
              "2010: Odyssey Two                                                             0.0   \n",
              "...                                                                           ...   \n",
              "Zen and the Art of Motorcycle Maintenance: An Inquiry into Values             0.0   \n",
              "Zoya                                                                          0.0   \n",
              "\\O\\\" Is for Outlaw\"                                                           0.0   \n",
              "\\Surely You're Joking, Mr. Feynman!\\\": Adventures of a Curious Character\"     0.0   \n",
              "stardust                                                                      0.0   \n",
              "\n",
              "user_id                                                                    17      \\\n",
              "title                                                                               \n",
              "10 Lb. Penalty                                                                0.0   \n",
              "16 Lighthouse Road                                                            0.0   \n",
              "1984                                                                          0.0   \n",
              "1st to Die: A Novel                                                           0.0   \n",
              "2010: Odyssey Two                                                             0.0   \n",
              "...                                                                           ...   \n",
              "Zen and the Art of Motorcycle Maintenance: An Inquiry into Values             0.0   \n",
              "Zoya                                                                          0.0   \n",
              "\\O\\\" Is for Outlaw\"                                                           0.0   \n",
              "\\Surely You're Joking, Mr. Feynman!\\\": Adventures of a Curious Character\"     0.0   \n",
              "stardust                                                                      0.0   \n",
              "\n",
              "user_id                                                                    19      \\\n",
              "title                                                                               \n",
              "10 Lb. Penalty                                                                0.0   \n",
              "16 Lighthouse Road                                                            0.0   \n",
              "1984                                                                          0.0   \n",
              "1st to Die: A Novel                                                           0.0   \n",
              "2010: Odyssey Two                                                             0.0   \n",
              "...                                                                           ...   \n",
              "Zen and the Art of Motorcycle Maintenance: An Inquiry into Values             0.0   \n",
              "Zoya                                                                          0.0   \n",
              "\\O\\\" Is for Outlaw\"                                                           0.0   \n",
              "\\Surely You're Joking, Mr. Feynman!\\\": Adventures of a Curious Character\"     0.0   \n",
              "stardust                                                                      0.0   \n",
              "\n",
              "user_id                                                                    23      \\\n",
              "title                                                                               \n",
              "10 Lb. Penalty                                                                0.0   \n",
              "16 Lighthouse Road                                                            0.0   \n",
              "1984                                                                          0.0   \n",
              "1st to Die: A Novel                                                           0.0   \n",
              "2010: Odyssey Two                                                             0.0   \n",
              "...                                                                           ...   \n",
              "Zen and the Art of Motorcycle Maintenance: An Inquiry into Values             0.0   \n",
              "Zoya                                                                          0.0   \n",
              "\\O\\\" Is for Outlaw\"                                                           0.0   \n",
              "\\Surely You're Joking, Mr. Feynman!\\\": Adventures of a Curious Character\"     0.0   \n",
              "stardust                                                                      0.0   \n",
              "\n",
              "user_id                                                                    26      \\\n",
              "title                                                                               \n",
              "10 Lb. Penalty                                                                0.0   \n",
              "16 Lighthouse Road                                                            0.0   \n",
              "1984                                                                          0.0   \n",
              "1st to Die: A Novel                                                           0.0   \n",
              "2010: Odyssey Two                                                             0.0   \n",
              "...                                                                           ...   \n",
              "Zen and the Art of Motorcycle Maintenance: An Inquiry into Values             0.0   \n",
              "Zoya                                                                          0.0   \n",
              "\\O\\\" Is for Outlaw\"                                                           0.0   \n",
              "\\Surely You're Joking, Mr. Feynman!\\\": Adventures of a Curious Character\"     0.0   \n",
              "stardust                                                                      0.0   \n",
              "\n",
              "user_id                                                                    32      \\\n",
              "title                                                                               \n",
              "10 Lb. Penalty                                                                0.0   \n",
              "16 Lighthouse Road                                                            0.0   \n",
              "1984                                                                          0.0   \n",
              "1st to Die: A Novel                                                           0.0   \n",
              "2010: Odyssey Two                                                             0.0   \n",
              "...                                                                           ...   \n",
              "Zen and the Art of Motorcycle Maintenance: An Inquiry into Values             0.0   \n",
              "Zoya                                                                          0.0   \n",
              "\\O\\\" Is for Outlaw\"                                                           0.0   \n",
              "\\Surely You're Joking, Mr. Feynman!\\\": Adventures of a Curious Character\"     0.0   \n",
              "stardust                                                                      0.0   \n",
              "\n",
              "user_id                                                                    39      \\\n",
              "title                                                                               \n",
              "10 Lb. Penalty                                                                0.0   \n",
              "16 Lighthouse Road                                                            0.0   \n",
              "1984                                                                          0.0   \n",
              "1st to Die: A Novel                                                           0.0   \n",
              "2010: Odyssey Two                                                             0.0   \n",
              "...                                                                           ...   \n",
              "Zen and the Art of Motorcycle Maintenance: An Inquiry into Values             0.0   \n",
              "Zoya                                                                          0.0   \n",
              "\\O\\\" Is for Outlaw\"                                                           0.0   \n",
              "\\Surely You're Joking, Mr. Feynman!\\\": Adventures of a Curious Character\"     0.0   \n",
              "stardust                                                                      0.0   \n",
              "\n",
              "user_id                                                                    ...  \\\n",
              "title                                                                      ...   \n",
              "10 Lb. Penalty                                                             ...   \n",
              "16 Lighthouse Road                                                         ...   \n",
              "1984                                                                       ...   \n",
              "1st to Die: A Novel                                                        ...   \n",
              "2010: Odyssey Two                                                          ...   \n",
              "...                                                                        ...   \n",
              "Zen and the Art of Motorcycle Maintenance: An Inquiry into Values          ...   \n",
              "Zoya                                                                       ...   \n",
              "\\O\\\" Is for Outlaw\"                                                        ...   \n",
              "\\Surely You're Joking, Mr. Feynman!\\\": Adventures of a Curious Character\"  ...   \n",
              "stardust                                                                   ...   \n",
              "\n",
              "user_id                                                                    278820  \\\n",
              "title                                                                               \n",
              "10 Lb. Penalty                                                                0.0   \n",
              "16 Lighthouse Road                                                            0.0   \n",
              "1984                                                                          0.0   \n",
              "1st to Die: A Novel                                                           0.0   \n",
              "2010: Odyssey Two                                                             0.0   \n",
              "...                                                                           ...   \n",
              "Zen and the Art of Motorcycle Maintenance: An Inquiry into Values             0.0   \n",
              "Zoya                                                                          0.0   \n",
              "\\O\\\" Is for Outlaw\"                                                           0.0   \n",
              "\\Surely You're Joking, Mr. Feynman!\\\": Adventures of a Curious Character\"     0.0   \n",
              "stardust                                                                      0.0   \n",
              "\n",
              "user_id                                                                    278824  \\\n",
              "title                                                                               \n",
              "10 Lb. Penalty                                                                0.0   \n",
              "16 Lighthouse Road                                                            0.0   \n",
              "1984                                                                          0.0   \n",
              "1st to Die: A Novel                                                           0.0   \n",
              "2010: Odyssey Two                                                             0.0   \n",
              "...                                                                           ...   \n",
              "Zen and the Art of Motorcycle Maintenance: An Inquiry into Values             0.0   \n",
              "Zoya                                                                          0.0   \n",
              "\\O\\\" Is for Outlaw\"                                                           0.0   \n",
              "\\Surely You're Joking, Mr. Feynman!\\\": Adventures of a Curious Character\"     0.0   \n",
              "stardust                                                                      0.0   \n",
              "\n",
              "user_id                                                                    278828  \\\n",
              "title                                                                               \n",
              "10 Lb. Penalty                                                                0.0   \n",
              "16 Lighthouse Road                                                            0.0   \n",
              "1984                                                                          0.0   \n",
              "1st to Die: A Novel                                                           0.0   \n",
              "2010: Odyssey Two                                                             0.0   \n",
              "...                                                                           ...   \n",
              "Zen and the Art of Motorcycle Maintenance: An Inquiry into Values             0.0   \n",
              "Zoya                                                                          0.0   \n",
              "\\O\\\" Is for Outlaw\"                                                           0.0   \n",
              "\\Surely You're Joking, Mr. Feynman!\\\": Adventures of a Curious Character\"     0.0   \n",
              "stardust                                                                      0.0   \n",
              "\n",
              "user_id                                                                    278832  \\\n",
              "title                                                                               \n",
              "10 Lb. Penalty                                                                0.0   \n",
              "16 Lighthouse Road                                                            0.0   \n",
              "1984                                                                          0.0   \n",
              "1st to Die: A Novel                                                           0.0   \n",
              "2010: Odyssey Two                                                             0.0   \n",
              "...                                                                           ...   \n",
              "Zen and the Art of Motorcycle Maintenance: An Inquiry into Values             0.0   \n",
              "Zoya                                                                          0.0   \n",
              "\\O\\\" Is for Outlaw\"                                                           0.0   \n",
              "\\Surely You're Joking, Mr. Feynman!\\\": Adventures of a Curious Character\"     0.0   \n",
              "stardust                                                                      0.0   \n",
              "\n",
              "user_id                                                                    278836  \\\n",
              "title                                                                               \n",
              "10 Lb. Penalty                                                                0.0   \n",
              "16 Lighthouse Road                                                            0.0   \n",
              "1984                                                                          0.0   \n",
              "1st to Die: A Novel                                                           0.0   \n",
              "2010: Odyssey Two                                                             0.0   \n",
              "...                                                                           ...   \n",
              "Zen and the Art of Motorcycle Maintenance: An Inquiry into Values             0.0   \n",
              "Zoya                                                                          0.0   \n",
              "\\O\\\" Is for Outlaw\"                                                           0.0   \n",
              "\\Surely You're Joking, Mr. Feynman!\\\": Adventures of a Curious Character\"     0.0   \n",
              "stardust                                                                      0.0   \n",
              "\n",
              "user_id                                                                    278843  \\\n",
              "title                                                                               \n",
              "10 Lb. Penalty                                                                0.0   \n",
              "16 Lighthouse Road                                                            0.0   \n",
              "1984                                                                          0.0   \n",
              "1st to Die: A Novel                                                           0.0   \n",
              "2010: Odyssey Two                                                             0.0   \n",
              "...                                                                           ...   \n",
              "Zen and the Art of Motorcycle Maintenance: An Inquiry into Values             0.0   \n",
              "Zoya                                                                          0.0   \n",
              "\\O\\\" Is for Outlaw\"                                                           0.0   \n",
              "\\Surely You're Joking, Mr. Feynman!\\\": Adventures of a Curious Character\"     0.0   \n",
              "stardust                                                                      0.0   \n",
              "\n",
              "user_id                                                                    278844  \\\n",
              "title                                                                               \n",
              "10 Lb. Penalty                                                                0.0   \n",
              "16 Lighthouse Road                                                            0.0   \n",
              "1984                                                                          0.0   \n",
              "1st to Die: A Novel                                                           0.0   \n",
              "2010: Odyssey Two                                                             0.0   \n",
              "...                                                                           ...   \n",
              "Zen and the Art of Motorcycle Maintenance: An Inquiry into Values             0.0   \n",
              "Zoya                                                                          0.0   \n",
              "\\O\\\" Is for Outlaw\"                                                           0.0   \n",
              "\\Surely You're Joking, Mr. Feynman!\\\": Adventures of a Curious Character\"     0.0   \n",
              "stardust                                                                      0.0   \n",
              "\n",
              "user_id                                                                    278846  \\\n",
              "title                                                                               \n",
              "10 Lb. Penalty                                                                0.0   \n",
              "16 Lighthouse Road                                                            0.0   \n",
              "1984                                                                          0.0   \n",
              "1st to Die: A Novel                                                           0.0   \n",
              "2010: Odyssey Two                                                             0.0   \n",
              "...                                                                           ...   \n",
              "Zen and the Art of Motorcycle Maintenance: An Inquiry into Values             0.0   \n",
              "Zoya                                                                          0.0   \n",
              "\\O\\\" Is for Outlaw\"                                                           0.0   \n",
              "\\Surely You're Joking, Mr. Feynman!\\\": Adventures of a Curious Character\"     0.0   \n",
              "stardust                                                                      0.0   \n",
              "\n",
              "user_id                                                                    278851  \\\n",
              "title                                                                               \n",
              "10 Lb. Penalty                                                                0.0   \n",
              "16 Lighthouse Road                                                            0.0   \n",
              "1984                                                                          0.0   \n",
              "1st to Die: A Novel                                                           0.0   \n",
              "2010: Odyssey Two                                                             0.0   \n",
              "...                                                                           ...   \n",
              "Zen and the Art of Motorcycle Maintenance: An Inquiry into Values             0.0   \n",
              "Zoya                                                                          0.0   \n",
              "\\O\\\" Is for Outlaw\"                                                           0.0   \n",
              "\\Surely You're Joking, Mr. Feynman!\\\": Adventures of a Curious Character\"     0.0   \n",
              "stardust                                                                      0.0   \n",
              "\n",
              "user_id                                                                    278854  \n",
              "title                                                                              \n",
              "10 Lb. Penalty                                                                0.0  \n",
              "16 Lighthouse Road                                                            0.0  \n",
              "1984                                                                          0.0  \n",
              "1st to Die: A Novel                                                           0.0  \n",
              "2010: Odyssey Two                                                             0.0  \n",
              "...                                                                           ...  \n",
              "Zen and the Art of Motorcycle Maintenance: An Inquiry into Values             0.0  \n",
              "Zoya                                                                          0.0  \n",
              "\\O\\\" Is for Outlaw\"                                                           0.0  \n",
              "\\Surely You're Joking, Mr. Feynman!\\\": Adventures of a Curious Character\"     0.0  \n",
              "stardust                                                                      0.0  \n",
              "\n",
              "[2444 rows x 47994 columns]"
            ],
            "text/html": [
              "\n",
              "  <div id=\"df-e369e3d6-d8ee-47f2-bcb8-f11950d8a887\">\n",
              "    <div class=\"colab-df-container\">\n",
              "      <div>\n",
              "<style scoped>\n",
              "    .dataframe tbody tr th:only-of-type {\n",
              "        vertical-align: middle;\n",
              "    }\n",
              "\n",
              "    .dataframe tbody tr th {\n",
              "        vertical-align: top;\n",
              "    }\n",
              "\n",
              "    .dataframe thead th {\n",
              "        text-align: right;\n",
              "    }\n",
              "</style>\n",
              "<table border=\"1\" class=\"dataframe\">\n",
              "  <thead>\n",
              "    <tr style=\"text-align: right;\">\n",
              "      <th>user_id</th>\n",
              "      <th>8</th>\n",
              "      <th>9</th>\n",
              "      <th>14</th>\n",
              "      <th>16</th>\n",
              "      <th>17</th>\n",
              "      <th>19</th>\n",
              "      <th>23</th>\n",
              "      <th>26</th>\n",
              "      <th>32</th>\n",
              "      <th>39</th>\n",
              "      <th>...</th>\n",
              "      <th>278820</th>\n",
              "      <th>278824</th>\n",
              "      <th>278828</th>\n",
              "      <th>278832</th>\n",
              "      <th>278836</th>\n",
              "      <th>278843</th>\n",
              "      <th>278844</th>\n",
              "      <th>278846</th>\n",
              "      <th>278851</th>\n",
              "      <th>278854</th>\n",
              "    </tr>\n",
              "    <tr>\n",
              "      <th>title</th>\n",
              "      <th></th>\n",
              "      <th></th>\n",
              "      <th></th>\n",
              "      <th></th>\n",
              "      <th></th>\n",
              "      <th></th>\n",
              "      <th></th>\n",
              "      <th></th>\n",
              "      <th></th>\n",
              "      <th></th>\n",
              "      <th></th>\n",
              "      <th></th>\n",
              "      <th></th>\n",
              "      <th></th>\n",
              "      <th></th>\n",
              "      <th></th>\n",
              "      <th></th>\n",
              "      <th></th>\n",
              "      <th></th>\n",
              "      <th></th>\n",
              "      <th></th>\n",
              "    </tr>\n",
              "  </thead>\n",
              "  <tbody>\n",
              "    <tr>\n",
              "      <th>10 Lb. Penalty</th>\n",
              "      <td>0.0</td>\n",
              "      <td>0.0</td>\n",
              "      <td>0.0</td>\n",
              "      <td>0.0</td>\n",
              "      <td>0.0</td>\n",
              "      <td>0.0</td>\n",
              "      <td>0.0</td>\n",
              "      <td>0.0</td>\n",
              "      <td>0.0</td>\n",
              "      <td>0.0</td>\n",
              "      <td>...</td>\n",
              "      <td>0.0</td>\n",
              "      <td>0.0</td>\n",
              "      <td>0.0</td>\n",
              "      <td>0.0</td>\n",
              "      <td>0.0</td>\n",
              "      <td>0.0</td>\n",
              "      <td>0.0</td>\n",
              "      <td>0.0</td>\n",
              "      <td>0.0</td>\n",
              "      <td>0.0</td>\n",
              "    </tr>\n",
              "    <tr>\n",
              "      <th>16 Lighthouse Road</th>\n",
              "      <td>0.0</td>\n",
              "      <td>0.0</td>\n",
              "      <td>0.0</td>\n",
              "      <td>0.0</td>\n",
              "      <td>0.0</td>\n",
              "      <td>0.0</td>\n",
              "      <td>0.0</td>\n",
              "      <td>0.0</td>\n",
              "      <td>0.0</td>\n",
              "      <td>0.0</td>\n",
              "      <td>...</td>\n",
              "      <td>0.0</td>\n",
              "      <td>0.0</td>\n",
              "      <td>0.0</td>\n",
              "      <td>0.0</td>\n",
              "      <td>0.0</td>\n",
              "      <td>0.0</td>\n",
              "      <td>0.0</td>\n",
              "      <td>0.0</td>\n",
              "      <td>0.0</td>\n",
              "      <td>0.0</td>\n",
              "    </tr>\n",
              "    <tr>\n",
              "      <th>1984</th>\n",
              "      <td>0.0</td>\n",
              "      <td>0.0</td>\n",
              "      <td>0.0</td>\n",
              "      <td>0.0</td>\n",
              "      <td>0.0</td>\n",
              "      <td>0.0</td>\n",
              "      <td>0.0</td>\n",
              "      <td>0.0</td>\n",
              "      <td>0.0</td>\n",
              "      <td>0.0</td>\n",
              "      <td>...</td>\n",
              "      <td>0.0</td>\n",
              "      <td>0.0</td>\n",
              "      <td>0.0</td>\n",
              "      <td>0.0</td>\n",
              "      <td>0.0</td>\n",
              "      <td>0.0</td>\n",
              "      <td>0.0</td>\n",
              "      <td>0.0</td>\n",
              "      <td>0.0</td>\n",
              "      <td>0.0</td>\n",
              "    </tr>\n",
              "    <tr>\n",
              "      <th>1st to Die: A Novel</th>\n",
              "      <td>0.0</td>\n",
              "      <td>0.0</td>\n",
              "      <td>0.0</td>\n",
              "      <td>0.0</td>\n",
              "      <td>0.0</td>\n",
              "      <td>0.0</td>\n",
              "      <td>0.0</td>\n",
              "      <td>0.0</td>\n",
              "      <td>0.0</td>\n",
              "      <td>0.0</td>\n",
              "      <td>...</td>\n",
              "      <td>0.0</td>\n",
              "      <td>0.0</td>\n",
              "      <td>0.0</td>\n",
              "      <td>0.0</td>\n",
              "      <td>0.0</td>\n",
              "      <td>0.0</td>\n",
              "      <td>0.0</td>\n",
              "      <td>0.0</td>\n",
              "      <td>0.0</td>\n",
              "      <td>0.0</td>\n",
              "    </tr>\n",
              "    <tr>\n",
              "      <th>2010: Odyssey Two</th>\n",
              "      <td>0.0</td>\n",
              "      <td>0.0</td>\n",
              "      <td>0.0</td>\n",
              "      <td>0.0</td>\n",
              "      <td>0.0</td>\n",
              "      <td>0.0</td>\n",
              "      <td>0.0</td>\n",
              "      <td>0.0</td>\n",
              "      <td>0.0</td>\n",
              "      <td>0.0</td>\n",
              "      <td>...</td>\n",
              "      <td>0.0</td>\n",
              "      <td>0.0</td>\n",
              "      <td>0.0</td>\n",
              "      <td>0.0</td>\n",
              "      <td>0.0</td>\n",
              "      <td>0.0</td>\n",
              "      <td>0.0</td>\n",
              "      <td>0.0</td>\n",
              "      <td>0.0</td>\n",
              "      <td>0.0</td>\n",
              "    </tr>\n",
              "    <tr>\n",
              "      <th>...</th>\n",
              "      <td>...</td>\n",
              "      <td>...</td>\n",
              "      <td>...</td>\n",
              "      <td>...</td>\n",
              "      <td>...</td>\n",
              "      <td>...</td>\n",
              "      <td>...</td>\n",
              "      <td>...</td>\n",
              "      <td>...</td>\n",
              "      <td>...</td>\n",
              "      <td>...</td>\n",
              "      <td>...</td>\n",
              "      <td>...</td>\n",
              "      <td>...</td>\n",
              "      <td>...</td>\n",
              "      <td>...</td>\n",
              "      <td>...</td>\n",
              "      <td>...</td>\n",
              "      <td>...</td>\n",
              "      <td>...</td>\n",
              "      <td>...</td>\n",
              "    </tr>\n",
              "    <tr>\n",
              "      <th>Zen and the Art of Motorcycle Maintenance: An Inquiry into Values</th>\n",
              "      <td>0.0</td>\n",
              "      <td>0.0</td>\n",
              "      <td>0.0</td>\n",
              "      <td>0.0</td>\n",
              "      <td>0.0</td>\n",
              "      <td>0.0</td>\n",
              "      <td>0.0</td>\n",
              "      <td>0.0</td>\n",
              "      <td>0.0</td>\n",
              "      <td>0.0</td>\n",
              "      <td>...</td>\n",
              "      <td>0.0</td>\n",
              "      <td>0.0</td>\n",
              "      <td>0.0</td>\n",
              "      <td>0.0</td>\n",
              "      <td>0.0</td>\n",
              "      <td>0.0</td>\n",
              "      <td>0.0</td>\n",
              "      <td>0.0</td>\n",
              "      <td>0.0</td>\n",
              "      <td>0.0</td>\n",
              "    </tr>\n",
              "    <tr>\n",
              "      <th>Zoya</th>\n",
              "      <td>0.0</td>\n",
              "      <td>0.0</td>\n",
              "      <td>0.0</td>\n",
              "      <td>0.0</td>\n",
              "      <td>0.0</td>\n",
              "      <td>0.0</td>\n",
              "      <td>0.0</td>\n",
              "      <td>0.0</td>\n",
              "      <td>0.0</td>\n",
              "      <td>0.0</td>\n",
              "      <td>...</td>\n",
              "      <td>0.0</td>\n",
              "      <td>0.0</td>\n",
              "      <td>0.0</td>\n",
              "      <td>0.0</td>\n",
              "      <td>0.0</td>\n",
              "      <td>0.0</td>\n",
              "      <td>0.0</td>\n",
              "      <td>0.0</td>\n",
              "      <td>0.0</td>\n",
              "      <td>0.0</td>\n",
              "    </tr>\n",
              "    <tr>\n",
              "      <th>\\O\\\" Is for Outlaw\"</th>\n",
              "      <td>0.0</td>\n",
              "      <td>0.0</td>\n",
              "      <td>0.0</td>\n",
              "      <td>0.0</td>\n",
              "      <td>0.0</td>\n",
              "      <td>0.0</td>\n",
              "      <td>0.0</td>\n",
              "      <td>0.0</td>\n",
              "      <td>0.0</td>\n",
              "      <td>0.0</td>\n",
              "      <td>...</td>\n",
              "      <td>0.0</td>\n",
              "      <td>0.0</td>\n",
              "      <td>0.0</td>\n",
              "      <td>0.0</td>\n",
              "      <td>0.0</td>\n",
              "      <td>0.0</td>\n",
              "      <td>0.0</td>\n",
              "      <td>0.0</td>\n",
              "      <td>0.0</td>\n",
              "      <td>0.0</td>\n",
              "    </tr>\n",
              "    <tr>\n",
              "      <th>\\Surely You're Joking, Mr. Feynman!\\\": Adventures of a Curious Character\"</th>\n",
              "      <td>0.0</td>\n",
              "      <td>0.0</td>\n",
              "      <td>0.0</td>\n",
              "      <td>0.0</td>\n",
              "      <td>0.0</td>\n",
              "      <td>0.0</td>\n",
              "      <td>0.0</td>\n",
              "      <td>0.0</td>\n",
              "      <td>0.0</td>\n",
              "      <td>0.0</td>\n",
              "      <td>...</td>\n",
              "      <td>0.0</td>\n",
              "      <td>0.0</td>\n",
              "      <td>0.0</td>\n",
              "      <td>0.0</td>\n",
              "      <td>0.0</td>\n",
              "      <td>0.0</td>\n",
              "      <td>0.0</td>\n",
              "      <td>0.0</td>\n",
              "      <td>0.0</td>\n",
              "      <td>0.0</td>\n",
              "    </tr>\n",
              "    <tr>\n",
              "      <th>stardust</th>\n",
              "      <td>0.0</td>\n",
              "      <td>0.0</td>\n",
              "      <td>0.0</td>\n",
              "      <td>0.0</td>\n",
              "      <td>0.0</td>\n",
              "      <td>0.0</td>\n",
              "      <td>0.0</td>\n",
              "      <td>0.0</td>\n",
              "      <td>0.0</td>\n",
              "      <td>0.0</td>\n",
              "      <td>...</td>\n",
              "      <td>0.0</td>\n",
              "      <td>0.0</td>\n",
              "      <td>0.0</td>\n",
              "      <td>0.0</td>\n",
              "      <td>0.0</td>\n",
              "      <td>0.0</td>\n",
              "      <td>0.0</td>\n",
              "      <td>0.0</td>\n",
              "      <td>0.0</td>\n",
              "      <td>0.0</td>\n",
              "    </tr>\n",
              "  </tbody>\n",
              "</table>\n",
              "<p>2444 rows × 47994 columns</p>\n",
              "</div>\n",
              "      <button class=\"colab-df-convert\" onclick=\"convertToInteractive('df-e369e3d6-d8ee-47f2-bcb8-f11950d8a887')\"\n",
              "              title=\"Convert this dataframe to an interactive table.\"\n",
              "              style=\"display:none;\">\n",
              "        \n",
              "  <svg xmlns=\"http://www.w3.org/2000/svg\" height=\"24px\"viewBox=\"0 0 24 24\"\n",
              "       width=\"24px\">\n",
              "    <path d=\"M0 0h24v24H0V0z\" fill=\"none\"/>\n",
              "    <path d=\"M18.56 5.44l.94 2.06.94-2.06 2.06-.94-2.06-.94-.94-2.06-.94 2.06-2.06.94zm-11 1L8.5 8.5l.94-2.06 2.06-.94-2.06-.94L8.5 2.5l-.94 2.06-2.06.94zm10 10l.94 2.06.94-2.06 2.06-.94-2.06-.94-.94-2.06-.94 2.06-2.06.94z\"/><path d=\"M17.41 7.96l-1.37-1.37c-.4-.4-.92-.59-1.43-.59-.52 0-1.04.2-1.43.59L10.3 9.45l-7.72 7.72c-.78.78-.78 2.05 0 2.83L4 21.41c.39.39.9.59 1.41.59.51 0 1.02-.2 1.41-.59l7.78-7.78 2.81-2.81c.8-.78.8-2.07 0-2.86zM5.41 20L4 18.59l7.72-7.72 1.47 1.35L5.41 20z\"/>\n",
              "  </svg>\n",
              "      </button>\n",
              "      \n",
              "  <style>\n",
              "    .colab-df-container {\n",
              "      display:flex;\n",
              "      flex-wrap:wrap;\n",
              "      gap: 12px;\n",
              "    }\n",
              "\n",
              "    .colab-df-convert {\n",
              "      background-color: #E8F0FE;\n",
              "      border: none;\n",
              "      border-radius: 50%;\n",
              "      cursor: pointer;\n",
              "      display: none;\n",
              "      fill: #1967D2;\n",
              "      height: 32px;\n",
              "      padding: 0 0 0 0;\n",
              "      width: 32px;\n",
              "    }\n",
              "\n",
              "    .colab-df-convert:hover {\n",
              "      background-color: #E2EBFA;\n",
              "      box-shadow: 0px 1px 2px rgba(60, 64, 67, 0.3), 0px 1px 3px 1px rgba(60, 64, 67, 0.15);\n",
              "      fill: #174EA6;\n",
              "    }\n",
              "\n",
              "    [theme=dark] .colab-df-convert {\n",
              "      background-color: #3B4455;\n",
              "      fill: #D2E3FC;\n",
              "    }\n",
              "\n",
              "    [theme=dark] .colab-df-convert:hover {\n",
              "      background-color: #434B5C;\n",
              "      box-shadow: 0px 1px 3px 1px rgba(0, 0, 0, 0.15);\n",
              "      filter: drop-shadow(0px 1px 2px rgba(0, 0, 0, 0.3));\n",
              "      fill: #FFFFFF;\n",
              "    }\n",
              "  </style>\n",
              "\n",
              "      <script>\n",
              "        const buttonEl =\n",
              "          document.querySelector('#df-e369e3d6-d8ee-47f2-bcb8-f11950d8a887 button.colab-df-convert');\n",
              "        buttonEl.style.display =\n",
              "          google.colab.kernel.accessAllowed ? 'block' : 'none';\n",
              "\n",
              "        async function convertToInteractive(key) {\n",
              "          const element = document.querySelector('#df-e369e3d6-d8ee-47f2-bcb8-f11950d8a887');\n",
              "          const dataTable =\n",
              "            await google.colab.kernel.invokeFunction('convertToInteractive',\n",
              "                                                     [key], {});\n",
              "          if (!dataTable) return;\n",
              "\n",
              "          const docLinkHtml = 'Like what you see? Visit the ' +\n",
              "            '<a target=\"_blank\" href=https://colab.research.google.com/notebooks/data_table.ipynb>data table notebook</a>'\n",
              "            + ' to learn more about interactive tables.';\n",
              "          element.innerHTML = '';\n",
              "          dataTable['output_type'] = 'display_data';\n",
              "          await google.colab.output.renderOutput(dataTable, element);\n",
              "          const docLink = document.createElement('div');\n",
              "          docLink.innerHTML = docLinkHtml;\n",
              "          element.appendChild(docLink);\n",
              "        }\n",
              "      </script>\n",
              "    </div>\n",
              "  </div>\n",
              "  "
            ]
          },
          "metadata": {},
          "execution_count": 79
        }
      ]
    },
    {
      "cell_type": "code",
      "source": [
        "from scipy.sparse import csr_matrix "
      ],
      "metadata": {
        "id": "qYnxPTo1hOMP"
      },
      "execution_count": 80,
      "outputs": []
    },
    {
      "cell_type": "code",
      "source": [
        "#csr is compressed sparse matrix since there are lots of NAn-->0\n",
        "book_sparse = csr_matrix(pivot_matrix)"
      ],
      "metadata": {
        "id": "bCRHpd5ahCRe"
      },
      "execution_count": 81,
      "outputs": []
    },
    {
      "cell_type": "markdown",
      "source": [
        "**KNN ( k-Nearest Neighbors)**"
      ],
      "metadata": {
        "id": "K6SPwUA6HU_j"
      }
    },
    {
      "cell_type": "code",
      "source": [
        "from sklearn.neighbors import NearestNeighbors"
      ],
      "metadata": {
        "id": "8OtsZyTchFV_"
      },
      "execution_count": 82,
      "outputs": []
    },
    {
      "cell_type": "code",
      "source": [
        "# metric used for evaluation is cosine and algorithm is brute\n",
        "model = NearestNeighbors(metric = 'cosine',algorithm='brute')"
      ],
      "metadata": {
        "id": "dx8wN-8Qh7s4"
      },
      "execution_count": 83,
      "outputs": []
    },
    {
      "cell_type": "code",
      "source": [
        "#Let's fit the model \n",
        "model.fit(book_sparse)"
      ],
      "metadata": {
        "colab": {
          "base_uri": "https://localhost:8080/"
        },
        "id": "XX_x8Mf6h8a1",
        "outputId": "c3bf0a35-8257-4fca-842f-90a1f01e15a7"
      },
      "execution_count": 84,
      "outputs": [
        {
          "output_type": "execute_result",
          "data": {
            "text/plain": [
              "NearestNeighbors(algorithm='brute', metric='cosine')"
            ]
          },
          "metadata": {},
          "execution_count": 84
        }
      ]
    },
    {
      "cell_type": "code",
      "source": [
        "#Generating random book indices out of the book_matrix\n",
        "random_book = np.random.choice(pivot_matrix.shape[0])\n",
        "print(random_book)\n",
        "print(pivot_matrix.iloc[random_book,:].values.reshape(1,-1))\n",
        "#Apply the k neighbors to fiited model this will create clusters\n",
        "distances, indices = model.kneighbors(pivot_matrix.iloc[random_book,:].values.reshape(1, -1), n_neighbors = 6)\n",
        "pivot_matrix.index[random_book]"
      ],
      "metadata": {
        "colab": {
          "base_uri": "https://localhost:8080/",
          "height": 70
        },
        "id": "qNTJAFnKh_Tc",
        "outputId": "45560211-d69c-467d-ac7c-43deb58d275a"
      },
      "execution_count": 85,
      "outputs": [
        {
          "output_type": "stream",
          "name": "stdout",
          "text": [
            "1676\n",
            "[[0. 0. 0. ... 0. 0. 0.]]\n"
          ]
        },
        {
          "output_type": "execute_result",
          "data": {
            "text/plain": [
              "'The Amazing Adventures of Kavalier &amp; Clay'"
            ],
            "application/vnd.google.colaboratory.intrinsic+json": {
              "type": "string"
            }
          },
          "metadata": {},
          "execution_count": 85
        }
      ]
    },
    {
      "cell_type": "code",
      "source": [
        "#Printing the random book name and suggested books.\n",
        "for i in range(0, len(distances.flatten())):\n",
        "    if i == 0:\n",
        "        print('Recommendations for {0}:\\n'.format(pivot_matrix.index[random_book]))\n",
        "    else:\n",
        "        print('{0}: {1}, with distance of {2}'.format(i, pivot_matrix.index[indices.flatten()[i]], distances.flatten()[i]))"
      ],
      "metadata": {
        "colab": {
          "base_uri": "https://localhost:8080/"
        },
        "id": "W59hauEniBoe",
        "outputId": "e419a302-7fed-4a8a-c68b-09ec7a116dbe"
      },
      "execution_count": 86,
      "outputs": [
        {
          "output_type": "stream",
          "name": "stdout",
          "text": [
            "Recommendations for The Amazing Adventures of Kavalier &amp; Clay:\n",
            "\n",
            "1: Prague : A Novel, with distance of 0.9028114485337484\n",
            "2: Breakfast of Champions, with distance of 0.9035671277492583\n",
            "3: Waiting (Vintage International), with distance of 0.9167544573788982\n",
            "4: Bel Canto, with distance of 0.917492002633621\n",
            "5: Second Nature, with distance of 0.9201401943988903\n"
          ]
        }
      ]
    },
    {
      "cell_type": "code",
      "source": [
        "#Function to get recommendation for known books from our dataset.\n",
        "def recommend_books(book_name):\n",
        "   book_id = np.where(pivot_matrix.index==book_name)[0][0]\n",
        "   print(book_id)\n",
        "   distances ,suggestions = model.kneighbors(pivot_matrix.iloc[book_id,:].values.reshape(1,-1),n_neighbors = 6)\n",
        "   \n",
        "   for i in range(0, len(distances.flatten())):\n",
        "    if i == 0:\n",
        "        print('Recommendations for {0}:\\n'.format(pivot_matrix.index[book_id]))\n",
        "    else:\n",
        "        print('{0}: {1}, with distance of {2}:'.format(i, pivot_matrix.index[suggestions.flatten()[i]], distances.flatten()[i]))"
      ],
      "metadata": {
        "id": "qTBS1Ik5iFif"
      },
      "execution_count": 87,
      "outputs": []
    },
    {
      "cell_type": "code",
      "source": [
        "#Let's try to get recommandation for book 'The Hobbit'\n",
        "recommend_books('Roses Are Red')"
      ],
      "metadata": {
        "colab": {
          "base_uri": "https://localhost:8080/"
        },
        "id": "i1eDLfAQiJWE",
        "outputId": "924dc17e-e4c2-40fc-f4e8-1f31feb04916"
      },
      "execution_count": 88,
      "outputs": [
        {
          "output_type": "stream",
          "name": "stdout",
          "text": [
            "1431\n",
            "Recommendations for Roses Are Red:\n",
            "\n",
            "1: Pop Goes the Weasel, with distance of 0.8338442818714958:\n",
            "2: Mixed Blessings, with distance of 0.8423098773907557:\n",
            "3: 2nd Chance, with distance of 0.8455869211793992:\n",
            "4: Violets Are Blue, with distance of 0.8531466501755216:\n",
            "5: Dust to Dust, with distance of 0.8582457557668258:\n"
          ]
        }
      ]
    },
    {
      "cell_type": "markdown",
      "source": [
        "SVD(singular Value Decomposition)"
      ],
      "metadata": {
        "id": "EtKuZ0YtD3i7"
      }
    },
    {
      "cell_type": "code",
      "source": [
        " !pip install surprise"
      ],
      "metadata": {
        "colab": {
          "base_uri": "https://localhost:8080/"
        },
        "id": "bK7mYJREsnsE",
        "outputId": "a8f63442-c2b0-45c6-d157-86a3e7ea384f"
      },
      "execution_count": 91,
      "outputs": [
        {
          "output_type": "stream",
          "name": "stdout",
          "text": [
            "Looking in indexes: https://pypi.org/simple, https://us-python.pkg.dev/colab-wheels/public/simple/\n",
            "Collecting surprise\n",
            "  Downloading surprise-0.1-py2.py3-none-any.whl (1.8 kB)\n",
            "Collecting scikit-surprise\n",
            "  Downloading scikit-surprise-1.1.1.tar.gz (11.8 MB)\n",
            "\u001b[K     |████████████████████████████████| 11.8 MB 5.6 MB/s \n",
            "\u001b[?25hRequirement already satisfied: joblib>=0.11 in /usr/local/lib/python3.7/dist-packages (from scikit-surprise->surprise) (1.1.0)\n",
            "Requirement already satisfied: numpy>=1.11.2 in /usr/local/lib/python3.7/dist-packages (from scikit-surprise->surprise) (1.21.6)\n",
            "Requirement already satisfied: scipy>=1.0.0 in /usr/local/lib/python3.7/dist-packages (from scikit-surprise->surprise) (1.7.3)\n",
            "Requirement already satisfied: six>=1.10.0 in /usr/local/lib/python3.7/dist-packages (from scikit-surprise->surprise) (1.15.0)\n",
            "Building wheels for collected packages: scikit-surprise\n",
            "  Building wheel for scikit-surprise (setup.py) ... \u001b[?25l\u001b[?25hdone\n",
            "  Created wheel for scikit-surprise: filename=scikit_surprise-1.1.1-cp37-cp37m-linux_x86_64.whl size=1633983 sha256=ad1a19471357048c9a3181237e215043351d92240b36762da6f8711643409ec8\n",
            "  Stored in directory: /root/.cache/pip/wheels/76/44/74/b498c42be47b2406bd27994e16c5188e337c657025ab400c1c\n",
            "Successfully built scikit-surprise\n",
            "Installing collected packages: scikit-surprise, surprise\n",
            "Successfully installed scikit-surprise-1.1.1 surprise-0.1\n"
          ]
        }
      ]
    },
    {
      "cell_type": "code",
      "source": [
        "# # Importing Reader & Dataset from surprise\n",
        "# from surprise import Reader, Dataset\n",
        "# Creating a 'Reader' object to set the limit of the ratings \n",
        "from surprise import Reader,Dataset\n",
        "reader = Reader(rating_scale=(1, 10))\n",
        "# Loading our ratings_explicit data\n",
        "data = Dataset.load_from_df(ratings_explicit, reader)"
      ],
      "metadata": {
        "id": "vNxbWDTwtO84"
      },
      "execution_count": 92,
      "outputs": []
    },
    {
      "cell_type": "code",
      "source": [
        "\n",
        "data = Dataset.load_from_df(ratings_explicit, reader)"
      ],
      "metadata": {
        "id": "VlegzqWBiLSn"
      },
      "execution_count": 93,
      "outputs": []
    },
    {
      "cell_type": "code",
      "source": [
        "from surprise import SVD,model_selection,accuracy\n",
        "# Using the famous SVD algorithm\n",
        "model = SVD()\n",
        "\n",
        "# Train on explicit_rating dataset\n",
        "# Runing 5-fold cross-validation and print results\n",
        "%time model_selection.cross_validate(model, data, measures=['RMSE'], cv=5, verbose=True)"
      ],
      "metadata": {
        "colab": {
          "base_uri": "https://localhost:8080/"
        },
        "id": "pKR1QyM3s-kb",
        "outputId": "1cbfd0fa-d8ee-4f07-c3a8-de7fbceefb44"
      },
      "execution_count": 94,
      "outputs": [
        {
          "output_type": "stream",
          "name": "stdout",
          "text": [
            "Evaluating RMSE of algorithm SVD on 5 split(s).\n",
            "\n",
            "                  Fold 1  Fold 2  Fold 3  Fold 4  Fold 5  Mean    Std     \n",
            "RMSE (testset)    1.6380  1.6261  1.6449  1.6289  1.6467  1.6369  0.0083  \n",
            "Fit time          34.72   25.37   26.28   24.44   26.51   27.46   3.70    \n",
            "Test time         1.01    1.06    0.70    1.12    0.87    0.95    0.15    \n",
            "CPU times: user 2min 26s, sys: 637 ms, total: 2min 27s\n",
            "Wall time: 2min 34s\n"
          ]
        },
        {
          "output_type": "execute_result",
          "data": {
            "text/plain": [
              "{'test_rmse': array([1.63802895, 1.62607929, 1.6449157 , 1.62894794, 1.64670585]),\n",
              " 'fit_time': (34.724228858947754,\n",
              "  25.374587059020996,\n",
              "  26.276155710220337,\n",
              "  24.44111132621765,\n",
              "  26.505489349365234),\n",
              " 'test_time': (1.012345790863037,\n",
              "  1.061429500579834,\n",
              "  0.7042202949523926,\n",
              "  1.115379810333252,\n",
              "  0.8748912811279297)}"
            ]
          },
          "metadata": {},
          "execution_count": 94
        }
      ]
    },
    {
      "cell_type": "code",
      "source": [
        "# train test split on our data\n",
        "trainset, testset = model_selection.train_test_split(data, test_size=0.2)\n",
        "# creating svd model\n",
        "model = SVD()\n",
        "# Fit the model\n",
        "model.fit(trainset)\n",
        "# Predict the model on test data\n",
        "predictions = model.test(testset)\n",
        "# Evaluating model\n",
        "accuracy.rmse(predictions)\n"
      ],
      "metadata": {
        "colab": {
          "base_uri": "https://localhost:8080/"
        },
        "id": "K-XS1SJttl9D",
        "outputId": "4d3e6cc7-769e-4a7e-9fca-31228134435c"
      },
      "execution_count": 95,
      "outputs": [
        {
          "output_type": "stream",
          "name": "stdout",
          "text": [
            "RMSE: 1.6502\n"
          ]
        },
        {
          "output_type": "execute_result",
          "data": {
            "text/plain": [
              "1.6502139711030557"
            ]
          },
          "metadata": {},
          "execution_count": 95
        }
      ]
    },
    {
      "cell_type": "code",
      "source": [
        "# Taking an arbitrary user-id and item-id to test our model.\n",
        "uid = 276744  \n",
        "iid = '038550120X'\n",
        "pred = model.predict(uid, iid, verbose=True)"
      ],
      "metadata": {
        "colab": {
          "base_uri": "https://localhost:8080/"
        },
        "id": "26c7jF0OxE-w",
        "outputId": "881e7cdb-53ae-412f-f4f2-17bb810356ab"
      },
      "execution_count": 96,
      "outputs": [
        {
          "output_type": "stream",
          "name": "stdout",
          "text": [
            "user: 276744     item: 038550120X r_ui = None   est = 7.24   {'was_impossible': False}\n"
          ]
        }
      ]
    },
    {
      "cell_type": "code",
      "source": [
        "print(f'The estimated rating for the book with ISBN code {pred.iid} from user #{pred.uid} is {pred.est:.2f}.\\n')\n",
        "actual_rating= ratings_explicit[(ratings_explicit.user_id==pred.uid) & \n",
        "                             (ratings_explicit.ISBN==pred.iid)].rating.values[0]\n",
        "print(f'The real rating given for this was {actual_rating:.2f}.')"
      ],
      "metadata": {
        "colab": {
          "base_uri": "https://localhost:8080/"
        },
        "id": "gvnBnvOTxQc1",
        "outputId": "d1045f3d-205c-42c4-c5c3-8758b47c3d43"
      },
      "execution_count": 97,
      "outputs": [
        {
          "output_type": "stream",
          "name": "stdout",
          "text": [
            "The estimated rating for the book with ISBN code 038550120X from user #276744 is 7.24.\n",
            "\n",
            "The real rating given for this was 7.00.\n"
          ]
        }
      ]
    },
    {
      "cell_type": "code",
      "source": [
        "# The following function was adapted from the surprise docs\n",
        "# and can be used to get the top book recommendations for each user.\n",
        "from collections import defaultdict\n",
        "\n",
        "def get_top_n(predictions, n=10):\n",
        "    '''Return the top-N recommendation for each user from a set of predictions.\n",
        "\n",
        "    Args:\n",
        "        predictions(list of Prediction objects): The list of predictions, as\n",
        "            returned by the test method of an algorithm.\n",
        "        n(int): The number of recommendation to output for each user. Default\n",
        "            is 10.\n",
        "\n",
        "    Returns:\n",
        "    A dict where keys are user (raw) ids and values are lists of tuples:\n",
        "        [(raw item id, rating estimation), ...] of size n.\n",
        "    '''\n",
        "\n",
        "    # First map the predictions to each user.\n",
        "    \n",
        "    top_n = defaultdict(list)\n",
        "    for uid, iid, true_r, est, _ in predictions:\n",
        "        top_n[uid].append((iid, est))\n",
        "\n",
        "    # Then sort the predictions for each user and retrieve the k highest ones.\n",
        "    \n",
        "    for uid, user_ratings in top_n.items():\n",
        "        user_ratings.sort(key=lambda x: x[1], reverse=True)\n",
        "        top_n[uid] = user_ratings[:n]\n",
        "        \n",
        "    return top_n"
      ],
      "metadata": {
        "id": "T06SuXSkxU9I"
      },
      "execution_count": 98,
      "outputs": []
    },
    {
      "cell_type": "code",
      "source": [
        "# Predicting modelon testset\n",
        "pred = model.test(testset)\n",
        "# top-N recommendation for each user from a set of predictions\n",
        "top_n = get_top_n(pred)"
      ],
      "metadata": {
        "id": "kViwqomdxXs7"
      },
      "execution_count": 99,
      "outputs": []
    },
    {
      "cell_type": "code",
      "source": [
        "#Function to get recommandation by giving user-id as input.\n",
        "def get_reading_list(userid):\n",
        "    \"\"\"\n",
        "    Retrieve full book titles from full 'books_users_ratings' dataframe\n",
        "    \"\"\"\n",
        "    reading_list = defaultdict(list)\n",
        "    top_n = get_top_n(pred, n=10)\n",
        "    for n in top_n[userid]:\n",
        "        book, rating = n\n",
        "        title_ = new_book.loc[new_book.ISBN==book].title.unique()[0]\n",
        "        reading_list[title_] = rating\n",
        "    return reading_list"
      ],
      "metadata": {
        "id": "-NnIwz3axZib"
      },
      "execution_count": 100,
      "outputs": []
    },
    {
      "cell_type": "code",
      "source": [
        "# Just picking a random user_id=116866\n",
        "example_reading_list = get_reading_list(userid = 116866)\n",
        "for book, rating in example_reading_list.items():\n",
        "    print(f'{book}: {rating}')"
      ],
      "metadata": {
        "id": "TPRXFHmxxbne",
        "outputId": "821580e6-3ce1-4f6b-f532-46875a688286",
        "colab": {
          "base_uri": "https://localhost:8080/"
        }
      },
      "execution_count": 101,
      "outputs": [
        {
          "output_type": "stream",
          "name": "stdout",
          "text": [
            "The Flanders Panel: 8.431893570978774\n",
            "Prairyerth: (A Deep Map (A Deep Map): 8.372437182229243\n",
            "SHIPPING NEWS: 8.140966296121483\n",
            "The Man Who Tasted Shapes: A Bizarre Medical Mystery Offers Revolutionary Insights into Emotions, Reasoning, and Consciousness: 7.8998606603802966\n",
            "Lucy: The Beginnings of Humankind: 7.8997300503232575\n",
            "Full Spectrum 3: 7.8997300503232575\n",
            "Discrete Multivariate Analysis: Theory and Practice: 7.8997300503232575\n",
            "Statistics for Experimenters: An Introduction to Design, Data Analysis, and Model Building: 7.8997300503232575\n",
            "Granta 52: Food : The Vital Stuff: 7.8997300503232575\n",
            "River Why: 7.8997300503232575\n"
          ]
        }
      ]
    },
    {
      "cell_type": "code",
      "source": [
        ""
      ],
      "metadata": {
        "id": "CrlNPRtExddV"
      },
      "execution_count": null,
      "outputs": []
    },
    {
      "cell_type": "markdown",
      "source": [
        "Conclusion\n",
        "Recommendation system is unturned to exist in the e-commerce businesses with the help of collaborative or content-based filtering to predict different items and yes, users are most satisfied with the products recommended to them.\n",
        "\n",
        "As we have seen the age group between 30 to 40 reads the most books.\n",
        "\n",
        "We have removed the readers who did not give rating and then we found that most of the users gave 8 stars.\n",
        "\n",
        "KNN model gives good recommendation for books."
      ],
      "metadata": {
        "id": "F0r5OiKnHjuq"
      }
    },
    {
      "cell_type": "code",
      "source": [
        ""
      ],
      "metadata": {
        "id": "uJSCdDhPI92R"
      },
      "execution_count": null,
      "outputs": []
    }
  ]
}